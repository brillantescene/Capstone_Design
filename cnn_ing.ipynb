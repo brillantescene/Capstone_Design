{
  "nbformat": 4,
  "nbformat_minor": 0,
  "metadata": {
    "colab": {
      "name": "cnn_ing.ipynb",
      "provenance": [],
      "authorship_tag": "ABX9TyOKhId6f0BlecYbvgq5gtN8",
      "include_colab_link": true
    },
    "kernelspec": {
      "name": "python3",
      "display_name": "Python 3"
    },
    "accelerator": "GPU"
  },
  "cells": [
    {
      "cell_type": "markdown",
      "metadata": {
        "id": "view-in-github",
        "colab_type": "text"
      },
      "source": [
        "<a href=\"https://colab.research.google.com/github/brillantescene/Capstone_Design/blob/master/cnn_ing.ipynb\" target=\"_parent\"><img src=\"https://colab.research.google.com/assets/colab-badge.svg\" alt=\"Open In Colab\"/></a>"
      ]
    },
    {
      "cell_type": "code",
      "metadata": {
        "id": "dpTZbKC1Z7jH",
        "colab_type": "code",
        "colab": {}
      },
      "source": [
        "import tensorflow as tf"
      ],
      "execution_count": 0,
      "outputs": []
    },
    {
      "cell_type": "code",
      "metadata": {
        "id": "cqihsPL5aceV",
        "colab_type": "code",
        "colab": {}
      },
      "source": [
        "AUTOTUNE = tf.data.experimental.AUTOTUNE\n",
        "import IPython.display as display\n",
        "from PIL import Image\n",
        "import numpy as np\n",
        "import matplotlib.pyplot as plt\n",
        "import os"
      ],
      "execution_count": 0,
      "outputs": []
    },
    {
      "cell_type": "code",
      "metadata": {
        "id": "V2cVUHtnIR8x",
        "colab_type": "code",
        "colab": {
          "base_uri": "https://localhost:8080/",
          "height": 34
        },
        "outputId": "e2f32859-f7b9-4c85-c8c3-07b1d825e5d3"
      },
      "source": [
        "from tensorflow import keras #import keras\n",
        "from tensorflow.keras import Model\n",
        "from keras import optimizers\n",
        "from tensorflow.keras.utils import to_categorical\n",
        "from tensorflow.keras.layers import Dense, Flatten, Conv2D, Dropout, MaxPool2D"
      ],
      "execution_count": 3,
      "outputs": [
        {
          "output_type": "stream",
          "text": [
            "Using TensorFlow backend.\n"
          ],
          "name": "stderr"
        }
      ]
    },
    {
      "cell_type": "code",
      "metadata": {
        "id": "v3lvAw2x_Vf1",
        "colab_type": "code",
        "colab": {}
      },
      "source": [
        "from keras.callbacks import EarlyStopping\n",
        "from keras.callbacks import ModelCheckpoint"
      ],
      "execution_count": 0,
      "outputs": []
    },
    {
      "cell_type": "code",
      "metadata": {
        "id": "-sFsbh-saeHa",
        "colab_type": "code",
        "colab": {}
      },
      "source": [
        "import pathlib"
      ],
      "execution_count": 0,
      "outputs": []
    },
    {
      "cell_type": "code",
      "metadata": {
        "id": "Nem5TSq7UpKm",
        "colab_type": "code",
        "colab": {
          "base_uri": "https://localhost:8080/",
          "height": 72
        },
        "outputId": "58e300cf-cca3-42f4-ad0b-2be91e8528b0"
      },
      "source": [
        "data_dir = tf.keras.utils.get_file(origin='https://github.com/CapstoneDesign2020/machineLearning/raw/master/dataPreprocessing/images.tgz', \n",
        "                                   fname='acoustic_images', extract=True)\n",
        "data_dir = pathlib.Path(data_dir)"
      ],
      "execution_count": 6,
      "outputs": [
        {
          "output_type": "stream",
          "text": [
            "Downloading data from https://github.com/CapstoneDesign2020/machineLearning/raw/master/dataPreprocessing/images.tgz\n",
            "4161536/4156416 [==============================] - 0s 0us/step\n"
          ],
          "name": "stdout"
        }
      ]
    },
    {
      "cell_type": "code",
      "metadata": {
        "id": "8KHpiahFeCt3",
        "colab_type": "code",
        "colab": {}
      },
      "source": [
        "data_dir = pathlib.PosixPath(\"/root/.keras/datasets/images\")"
      ],
      "execution_count": 0,
      "outputs": []
    },
    {
      "cell_type": "code",
      "metadata": {
        "id": "dnLszM4OUpWx",
        "colab_type": "code",
        "outputId": "401ef698-16e0-40a1-b04e-9c870271d6b8",
        "colab": {
          "base_uri": "https://localhost:8080/",
          "height": 34
        }
      },
      "source": [
        "print(data_dir)"
      ],
      "execution_count": 8,
      "outputs": [
        {
          "output_type": "stream",
          "text": [
            "/root/.keras/datasets/images\n"
          ],
          "name": "stdout"
        }
      ]
    },
    {
      "cell_type": "code",
      "metadata": {
        "id": "zb-0E4I_U2tr",
        "colab_type": "code",
        "outputId": "ee33bfd3-1135-4173-b4fa-3c70c27f75b1",
        "colab": {
          "base_uri": "https://localhost:8080/",
          "height": 34
        }
      },
      "source": [
        "image_count = len(list(data_dir.glob('*/*.png')))\n",
        "image_count"
      ],
      "execution_count": 9,
      "outputs": [
        {
          "output_type": "execute_result",
          "data": {
            "text/plain": [
              "200"
            ]
          },
          "metadata": {
            "tags": []
          },
          "execution_count": 9
        }
      ]
    },
    {
      "cell_type": "code",
      "metadata": {
        "id": "zBe2LmjWA2-p",
        "colab_type": "code",
        "colab": {
          "base_uri": "https://localhost:8080/",
          "height": 52
        },
        "outputId": "9d882da6-a0a4-4d5c-b1fe-9c44c1b95f66"
      },
      "source": [
        "CLASS_NAMES = np.array([item.name for item in data_dir.glob('*')])\n",
        "CLASS_NAMES"
      ],
      "execution_count": 10,
      "outputs": [
        {
          "output_type": "execute_result",
          "data": {
            "text/plain": [
              "array(['clock_alarm', 'vacuum_cleaner', 'door_knock', 'baby_crying',\n",
              "       'toilet_flush'], dtype='<U14')"
            ]
          },
          "metadata": {
            "tags": []
          },
          "execution_count": 10
        }
      ]
    },
    {
      "cell_type": "code",
      "metadata": {
        "id": "nqHUnO7SA3D2",
        "colab_type": "code",
        "colab": {}
      },
      "source": [
        "list_ds = tf.data.Dataset.list_files(str(data_dir/'*/*'))"
      ],
      "execution_count": 0,
      "outputs": []
    },
    {
      "cell_type": "code",
      "metadata": {
        "id": "sweMPoW8A3G9",
        "colab_type": "code",
        "colab": {
          "base_uri": "https://localhost:8080/",
          "height": 105
        },
        "outputId": "0e96e2cf-b8b4-4180-a424-9647c5cd60ba"
      },
      "source": [
        "for f in list_ds.take(5):\n",
        "  print(f.numpy())"
      ],
      "execution_count": 12,
      "outputs": [
        {
          "output_type": "stream",
          "text": [
            "b'/root/.keras/datasets/images/clock_alarm/0-19.png'\n",
            "b'/root/.keras/datasets/images/baby_crying/2-12.png'\n",
            "b'/root/.keras/datasets/images/door_knock/3-36.png'\n",
            "b'/root/.keras/datasets/images/toilet_flush/4-3.png'\n",
            "b'/root/.keras/datasets/images/door_knock/3-15.png'\n"
          ],
          "name": "stdout"
        }
      ]
    },
    {
      "cell_type": "code",
      "metadata": {
        "id": "-466UMvqjZy4",
        "colab_type": "code",
        "colab": {}
      },
      "source": [
        "learning_rate = 0.001\n",
        "training_epochs = 100\n",
        "BATCH_SIZE = 4\n",
        "IMG_HEIGHT = 224\n",
        "IMG_WIDTH = 224\n",
        "STEPS_PER_EPOCH = np.ceil(image_count/BATCH_SIZE)"
      ],
      "execution_count": 0,
      "outputs": []
    },
    {
      "cell_type": "code",
      "metadata": {
        "id": "toY5Dc4jA3NG",
        "colab_type": "code",
        "colab": {}
      },
      "source": [
        "def get_label(file_path):\n",
        "  parts = tf.strings.split(file_path, os.path.sep)\n",
        "  return parts[-2] == CLASS_NAMES"
      ],
      "execution_count": 0,
      "outputs": []
    },
    {
      "cell_type": "code",
      "metadata": {
        "id": "fsRR3llDA3QP",
        "colab_type": "code",
        "colab": {}
      },
      "source": [
        "def decode_img(img):\n",
        "  img = tf.image.decode_png(img, channels=3)\n",
        "  img = tf.image.convert_image_dtype(img, tf.float32)\n",
        "  return tf.image.resize(img, [IMG_WIDTH, IMG_HEIGHT])"
      ],
      "execution_count": 0,
      "outputs": []
    },
    {
      "cell_type": "code",
      "metadata": {
        "id": "NE6-d5_XA3LG",
        "colab_type": "code",
        "colab": {}
      },
      "source": [
        "def process_path(file_path):\n",
        "  label = get_label(file_path)\n",
        "  img = tf.io.read_file(file_path)\n",
        "  img = decode_img(img)\n",
        "  return img, label"
      ],
      "execution_count": 0,
      "outputs": []
    },
    {
      "cell_type": "markdown",
      "metadata": {
        "id": "1PhQBMVGi7yx",
        "colab_type": "text"
      },
      "source": [
        "`image, label` 쌍 데이터셋 만들기 위해 `Dataset.map`사용하기"
      ]
    },
    {
      "cell_type": "code",
      "metadata": {
        "id": "bx0S5tVpi6sU",
        "colab_type": "code",
        "colab": {}
      },
      "source": [
        "labeled_ds = list_ds.map(process_path, num_parallel_calls=AUTOTUNE)"
      ],
      "execution_count": 0,
      "outputs": []
    },
    {
      "cell_type": "code",
      "metadata": {
        "id": "f2J0bVu69-wA",
        "colab_type": "code",
        "colab": {
          "base_uri": "https://localhost:8080/",
          "height": 52
        },
        "outputId": "276254e3-988b-4787-9b29-6686c6b636c0"
      },
      "source": [
        "print(type(labeled_ds))\n",
        "print(labeled_ds)"
      ],
      "execution_count": 18,
      "outputs": [
        {
          "output_type": "stream",
          "text": [
            "<class 'tensorflow.python.data.ops.dataset_ops.ParallelMapDataset'>\n",
            "<ParallelMapDataset shapes: ((224, 224, 3), (5,)), types: (tf.float32, tf.bool)>\n"
          ],
          "name": "stdout"
        }
      ]
    },
    {
      "cell_type": "code",
      "metadata": {
        "id": "v9USZoENjjey",
        "colab_type": "code",
        "colab": {
          "base_uri": "https://localhost:8080/",
          "height": 52
        },
        "outputId": "1f5604b0-71c9-4f7e-e6a2-3c02bd31afa5"
      },
      "source": [
        "for image, label in labeled_ds.take(1):\n",
        "  print(\"Image shape: \", image.numpy().shape)\n",
        "  print(\"Label: \", label.numpy())"
      ],
      "execution_count": 19,
      "outputs": [
        {
          "output_type": "stream",
          "text": [
            "Image shape:  (224, 224, 3)\n",
            "Label:  [False False  True False False]\n"
          ],
          "name": "stdout"
        }
      ]
    },
    {
      "cell_type": "code",
      "metadata": {
        "id": "Qwcws5Q0-dt-",
        "colab_type": "code",
        "colab": {}
      },
      "source": [
        "def prepare_for_training(ds, cache=True, shuffle_buffer_size=1000):\n",
        "  # This is a small dataset, only load it once, and keep it in memory.\n",
        "  # use `.cache(filename)` to cache preprocessing work for datasets that don't\n",
        "  # fit in memory.\n",
        "  if cache:\n",
        "    if isinstance(cache, str):\n",
        "      ds = ds.cache(cache)\n",
        "    else:\n",
        "      ds = ds.cache()\n",
        "\n",
        "  ds = ds.shuffle(buffer_size=shuffle_buffer_size)\n",
        "\n",
        "  # Repeat forever\n",
        "  ds = ds.repeat()\n",
        "\n",
        "  ds = ds.batch(BATCH_SIZE)\n",
        "\n",
        "  # `prefetch` lets the dataset fetch batches in the background while the model\n",
        "  # is training.\n",
        "  ds = ds.prefetch(buffer_size=AUTOTUNE)\n",
        "\n",
        "  return ds"
      ],
      "execution_count": 0,
      "outputs": []
    },
    {
      "cell_type": "code",
      "metadata": {
        "id": "jVkKCv_X-h0c",
        "colab_type": "code",
        "colab": {}
      },
      "source": [
        "train_ds = prepare_for_training(labeled_ds)\n",
        "\n",
        "image_batch, label_batch = next(iter(train_ds))"
      ],
      "execution_count": 0,
      "outputs": []
    },
    {
      "cell_type": "code",
      "metadata": {
        "id": "wp1k6_bJ9PUX",
        "colab_type": "code",
        "colab": {
          "base_uri": "https://localhost:8080/",
          "height": 52
        },
        "outputId": "b67a4fa5-86dd-4424-bcbf-cbbd20f5e22a"
      },
      "source": [
        "for image_batch, labels_batch in train_ds:\n",
        "  print('batch data size:', image_batch.shape)\n",
        "  print('batch label size:', labels_batch.shape)\n",
        "  break  "
      ],
      "execution_count": 22,
      "outputs": [
        {
          "output_type": "stream",
          "text": [
            "batch data size: (4, 224, 224, 3)\n",
            "batch label size: (4, 5)\n"
          ],
          "name": "stdout"
        }
      ]
    },
    {
      "cell_type": "code",
      "metadata": {
        "id": "GNJk3v7b-rbI",
        "colab_type": "code",
        "colab": {}
      },
      "source": [
        "#def show_batch(image_batch, label_batch):\n",
        "#  plt.figure(figsize=(10,10))\n",
        "#  for n in range(25):\n",
        "#      ax = plt.subplot(5,5,n+1)\n",
        "#      plt.imshow(image_batch[n])\n",
        "#      plt.title(CLASS_NAMES[label_batch[n]==1][0].title())\n",
        "#      plt.axis('off')"
      ],
      "execution_count": 0,
      "outputs": []
    },
    {
      "cell_type": "code",
      "metadata": {
        "id": "yfUS9Dou-kfW",
        "colab_type": "code",
        "colab": {}
      },
      "source": [
        "#show_batch(image_batch.numpy(), label_batch.numpy())"
      ],
      "execution_count": 0,
      "outputs": []
    },
    {
      "cell_type": "code",
      "metadata": {
        "id": "HEXB6uQr_o3-",
        "colab_type": "code",
        "colab": {}
      },
      "source": [
        "val_ds = prepare_for_training(labeled_ds)"
      ],
      "execution_count": 0,
      "outputs": []
    },
    {
      "cell_type": "code",
      "metadata": {
        "id": "8YCINp_v8twW",
        "colab_type": "code",
        "colab": {}
      },
      "source": [
        "val_image_batch, val_label_batch = next(iter(val_ds))"
      ],
      "execution_count": 0,
      "outputs": []
    },
    {
      "cell_type": "code",
      "metadata": {
        "id": "tZSeLFEo82RL",
        "colab_type": "code",
        "colab": {}
      },
      "source": [
        "#show_batch(test_image_batch.numpy(), test_label_batch.numpy())"
      ],
      "execution_count": 0,
      "outputs": []
    },
    {
      "cell_type": "code",
      "metadata": {
        "id": "J7y3R3WguycR",
        "colab_type": "code",
        "colab": {}
      },
      "source": [
        "class AcousticSoundModel(tf.keras.Model):\n",
        "    def __init__(self):\n",
        "        super(AcousticSoundModel, self).__init__()\n",
        "        self.conv1 = Conv2D(filters=64, kernel_size=[3, 3], padding='SAME', activation=tf.nn.relu)\n",
        "        self.drop1 = Dropout(rate=0.2)\n",
        "        self.pool1 = MaxPool2D(padding='SAME') ###### pooling 2x2. stride는 표기 x, 확인 ######\n",
        "        \n",
        "        self.conv2 = Conv2D(filters=64, kernel_size=[3, 3], padding='SAME', activation=tf.nn.relu)\n",
        "        self.drop2 = Dropout(rate=0.2) #20% dropout\n",
        "        self.pool2 = MaxPool2D(padding='SAME')\n",
        "        \n",
        "        self.conv3 = Conv2D(filters=64, kernel_size=[3, 3], padding='SAME', activation=tf.nn.relu)\n",
        "        self.drop3 = Dropout(rate=0.2) #20% dropout\n",
        "        self.pool3 = MaxPool2D(padding='SAME')\n",
        "        \n",
        "        self.pool3_flat = keras.layers.Flatten()\n",
        "        self.dense4 = Dense(units=128, activation=tf.nn.relu)\n",
        "        self.dense5 = Dense(units=5, activation=tf.nn.sigmoid) ### 일단 5. class 개수 추가되는 대로 변경\n",
        "        \n",
        "    def call(self, inputs, training=False):\n",
        "        net = self.conv1(inputs)\n",
        "        net = self.drop1(net)\n",
        "        net = self.pool1(net)\n",
        "        \n",
        "        net = self.conv2(net)\n",
        "        net = self.drop2(net)\n",
        "        net = self.pool2(net)\n",
        "        \n",
        "        net = self.conv3(net)\n",
        "        net = self.drop3(net)\n",
        "        net = self.pool3(net)\n",
        "        \n",
        "        net = self.pool3_flat(net)\n",
        "        net = self.dense4(net)\n",
        "        net = self.dense5(net)\n",
        "        return net"
      ],
      "execution_count": 0,
      "outputs": []
    },
    {
      "cell_type": "code",
      "metadata": {
        "id": "TyyCrX1wH_Rn",
        "colab_type": "code",
        "colab": {}
      },
      "source": [
        "model = AcousticSoundModel()"
      ],
      "execution_count": 0,
      "outputs": []
    },
    {
      "cell_type": "code",
      "metadata": {
        "id": "gPOJcmo9AYZb",
        "colab_type": "code",
        "colab": {}
      },
      "source": [
        "model.compile(loss='categorical_crossentropy',\n",
        "              optimizer=keras.optimizers.Adam(lr=learning_rate),\n",
        "              metrics=['acc'])"
      ],
      "execution_count": 0,
      "outputs": []
    },
    {
      "cell_type": "code",
      "metadata": {
        "id": "XpwE1c7b_noF",
        "colab_type": "code",
        "colab": {}
      },
      "source": [
        "es = EarlyStopping(monitor='val_loss', mode='min', verbose=1, patience=10)"
      ],
      "execution_count": 0,
      "outputs": []
    },
    {
      "cell_type": "code",
      "metadata": {
        "id": "sItLd2TjADMF",
        "colab_type": "code",
        "colab": {}
      },
      "source": [
        "mc = ModelCheckpoint('best_model.h5', monitor='val_loss', mode='min', save_best_only=True)"
      ],
      "execution_count": 0,
      "outputs": []
    },
    {
      "cell_type": "code",
      "metadata": {
        "id": "ujEWoqNnFDDp",
        "colab_type": "code",
        "colab": {}
      },
      "source": [
        "history = model.fit_generator(\n",
        "      train_ds,\n",
        "      steps_per_epoch=25, # batch크기 4, 전체 200개 샘플이니까 25\n",
        "      epochs=training_epochs,\n",
        "      validation_data=val_ds,\n",
        "      validation_steps=12,\n",
        "      callbacks=[early_stopping, mc])"
      ],
      "execution_count": 0,
      "outputs": []
    },
    {
      "cell_type": "code",
      "metadata": {
        "id": "CA7H_I-rFDHZ",
        "colab_type": "code",
        "colab": {}
      },
      "source": [
        "model.save_weights('images_small_2', save_format='tf')"
      ],
      "execution_count": 0,
      "outputs": []
    },
    {
      "cell_type": "code",
      "metadata": {
        "id": "-dZByyRV_htE",
        "colab_type": "code",
        "colab": {}
      },
      "source": [
        "acc = history.history['acc']\n",
        "val_acc = history.history['val_acc']\n",
        "loss = history.history['loss']\n",
        "val_loss = history.history['val_loss']\n",
        "\n",
        "epochs = range(len(acc))\n",
        "\n",
        "plt.plot(epochs, acc, 'bo', label='Training acc')\n",
        "plt.plot(epochs, val_acc, 'b', label='Validation acc')\n",
        "plt.title('Training and validation accuracy')\n",
        "plt.legend()\n",
        "\n",
        "plt.figure()\n",
        "\n",
        "plt.plot(epochs, loss, 'bo', label='Training loss')\n",
        "plt.plot(epochs, val_loss, 'b', label='Validation loss')\n",
        "plt.title('Training and validation loss')\n",
        "plt.legend()\n",
        "\n",
        "plt.show()"
      ],
      "execution_count": 0,
      "outputs": []
    },
    {
      "cell_type": "code",
      "metadata": {
        "id": "ume5AnKPAYSn",
        "colab_type": "code",
        "colab": {}
      },
      "source": [
        "#history = model.fit_generator(\n",
        "#      train_generator,\n",
        "#      steps_per_epoch=25, # batch크기 4, 전체 200개 샘플이니까 25\n",
        "#      epochs=training_epochs,\n",
        "#      validation_data=validation_generator,\n",
        "#      validation_steps=12)"
      ],
      "execution_count": 0,
      "outputs": []
    },
    {
      "cell_type": "code",
      "metadata": {
        "id": "arih6Uuo6mWt",
        "colab_type": "code",
        "colab": {}
      },
      "source": [
        "# Explore your VM\n",
        "#!ls -la /\n",
        "# Find disk space and RAM space\n",
        "#!df -h\n",
        "#!free -m\n",
        "\n",
        "#What OS is your VM using:\n",
        "#!cat /etc/os-release"
      ],
      "execution_count": 0,
      "outputs": []
    },
    {
      "cell_type": "code",
      "metadata": {
        "id": "nVmPr9dBYX-N",
        "colab_type": "code",
        "colab": {}
      },
      "source": [
        "#!ls  /root/.keras/datasets/"
      ],
      "execution_count": 0,
      "outputs": []
    },
    {
      "cell_type": "code",
      "metadata": {
        "id": "-8vhH9U0YaNI",
        "colab_type": "code",
        "colab": {}
      },
      "source": [
        "#!ls  /root/.keras/datasets/images.tar.gz/"
      ],
      "execution_count": 0,
      "outputs": []
    }
  ]
}