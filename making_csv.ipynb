{
 "cells": [
  {
   "cell_type": "code",
   "execution_count": 1,
   "metadata": {},
   "outputs": [],
   "source": [
    "import csv\n",
    "import os, os.path\n",
    "import glob"
   ]
  },
  {
   "cell_type": "code",
   "execution_count": 2,
   "metadata": {},
   "outputs": [
    {
     "name": "stdout",
     "output_type": "stream",
     "text": [
      "['dataset/water', 'dataset/motor', 'dataset/drop']\n"
     ]
    }
   ],
   "source": [
    "dir_list = glob.glob(os.path.join('dataset', '*'))\n",
    "print(dir_list)"
   ]
  },
  {
   "cell_type": "code",
   "execution_count": 3,
   "metadata": {},
   "outputs": [
    {
     "name": "stdout",
     "output_type": "stream",
     "text": [
      "1248\n",
      "1565\n",
      "1404\n"
     ]
    }
   ],
   "source": [
    "f = open('soundee_label_2.csv', 'w', encoding='utf-8')\n",
    "wr = csv.writer(f)\n",
    "wr.writerow([\"Img_name\", \"Class\"])\n",
    "for dir in dir_list:\n",
    "    file_list = list(glob.glob(dir+'/*.png', recursive=True))\n",
    "    count = len(file_list)\n",
    "    dir = dir.replace(\"dataset/\", \"\")\n",
    "    print(count)\n",
    "    for file in file_list:\n",
    "        wr.writerow([file, dir])\n",
    "f.close()"
   ]
  },
  {
   "cell_type": "code",
   "execution_count": null,
   "metadata": {},
   "outputs": [],
   "source": []
  }
 ],
 "metadata": {
  "kernelspec": {
   "display_name": "Python 3",
   "language": "python",
   "name": "python3"
  },
  "language_info": {
   "codemirror_mode": {
    "name": "ipython",
    "version": 3
   },
   "file_extension": ".py",
   "mimetype": "text/x-python",
   "name": "python",
   "nbconvert_exporter": "python",
   "pygments_lexer": "ipython3",
   "version": "3.7.6"
  }
 },
 "nbformat": 4,
 "nbformat_minor": 4
}
