{
  "nbformat": 4,
  "nbformat_minor": 0,
  "metadata": {
    "colab": {
      "name": "dual_cnn_major.ipynb",
      "provenance": [],
      "collapsed_sections": [],
      "include_colab_link": true
    },
    "kernelspec": {
      "name": "python3",
      "display_name": "Python 3"
    },
    "accelerator": "GPU"
  },
  "cells": [
    {
      "cell_type": "markdown",
      "metadata": {
        "id": "view-in-github",
        "colab_type": "text"
      },
      "source": [
        "<a href=\"https://colab.research.google.com/github/brillantescene/Capstone_Design/blob/master/dual_cnn_major.ipynb\" target=\"_parent\"><img src=\"https://colab.research.google.com/assets/colab-badge.svg\" alt=\"Open In Colab\"/></a>"
      ]
    },
    {
      "cell_type": "code",
      "metadata": {
        "id": "j5tqb7qpdjFb",
        "colab_type": "code",
        "outputId": "82c7b374-8711-43d0-d641-af1577ad8a66",
        "colab": {
          "base_uri": "https://localhost:8080/",
          "height": 34
        }
      },
      "source": [
        "import tensorflow as tf\n",
        "from tensorflow import keras #import keras\n",
        "from tensorflow.keras.utils import to_categorical\n",
        "from tensorflow.keras.layers import Dense, Flatten, Conv2D, Dropout, MaxPool2D\n",
        "import numpy as np\n",
        "from tensorflow.keras import Model\n",
        "from keras import optimizers\n",
        "\n",
        "\n",
        "#from keras.callbacks import EarlyStopping\n",
        "#from keras.callbacks import ModelCheckpoint\n",
        "\n",
        "import IPython.display as display\n",
        "from PIL import Image\n",
        "import matplotlib.pyplot as plt\n",
        "import os, shutil\n",
        "\n",
        "keras.__version__"
      ],
      "execution_count": 19,
      "outputs": [
        {
          "output_type": "execute_result",
          "data": {
            "text/plain": [
              "'2.3.0-tf'"
            ]
          },
          "metadata": {
            "tags": []
          },
          "execution_count": 19
        }
      ]
    },
    {
      "cell_type": "code",
      "metadata": {
        "id": "qqsmprALWnKL",
        "colab_type": "code",
        "colab": {
          "base_uri": "https://localhost:8080/",
          "height": 125
        },
        "outputId": "39d8d5b5-37ae-400b-f840-d9b10622b5e9"
      },
      "source": [
        "from google.colab import drive\n",
        "drive.mount('/content/gdrive')"
      ],
      "execution_count": 7,
      "outputs": [
        {
          "output_type": "stream",
          "text": [
            "Go to this URL in a browser: https://accounts.google.com/o/oauth2/auth?client_id=947318989803-6bn6qk8qdgf4n4g3pfee6491hc0brc4i.apps.googleusercontent.com&redirect_uri=urn%3aietf%3awg%3aoauth%3a2.0%3aoob&response_type=code&scope=email%20https%3a%2f%2fwww.googleapis.com%2fauth%2fdocs.test%20https%3a%2f%2fwww.googleapis.com%2fauth%2fdrive%20https%3a%2f%2fwww.googleapis.com%2fauth%2fdrive.photos.readonly%20https%3a%2f%2fwww.googleapis.com%2fauth%2fpeopleapi.readonly\n",
            "\n",
            "Enter your authorization code:\n",
            "··········\n",
            "Mounted at /content/gdrive\n"
          ],
          "name": "stdout"
        }
      ]
    },
    {
      "cell_type": "code",
      "metadata": {
        "id": "eVBWuc00K1bF",
        "colab_type": "code",
        "colab": {}
      },
      "source": [
        "learning_rate = 0.001\n",
        "training_epochs = 10 #100\n",
        "batch_size = 4 #64\n",
        "target_size=(150, 150)"
      ],
      "execution_count": 0,
      "outputs": []
    },
    {
      "cell_type": "code",
      "metadata": {
        "id": "N9-WTzJ8dsOF",
        "colab_type": "code",
        "outputId": "1d013127-2705-4cdf-e9ec-b24ccbd6ac32",
        "colab": {
          "base_uri": "https://localhost:8080/",
          "height": 34
        }
      },
      "source": [
        "# 원본 데이터셋을 압축 해제한 디렉터리 경로\n",
        "original_dataset_dir = '/content/gdrive/My Drive/JOLJAACK2020/datasets/images' #./datasets/images'#'/root/.keras/datasets/images'\n",
        "\n",
        "# 소규모 데이터셋을 저장할 디렉터리\n",
        "base_dir = '/content/gdrive/My Drive/JOLJAACK2020/datasets/images_small' #'/root/.keras/datasets/images_small'\n",
        "if os.path.exists(base_dir):  # 반복적인 실행을 위해 디렉토리를 삭제합니다.\n",
        "    shutil.rmtree(base_dir)   # 이 코드는 책에 포함되어 있지 않습니다.\n",
        "os.mkdir(base_dir)\n",
        "\n",
        "# 훈련, 검증, 테스트 분할을 위한 디렉터리\n",
        "train_dir = os.path.join(base_dir, 'train')\n",
        "os.mkdir(train_dir)\n",
        "validation_dir = os.path.join(base_dir, 'validation')\n",
        "os.mkdir(validation_dir)\n",
        "test_dir = os.path.join(base_dir, 'test')\n",
        "os.mkdir(test_dir)\n",
        "\n",
        "train_dir"
      ],
      "execution_count": 10,
      "outputs": [
        {
          "output_type": "execute_result",
          "data": {
            "text/plain": [
              "'/content/gdrive/My Drive/JOLJAACK2020/datasets/images_small/train'"
            ]
          },
          "metadata": {
            "tags": []
          },
          "execution_count": 10
        }
      ]
    },
    {
      "cell_type": "code",
      "metadata": {
        "id": "GcACKy8IhBzy",
        "colab_type": "code",
        "outputId": "2bf287be-449f-4659-8b2a-14bc4e487e2c",
        "colab": {
          "base_uri": "https://localhost:8080/",
          "height": 34
        }
      },
      "source": [
        "# training용 디렉터리\n",
        "train_vacuum_cleaner_dir = os.path.join(train_dir, 'vacuum_cleaner')\n",
        "os.mkdir(train_vacuum_cleaner_dir)\n",
        "train_toilet_flush_dir = os.path.join(train_dir, 'toilet_flush')\n",
        "os.mkdir(train_toilet_flush_dir)\n",
        "train_door_knock_dir = os.path.join(train_dir, 'door_knock')\n",
        "os.mkdir(train_door_knock_dir)\n",
        "train_baby_crying_dir = os.path.join(train_dir, 'baby_crying')\n",
        "os.mkdir(train_baby_crying_dir)\n",
        "train_clock_alarm_dir = os.path.join(train_dir, 'clock_alarm')\n",
        "os.mkdir(train_clock_alarm_dir)\n",
        "\n",
        "train_vacuum_cleaner_dir"
      ],
      "execution_count": 11,
      "outputs": [
        {
          "output_type": "execute_result",
          "data": {
            "text/plain": [
              "'/content/gdrive/My Drive/JOLJAACK2020/datasets/images_small/train/vacuum_cleaner'"
            ]
          },
          "metadata": {
            "tags": []
          },
          "execution_count": 11
        }
      ]
    },
    {
      "cell_type": "code",
      "metadata": {
        "id": "QYCcbIvgdsR7",
        "colab_type": "code",
        "outputId": "236d6c23-9265-4d52-ad6f-fc1a77e0bc40",
        "colab": {
          "base_uri": "https://localhost:8080/",
          "height": 34
        }
      },
      "source": [
        "# validation용 디렉터리\n",
        "validation_vacuum_cleaner_dir = os.path.join(validation_dir, 'vacuum_cleaner')\n",
        "os.mkdir(validation_vacuum_cleaner_dir)\n",
        "validation_toilet_flush_dir = os.path.join(validation_dir, 'toilet_flush')\n",
        "os.mkdir(validation_toilet_flush_dir)\n",
        "validation_door_knock_dir = os.path.join(validation_dir, 'door_knock')\n",
        "os.mkdir(validation_door_knock_dir)\n",
        "validation_baby_crying_dir = os.path.join(validation_dir, 'baby_crying')\n",
        "os.mkdir(validation_baby_crying_dir)\n",
        "validation_clock_alarm_dir = os.path.join(validation_dir, 'clock_alarm')\n",
        "os.mkdir(validation_clock_alarm_dir)\n",
        "\n",
        "validation_vacuum_cleaner_dir"
      ],
      "execution_count": 12,
      "outputs": [
        {
          "output_type": "execute_result",
          "data": {
            "text/plain": [
              "'/content/gdrive/My Drive/JOLJAACK2020/datasets/images_small/validation/vacuum_cleaner'"
            ]
          },
          "metadata": {
            "tags": []
          },
          "execution_count": 12
        }
      ]
    },
    {
      "cell_type": "code",
      "metadata": {
        "id": "-IEYmbd2dsaG",
        "colab_type": "code",
        "outputId": "eca2b0fb-0963-4247-f793-847bf4cb4f89",
        "colab": {
          "base_uri": "https://localhost:8080/",
          "height": 34
        }
      },
      "source": [
        "# test용 디렉터리\n",
        "test_vacuum_cleaner_dir = os.path.join(test_dir, 'vacuum_cleaner')\n",
        "os.mkdir(test_vacuum_cleaner_dir)\n",
        "test_toilet_flush_dir = os.path.join(test_dir, 'toilet_flush')\n",
        "os.mkdir(test_toilet_flush_dir)\n",
        "test_door_knock_dir = os.path.join(test_dir, 'door_knock')\n",
        "os.mkdir(test_door_knock_dir)\n",
        "test_baby_crying_dir = os.path.join(test_dir, 'baby_crying')\n",
        "os.mkdir(test_baby_crying_dir)\n",
        "test_clock_alarm_dir = os.path.join(test_dir, 'clock_alarm')\n",
        "os.mkdir(test_clock_alarm_dir)\n",
        "\n",
        "test_vacuum_cleaner_dir"
      ],
      "execution_count": 13,
      "outputs": [
        {
          "output_type": "execute_result",
          "data": {
            "text/plain": [
              "'/content/gdrive/My Drive/JOLJAACK2020/datasets/images_small/test/vacuum_cleaner'"
            ]
          },
          "metadata": {
            "tags": []
          },
          "execution_count": 13
        }
      ]
    },
    {
      "cell_type": "code",
      "metadata": {
        "id": "cdrF1EE1dsdV",
        "colab_type": "code",
        "outputId": "ac55869c-3144-42d6-9a76-2676341c92f0",
        "colab": {
          "base_uri": "https://localhost:8080/",
          "height": 34
        }
      },
      "source": [
        "print('훈련용 vacuum_cleaner 이미지 전체 개수:', len(os.listdir(train_vacuum_cleaner_dir)))"
      ],
      "execution_count": 14,
      "outputs": [
        {
          "output_type": "stream",
          "text": [
            "훈련용 vacuum_cleaner 이미지 전체 개수: 20\n"
          ],
          "name": "stdout"
        }
      ]
    },
    {
      "cell_type": "code",
      "metadata": {
        "id": "2OMEvMmVdshK",
        "colab_type": "code",
        "colab": {}
      },
      "source": [
        "##### conv 3, pooling 3\n",
        "class AcousticSoundModel(tf.keras.Model):\n",
        "    def __init__(self):\n",
        "        super(AcousticSoundModel, self).__init__()\n",
        "        self.conv1 = Conv2D(filters=64, kernel_size=[3, 3], padding='SAME', activation=tf.nn.relu)\n",
        "        self.drop1 = Dropout(rate=0.2)\n",
        "        self.pool1 = MaxPool2D(padding='SAME') ###### pooling 2x2. stride는 표기 x, 확인 ######\n",
        "        \n",
        "        self.conv2 = Conv2D(filters=64, kernel_size=[3, 3], padding='SAME', activation=tf.nn.relu)\n",
        "        self.drop2 = Dropout(rate=0.2) #20% dropout\n",
        "        self.pool2 = MaxPool2D(padding='SAME')\n",
        "        \n",
        "        self.conv3 = Conv2D(filters=64, kernel_size=[3, 3], padding='SAME', activation=tf.nn.relu)\n",
        "        self.drop3 = Dropout(rate=0.2) #20% dropout\n",
        "        self.pool3 = MaxPool2D(padding='SAME')\n",
        "        \n",
        "        self.pool3_flat = keras.layers.Flatten()\n",
        "        self.dense4 = Dense(units=128, activation=tf.nn.relu)\n",
        "        self.dense5 = Dense(units=5, activation=tf.nn.sigmoid) ### 일단 5. class 개수 추가되는 대로 변경\n",
        "        \n",
        "    def call(self, inputs, training=False):\n",
        "        net = self.conv1(inputs)\n",
        "        net = self.drop1(net)\n",
        "        net = self.pool1(net)\n",
        "        \n",
        "        net = self.conv2(net)\n",
        "        net = self.drop2(net)\n",
        "        net = self.pool2(net)\n",
        "        \n",
        "        net = self.conv3(net)\n",
        "        net = self.drop3(net)\n",
        "        net = self.pool3(net)\n",
        "        \n",
        "        net = self.pool3_flat(net)\n",
        "        net = self.dense4(net)\n",
        "        net = self.dense5(net) #\n",
        "        return net #\n",
        "        # return self.dense5(net)"
      ],
      "execution_count": 0,
      "outputs": []
    },
    {
      "cell_type": "code",
      "metadata": {
        "id": "2zOGixAvdsk_",
        "colab_type": "code",
        "colab": {}
      },
      "source": [
        "model = AcousticSoundModel()"
      ],
      "execution_count": 0,
      "outputs": []
    },
    {
      "cell_type": "code",
      "metadata": {
        "id": "f106T_nPJyzC",
        "colab_type": "code",
        "colab": {}
      },
      "source": [
        "model.compile(loss='categorical_crossentropy',\n",
        "              optimizer=keras.optimizers.Adam(lr=learning_rate),\n",
        "              metrics=['acc'])"
      ],
      "execution_count": 0,
      "outputs": []
    },
    {
      "cell_type": "code",
      "metadata": {
        "id": "-K5g3c0iJy3t",
        "colab_type": "code",
        "colab": {
          "base_uri": "https://localhost:8080/",
          "height": 52
        },
        "outputId": "42e99a0a-6bad-4d94-b541-138879388de4"
      },
      "source": [
        "from keras.preprocessing.image import ImageDataGenerator\n",
        "\n",
        "# 모든 이미지를 1/255로 스케일을 조정\n",
        "train_datagen = ImageDataGenerator(rescale=1./255)\n",
        "test_datagen = ImageDataGenerator(rescale=1./255)\n",
        "\n",
        "train_generator = train_datagen.flow_from_directory(\n",
        "        # 타깃 디렉터리\n",
        "        train_dir,\n",
        "        # 모든 이미지를 150 × 150 크기로 바꿉니다\n",
        "        target_size=target_size,\n",
        "        batch_size=batch_size,\n",
        "        # 다중클래스\n",
        "        class_mode='categorical')\n",
        "\n",
        "validation_generator = test_datagen.flow_from_directory(\n",
        "        validation_dir,\n",
        "        target_size=target_size,\n",
        "        batch_size=batch_size,\n",
        "        class_mode='categorical')"
      ],
      "execution_count": 22,
      "outputs": [
        {
          "output_type": "stream",
          "text": [
            "Found 100 images belonging to 5 classes.\n",
            "Found 50 images belonging to 5 classes.\n"
          ],
          "name": "stdout"
        }
      ]
    },
    {
      "cell_type": "code",
      "metadata": {
        "id": "-83b4FWXJy8T",
        "colab_type": "code",
        "colab": {
          "base_uri": "https://localhost:8080/",
          "height": 52
        },
        "outputId": "0eb1eda7-d0db-408a-a3e0-ab045fb627ca"
      },
      "source": [
        "for data_batch, labels_batch in train_generator:\n",
        "    print('배치 데이터 크기:', data_batch.shape)\n",
        "    print('배치 레이블 크기:', labels_batch.shape)\n",
        "    break"
      ],
      "execution_count": 26,
      "outputs": [
        {
          "output_type": "stream",
          "text": [
            "배치 데이터 크기: (64, 150, 150, 3)\n",
            "배치 레이블 크기: (64, 5)\n"
          ],
          "name": "stdout"
        }
      ]
    },
    {
      "cell_type": "code",
      "metadata": {
        "id": "ja0WCzHxJy1j",
        "colab_type": "code",
        "colab": {
          "base_uri": "https://localhost:8080/",
          "height": 389
        },
        "outputId": "71cdaf2a-ae7a-47bd-b94a-f6766775d13b"
      },
      "source": [
        "history = model.fit_generator(\n",
        "      train_generator,\n",
        "      steps_per_epoch=25, # batch크기 4, 전체 200개 샘플이니까 25\n",
        "      epochs=training_epochs,\n",
        "      validation_data=validation_generator,\n",
        "      validation_steps=12)"
      ],
      "execution_count": 30,
      "outputs": [
        {
          "output_type": "stream",
          "text": [
            "Epoch 1/10\n",
            "25/25 [==============================] - 35s 1s/step - loss: 0.5663 - acc: 0.7840 - val_loss: 0.4964 - val_acc: 0.9000\n",
            "Epoch 2/10\n",
            "25/25 [==============================] - 29s 1s/step - loss: 0.1525 - acc: 0.9337 - val_loss: 0.3235 - val_acc: 0.9200\n",
            "Epoch 3/10\n",
            "25/25 [==============================] - 29s 1s/step - loss: 0.1300 - acc: 0.9533 - val_loss: 0.3374 - val_acc: 0.8800\n",
            "Epoch 4/10\n",
            "25/25 [==============================] - 29s 1s/step - loss: 0.0499 - acc: 0.9806 - val_loss: 0.2929 - val_acc: 0.9200\n",
            "Epoch 5/10\n",
            "25/25 [==============================] - 29s 1s/step - loss: 0.0283 - acc: 0.9873 - val_loss: 0.2909 - val_acc: 0.9000\n",
            "Epoch 6/10\n",
            "25/25 [==============================] - 29s 1s/step - loss: 0.0267 - acc: 0.9806 - val_loss: 0.2826 - val_acc: 0.9200\n",
            "Epoch 7/10\n",
            "25/25 [==============================] - 29s 1s/step - loss: 0.0197 - acc: 0.9818 - val_loss: 0.2691 - val_acc: 0.9400\n",
            "Epoch 8/10\n",
            "25/25 [==============================] - 29s 1s/step - loss: 0.0231 - acc: 0.9798 - val_loss: 0.2669 - val_acc: 0.9600\n",
            "Epoch 9/10\n",
            "25/25 [==============================] - 29s 1s/step - loss: 0.0202 - acc: 0.9810 - val_loss: 0.2723 - val_acc: 0.9400\n",
            "Epoch 10/10\n",
            "25/25 [==============================] - 29s 1s/step - loss: 0.0212 - acc: 0.9790 - val_loss: 0.2755 - val_acc: 0.9600\n"
          ],
          "name": "stdout"
        }
      ]
    },
    {
      "cell_type": "code",
      "metadata": {
        "id": "Kxxyqnphdsyp",
        "colab_type": "code",
        "colab": {}
      },
      "source": [
        "# 훈련 끝나면 호델 저장\n",
        "model.save_weights('images_small_1', save_format='tf')"
      ],
      "execution_count": 0,
      "outputs": []
    },
    {
      "cell_type": "code",
      "metadata": {
        "id": "6Q68BCqqMamg",
        "colab_type": "code",
        "colab": {
          "base_uri": "https://localhost:8080/",
          "height": 545
        },
        "outputId": "69ecbc5b-d78e-45ba-f39e-cc4967474456"
      },
      "source": [
        "#훈련 데이터와 검증 데이터에 대한 모델의 손실과 정확도를 그래프\n",
        "acc = history.history['acc']\n",
        "val_acc = history.history['val_acc']\n",
        "loss = history.history['loss']\n",
        "val_loss = history.history['val_loss']\n",
        "\n",
        "epochs = range(len(acc))\n",
        "\n",
        "plt.plot(epochs, acc, 'bo', label='Training acc')\n",
        "plt.plot(epochs, val_acc, 'b', label='Validation acc')\n",
        "plt.title('Training and validation accuracy')\n",
        "plt.legend()\n",
        "\n",
        "plt.figure()\n",
        "\n",
        "plt.plot(epochs, loss, 'bo', label='Training loss')\n",
        "plt.plot(epochs, val_loss, 'b', label='Validation loss')\n",
        "plt.title('Training and validation loss')\n",
        "plt.legend()\n",
        "\n",
        "plt.show()"
      ],
      "execution_count": 33,
      "outputs": [
        {
          "output_type": "display_data",
          "data": {
            "image/png": "[encoded data removed]",
            "text/plain": [
              "<Figure size 432x288 with 1 Axes>"
            ]
          },
          "metadata": {
            "tags": [],
            "needs_background": "light"
          }
        },
        {
          "output_type": "display_data",
          "data": {
            "image/png": "[encoded data removed]",
            "text/plain": [
              "<Figure size 432x288 with 1 Axes>"
            ]
          },
          "metadata": {
            "tags": [],
            "needs_background": "light"
          }
        }
      ]
    },
    {
      "cell_type": "code",
      "metadata": {
        "id": "D9esXv38Map6",
        "colab_type": "code",
        "colab": {}
      },
      "source": [
        ""
      ],
      "execution_count": 0,
      "outputs": []
    }
  ]
}