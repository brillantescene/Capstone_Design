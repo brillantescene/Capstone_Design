{
  "nbformat": 4,
  "nbformat_minor": 0,
  "metadata": {
    "colab": {
      "name": "soundee-major_classification.ipynb",
      "provenance": [],
      "authorship_tag": "ABX9TyOqUjAPlZbSKlcQZeHIaa+K",
      "include_colab_link": true
    },
    "kernelspec": {
      "name": "python3",
      "display_name": "Python 3"
    },
    "accelerator": "GPU"
  },
  "cells": [
    {
      "cell_type": "markdown",
      "metadata": {
        "id": "view-in-github",
        "colab_type": "text"
      },
      "source": [
        "<a href=\"https://colab.research.google.com/github/brillantescene/Capstone_Design/blob/master/cnn/soundee_major_classification.ipynb\" target=\"_parent\"><img src=\"https://colab.research.google.com/assets/colab-badge.svg\" alt=\"Open In Colab\"/></a>"
      ]
    },
    {
      "cell_type": "code",
      "metadata": {
        "id": "rMs6v3E1ax6d",
        "colab_type": "code",
        "colab": {}
      },
      "source": [
        "import tensorflow as tf"
      ],
      "execution_count": 7,
      "outputs": []
    },
    {
      "cell_type": "code",
      "metadata": {
        "id": "oRHnQAUHP3By",
        "colab_type": "code",
        "colab": {}
      },
      "source": [
        "import IPython.display as display\n",
        "from PIL import Image\n",
        "import numpy as np\n",
        "import matplotlib.pyplot as plt\n",
        "import os"
      ],
      "execution_count": 1,
      "outputs": []
    },
    {
      "cell_type": "code",
      "metadata": {
        "id": "F5CAPQ2XP3EU",
        "colab_type": "code",
        "colab": {
          "base_uri": "https://localhost:8080/",
          "height": 35
        },
        "outputId": "94231bda-0440-4eaf-f1b4-22b70287277d"
      },
      "source": [
        "from tensorflow import keras #import keras\n",
        "from tensorflow.keras import Model\n",
        "from keras import optimizers\n",
        "from tensorflow.keras.utils import to_categorical\n",
        "from tensorflow.keras.layers import Dense, Flatten, Conv2D, Dropout, MaxPool2D"
      ],
      "execution_count": 2,
      "outputs": [
        {
          "output_type": "stream",
          "text": [
            "Using TensorFlow backend.\n"
          ],
          "name": "stderr"
        }
      ]
    },
    {
      "cell_type": "code",
      "metadata": {
        "id": "a9nE5p4gP3Gq",
        "colab_type": "code",
        "colab": {}
      },
      "source": [
        "from keras.callbacks import EarlyStopping, ModelCheckpoint\n",
        "from keras.models import load_model"
      ],
      "execution_count": 3,
      "outputs": []
    },
    {
      "cell_type": "code",
      "metadata": {
        "id": "ecS41D_4P3J5",
        "colab_type": "code",
        "colab": {}
      },
      "source": [
        "import pathlib"
      ],
      "execution_count": 4,
      "outputs": []
    },
    {
      "cell_type": "code",
      "metadata": {
        "id": "54Im2mo7w5Du",
        "colab_type": "code",
        "colab": {}
      },
      "source": [
        "from glob import glob"
      ],
      "execution_count": 5,
      "outputs": []
    },
    {
      "cell_type": "code",
      "metadata": {
        "id": "UD_HphJgSdRI",
        "colab_type": "code",
        "colab": {
          "base_uri": "https://localhost:8080/",
          "height": 52
        },
        "outputId": "18d3a397-2a1b-41fd-a3c1-a74c92a84e6e"
      },
      "source": [
        "data_dir = tf.keras.utils.get_file(origin='https://github.com/brillantescene/Capstone_Design/raw/master/melspetrogram_img.tgz', \n",
        "                                   fname='images', extract=True)\n",
        "data_dir = pathlib.Path(data_dir)"
      ],
      "execution_count": 8,
      "outputs": [
        {
          "output_type": "stream",
          "text": [
            "Downloading data from https://github.com/brillantescene/Capstone_Design/raw/master/melspetrogram_img.tgz\n",
            "204619776/204612094 [==============================] - 2s 0us/step\n"
          ],
          "name": "stdout"
        }
      ]
    },
    {
      "cell_type": "code",
      "metadata": {
        "id": "aXHk7J3HcIhI",
        "colab_type": "code",
        "colab": {
          "base_uri": "https://localhost:8080/",
          "height": 35
        },
        "outputId": "ba5b735b-aa86-4068-a4a7-a21788d469d8"
      },
      "source": [
        "data_dir"
      ],
      "execution_count": null,
      "outputs": [
        {
          "output_type": "execute_result",
          "data": {
            "text/plain": [
              "PosixPath('/root/.keras/datasets/images')"
            ]
          },
          "metadata": {
            "tags": []
          },
          "execution_count": 8
        }
      ]
    },
    {
      "cell_type": "code",
      "metadata": {
        "id": "pNGLpY40SdTO",
        "colab_type": "code",
        "colab": {}
      },
      "source": [
        "data_dir = pathlib.PosixPath(\"/root/.keras/datasets/melspetrogram_img\")"
      ],
      "execution_count": 9,
      "outputs": []
    },
    {
      "cell_type": "code",
      "metadata": {
        "id": "Hpo3m_T9SdUv",
        "colab_type": "code",
        "colab": {
          "base_uri": "https://localhost:8080/",
          "height": 35
        },
        "outputId": "e6700f8b-13e3-474c-ba11-014dc419239b"
      },
      "source": [
        "image_count = len(list(data_dir.glob('*/*.png')))\n",
        "image_count"
      ],
      "execution_count": 10,
      "outputs": [
        {
          "output_type": "execute_result",
          "data": {
            "text/plain": [
              "4217"
            ]
          },
          "metadata": {
            "tags": []
          },
          "execution_count": 10
        }
      ]
    },
    {
      "cell_type": "code",
      "metadata": {
        "id": "fp90oMiIf9Jz",
        "colab_type": "code",
        "colab": {
          "base_uri": "https://localhost:8080/",
          "height": 35
        },
        "outputId": "47351135-26de-47d6-ad69-b8e7090279bc"
      },
      "source": [
        "!ls  /root/.keras/datasets/"
      ],
      "execution_count": null,
      "outputs": [
        {
          "output_type": "stream",
          "text": [
            "images\tmelspetrogram_img\n"
          ],
          "name": "stdout"
        }
      ]
    },
    {
      "cell_type": "code",
      "metadata": {
        "id": "-5J_bbsXSdWV",
        "colab_type": "code",
        "colab": {}
      },
      "source": [
        "CLASS_NAMES = np.array([item.name for item in data_dir.glob('*')])"
      ],
      "execution_count": 11,
      "outputs": []
    },
    {
      "cell_type": "code",
      "metadata": {
        "id": "x-M_9yUf0sqr",
        "colab_type": "code",
        "colab": {
          "base_uri": "https://localhost:8080/",
          "height": 35
        },
        "outputId": "168129fe-8910-4405-ee62-2fb4c38a4285"
      },
      "source": [
        "CLASS_NAMES"
      ],
      "execution_count": 12,
      "outputs": [
        {
          "output_type": "execute_result",
          "data": {
            "text/plain": [
              "array(['water', 'drop', 'motor'], dtype='<U5')"
            ]
          },
          "metadata": {
            "tags": []
          },
          "execution_count": 12
        }
      ]
    },
    {
      "cell_type": "markdown",
      "metadata": {
        "id": "BJvURNE9TNmh",
        "colab_type": "text"
      },
      "source": [
        "tf.data(), train, validation, test split"
      ]
    },
    {
      "cell_type": "code",
      "metadata": {
        "id": "f8hwdNcqSdYN",
        "colab_type": "code",
        "colab": {}
      },
      "source": [
        "list_ds = tf.data.Dataset.list_files(str(data_dir/'*/*'))"
      ],
      "execution_count": 13,
      "outputs": []
    },
    {
      "cell_type": "code",
      "metadata": {
        "id": "M7t-VxfwSdbR",
        "colab_type": "code",
        "colab": {}
      },
      "source": [
        "#for f in list_ds.take(5):\n",
        "#  print(f.numpy())"
      ],
      "execution_count": null,
      "outputs": []
    },
    {
      "cell_type": "code",
      "metadata": {
        "id": "yhRtByxhP3NF",
        "colab_type": "code",
        "colab": {}
      },
      "source": [
        "train_num = int(image_count * 0.7)\n",
        "test_num = int(image_count * 0.2)\n",
        "val_num = int(image_count * 0.1)"
      ],
      "execution_count": 14,
      "outputs": []
    },
    {
      "cell_type": "code",
      "metadata": {
        "id": "NksBdvjIP3Qx",
        "colab_type": "code",
        "colab": {}
      },
      "source": [
        "learning_rate = 0.001\n",
        "training_epochs = 100\n",
        "BATCH_SIZE = 64\n",
        "IMG_HEIGHT = 224 #770\n",
        "IMG_WIDTH = 224 #310\n",
        "STEPS_PER_EPOCH = np.ceil(image_count/BATCH_SIZE)\n",
        "VALIDATION_STEPS = np.ceil(val_num/BATCH_SIZE)\n",
        "TEST_STEPS = np.ceil(test_num/BATCH_SIZE)"
      ],
      "execution_count": 15,
      "outputs": []
    },
    {
      "cell_type": "code",
      "metadata": {
        "id": "cOTHaZ8aUedu",
        "colab_type": "code",
        "colab": {}
      },
      "source": [
        "def get_label(file_path):\n",
        "  parts = tf.strings.split(file_path, os.path.sep)\n",
        "  return parts[-2] == CLASS_NAMES\n",
        "\n",
        "def decode_img(img):\n",
        "  img = tf.image.decode_png(img, channels=3)\n",
        "  img = tf.image.convert_image_dtype(img, tf.float32)\n",
        "  return tf.image.resize(img, [IMG_WIDTH, IMG_HEIGHT])\n",
        "\n",
        "def process_path(file_path):\n",
        "  label = get_label(file_path)\n",
        "  # 파일에서 raw data를 문자열로 로드\n",
        "  img = tf.io.read_file(file_path)\n",
        "  img = decode_img(img)\n",
        "  return img, label"
      ],
      "execution_count": 16,
      "outputs": []
    },
    {
      "cell_type": "code",
      "metadata": {
        "id": "3ltiwStYUegW",
        "colab_type": "code",
        "colab": {}
      },
      "source": [
        "AUTOTUNE = tf.data.experimental.AUTOTUNE\n",
        "labeled_ds = list_ds.map(process_path, num_parallel_calls=AUTOTUNE)"
      ],
      "execution_count": 17,
      "outputs": []
    },
    {
      "cell_type": "code",
      "metadata": {
        "id": "o-Cil1cdUeju",
        "colab_type": "code",
        "colab": {}
      },
      "source": [
        "#for image, label in labeled_ds.take(1):\n",
        "#  print(\"Image shape: \", image.numpy().shape)\n",
        "#  print(\"Label: \", label.numpy())"
      ],
      "execution_count": null,
      "outputs": []
    },
    {
      "cell_type": "code",
      "metadata": {
        "id": "6EvG9_nkUemd",
        "colab_type": "code",
        "colab": {}
      },
      "source": [
        "train_ = labeled_ds.take(train_num)\n",
        "test_ = labeled_ds.take(test_num)\n",
        "val_ = labeled_ds.take(val_num)"
      ],
      "execution_count": 18,
      "outputs": []
    },
    {
      "cell_type": "code",
      "metadata": {
        "id": "XQ0STgoWbSEP",
        "colab_type": "code",
        "colab": {
          "base_uri": "https://localhost:8080/",
          "height": 35
        },
        "outputId": "0b997a9c-5926-4ddf-808b-4b8bda566539"
      },
      "source": [
        "train_\n",
        "test_\n",
        "val_"
      ],
      "execution_count": 19,
      "outputs": [
        {
          "output_type": "execute_result",
          "data": {
            "text/plain": [
              "<TakeDataset shapes: ((224, 224, 3), (3,)), types: (tf.float32, tf.bool)>"
            ]
          },
          "metadata": {
            "tags": []
          },
          "execution_count": 19
        }
      ]
    },
    {
      "cell_type": "code",
      "metadata": {
        "id": "XpuWodFiUep1",
        "colab_type": "code",
        "colab": {}
      },
      "source": [
        "def prepare_for_training(ds, cache=True, shuffle_buffer_size=1000):\n",
        "  if cache:\n",
        "    if isinstance(cache, str):\n",
        "      ds = ds.cache(cache)\n",
        "    else:\n",
        "      ds = ds.cache()\n",
        "\n",
        "  ds = ds.shuffle(buffer_size=shuffle_buffer_size)\n",
        "\n",
        "  ds = ds.repeat()\n",
        "  ds = ds.batch(BATCH_SIZE)\n",
        "\n",
        "  ds = ds.prefetch(buffer_size=AUTOTUNE)\n",
        "\n",
        "  return ds"
      ],
      "execution_count": 20,
      "outputs": []
    },
    {
      "cell_type": "code",
      "metadata": {
        "id": "3uYBpmEeVAEb",
        "colab_type": "code",
        "colab": {}
      },
      "source": [
        "train_ds = prepare_for_training(train_)\n",
        "test_ds = prepare_for_training(test_)\n",
        "val_ds = prepare_for_training(val_)"
      ],
      "execution_count": 21,
      "outputs": []
    },
    {
      "cell_type": "code",
      "metadata": {
        "id": "cw1WO8C8bXhS",
        "colab_type": "code",
        "colab": {
          "base_uri": "https://localhost:8080/",
          "height": 35
        },
        "outputId": "4543eb78-0f20-4edf-f503-601621bdeda3"
      },
      "source": [
        "train_ds\n",
        "test_ds\n",
        "val_ds"
      ],
      "execution_count": null,
      "outputs": [
        {
          "output_type": "execute_result",
          "data": {
            "text/plain": [
              "<PrefetchDataset shapes: ((None, 310, 770, 3), (None, 5)), types: (tf.float32, tf.bool)>"
            ]
          },
          "metadata": {
            "tags": []
          },
          "execution_count": 29
        }
      ]
    },
    {
      "cell_type": "markdown",
      "metadata": {
        "id": "6LJiO5b0XCwp",
        "colab_type": "text"
      },
      "source": [
        "model"
      ]
    },
    {
      "cell_type": "code",
      "metadata": {
        "id": "DmYpQzgmwnVh",
        "colab_type": "code",
        "colab": {}
      },
      "source": [
        "def AcousticSoundModel():\n",
        "  inputs = keras.Input(shape=(IMG_HEIGHT, IMG_WIDTH, 3))\n",
        "\n",
        "  conv1 = Conv2D(filters=64, kernel_size=[3, 3], padding='SAME', activation=tf.nn.relu)(inputs)\n",
        "  drop1 = Dropout(rate=0.2)(conv1)\n",
        "  pool1 = MaxPool2D(padding='SAME')(drop1)\n",
        "\n",
        "  conv2 = Conv2D(filters=64, kernel_size=[3, 3], padding='SAME', activation=tf.nn.relu)(pool1)\n",
        "  drop2 = Dropout(rate=0.2)(conv2)\n",
        "  pool2 = MaxPool2D(padding='SAME')(drop2)\n",
        "\n",
        "  conv3 = Conv2D(filters=64, kernel_size=[3, 3], padding='SAME', activation=tf.nn.relu)(pool2)\n",
        "  drop3 = Dropout(rate=0.2)(conv3)\n",
        "  pool3 = MaxPool2D(padding='SAME')(drop3)\n",
        "\n",
        "  pool3_flat = keras.layers.Flatten()(pool3)\n",
        "  dense4 = Dense(units=128, activation=tf.nn.relu)(pool3_flat)\n",
        "  logits = Dense(units=3, activation=tf.nn.sigmoid)(dense4)\n",
        "\n",
        "  return keras.Model(inputs=inputs, outputs=logits)"
      ],
      "execution_count": 25,
      "outputs": []
    },
    {
      "cell_type": "code",
      "metadata": {
        "id": "WKgrCzcDXBGc",
        "colab_type": "code",
        "colab": {}
      },
      "source": [
        "model = AcousticSoundModel()"
      ],
      "execution_count": 26,
      "outputs": []
    },
    {
      "cell_type": "code",
      "metadata": {
        "id": "pIrEr_y7VAKy",
        "colab_type": "code",
        "colab": {}
      },
      "source": [
        "model.compile(loss='categorical_crossentropy',\n",
        "              optimizer=keras.optimizers.Adam(lr=learning_rate),\n",
        "              metrics=['acc'])"
      ],
      "execution_count": 27,
      "outputs": []
    },
    {
      "cell_type": "code",
      "metadata": {
        "id": "tALWLYRoO112",
        "colab_type": "code",
        "colab": {}
      },
      "source": [
        "model_dir = './model' #경로 설정은 이따가 제대로\n",
        "    \n",
        "if not os.path.exists(model_dir):\n",
        "    os.mkdir(model_dir)"
      ],
      "execution_count": 28,
      "outputs": []
    },
    {
      "cell_type": "code",
      "metadata": {
        "id": "a2-nGwfG8-a0",
        "colab_type": "code",
        "colab": {}
      },
      "source": [
        "checkpoint_path = model_dir + '/soundee_classification.model'\n",
        "checkpoint_dir = os.path.dirname(checkpoint_path)# Create a callback that saves the model's weights\n",
        "cp = tf.keras.callbacks.ModelCheckpoint(checkpoint_path, \n",
        "                                        monitor='val_loss', mode='min', save_best_only=True, \n",
        "                                        verbose=1)"
      ],
      "execution_count": 29,
      "outputs": []
    },
    {
      "cell_type": "code",
      "metadata": {
        "id": "FZkHViDNtj-s",
        "colab_type": "code",
        "colab": {}
      },
      "source": [
        "es = tf.keras.callbacks.EarlyStopping(monitor='val_loss', mode='min', verbose=1, patience=10)"
      ],
      "execution_count": 30,
      "outputs": []
    },
    {
      "cell_type": "code",
      "metadata": {
        "id": "bUH2o7GzVAUX",
        "colab_type": "code",
        "colab": {}
      },
      "source": [
        "callback = [es, cp]"
      ],
      "execution_count": 31,
      "outputs": []
    },
    {
      "cell_type": "code",
      "metadata": {
        "id": "3YSfzlb6VAZa",
        "colab_type": "code",
        "colab": {
          "base_uri": "https://localhost:8080/",
          "height": 1000
        },
        "outputId": "007377b7-eb38-4023-c2ae-4d09fba9e172"
      },
      "source": [
        "hist = model.fit(\n",
        "      train_ds,\n",
        "      steps_per_epoch=STEPS_PER_EPOCH,\n",
        "      epochs=training_epochs,\n",
        "      batch_size = BATCH_SIZE,\n",
        "      validation_data=val_ds,\n",
        "      validation_steps=VALIDATION_STEPS,\n",
        "      callbacks=callback)"
      ],
      "execution_count": 32,
      "outputs": [
        {
          "output_type": "stream",
          "text": [
            "Epoch 1/100\n",
            "66/66 [==============================] - ETA: 0s - loss: 0.2276 - acc: 0.9105\n",
            "Epoch 00001: val_loss improved from inf to 0.01928, saving model to ./model/soundee_classification.model\n",
            "WARNING:tensorflow:From /usr/local/lib/python3.6/dist-packages/tensorflow/python/ops/resource_variable_ops.py:1817: calling BaseResourceVariable.__init__ (from tensorflow.python.ops.resource_variable_ops) with constraint is deprecated and will be removed in a future version.\n",
            "Instructions for updating:\n",
            "If using Keras pass *_constraint arguments to layers.\n",
            "INFO:tensorflow:Assets written to: ./model/soundee_classification.model/assets\n",
            "66/66 [==============================] - 32s 488ms/step - loss: 0.2276 - acc: 0.9105 - val_loss: 0.0193 - val_acc: 0.9955\n",
            "Epoch 2/100\n",
            "66/66 [==============================] - ETA: 0s - loss: 0.0137 - acc: 0.9960\n",
            "Epoch 00002: val_loss improved from 0.01928 to 0.01002, saving model to ./model/soundee_classification.model\n",
            "INFO:tensorflow:Assets written to: ./model/soundee_classification.model/assets\n",
            "66/66 [==============================] - 26s 394ms/step - loss: 0.0137 - acc: 0.9960 - val_loss: 0.0100 - val_acc: 1.0000\n",
            "Epoch 3/100\n",
            "66/66 [==============================] - ETA: 0s - loss: 0.0022 - acc: 0.9998\n",
            "Epoch 00003: val_loss improved from 0.01002 to 0.00439, saving model to ./model/soundee_classification.model\n",
            "INFO:tensorflow:Assets written to: ./model/soundee_classification.model/assets\n",
            "66/66 [==============================] - 26s 393ms/step - loss: 0.0022 - acc: 0.9998 - val_loss: 0.0044 - val_acc: 1.0000\n",
            "Epoch 4/100\n",
            "66/66 [==============================] - ETA: 0s - loss: 0.0032 - acc: 0.9991\n",
            "Epoch 00004: val_loss improved from 0.00439 to 0.00168, saving model to ./model/soundee_classification.model\n",
            "INFO:tensorflow:Assets written to: ./model/soundee_classification.model/assets\n",
            "66/66 [==============================] - 26s 392ms/step - loss: 0.0032 - acc: 0.9991 - val_loss: 0.0017 - val_acc: 1.0000\n",
            "Epoch 5/100\n",
            "66/66 [==============================] - ETA: 0s - loss: 0.0440 - acc: 0.9910\n",
            "Epoch 00005: val_loss did not improve from 0.00168\n",
            "66/66 [==============================] - 25s 372ms/step - loss: 0.0440 - acc: 0.9910 - val_loss: 0.0165 - val_acc: 0.9933\n",
            "Epoch 6/100\n",
            "66/66 [==============================] - ETA: 0s - loss: 0.0342 - acc: 0.9927\n",
            "Epoch 00006: val_loss did not improve from 0.00168\n",
            "66/66 [==============================] - 25s 372ms/step - loss: 0.0342 - acc: 0.9927 - val_loss: 0.0021 - val_acc: 1.0000\n",
            "Epoch 7/100\n",
            "66/66 [==============================] - ETA: 0s - loss: 0.0076 - acc: 0.9979\n",
            "Epoch 00007: val_loss did not improve from 0.00168\n",
            "66/66 [==============================] - 25s 373ms/step - loss: 0.0076 - acc: 0.9979 - val_loss: 0.0050 - val_acc: 1.0000\n",
            "Epoch 8/100\n",
            "66/66 [==============================] - ETA: 0s - loss: 0.0031 - acc: 0.9981\n",
            "Epoch 00008: val_loss improved from 0.00168 to 0.00120, saving model to ./model/soundee_classification.model\n",
            "INFO:tensorflow:Assets written to: ./model/soundee_classification.model/assets\n",
            "66/66 [==============================] - 26s 391ms/step - loss: 0.0031 - acc: 0.9981 - val_loss: 0.0012 - val_acc: 1.0000\n",
            "Epoch 9/100\n",
            "66/66 [==============================] - ETA: 0s - loss: 0.0031 - acc: 0.9974\n",
            "Epoch 00009: val_loss improved from 0.00120 to 0.00032, saving model to ./model/soundee_classification.model\n",
            "INFO:tensorflow:Assets written to: ./model/soundee_classification.model/assets\n",
            "66/66 [==============================] - 26s 395ms/step - loss: 0.0031 - acc: 0.9974 - val_loss: 3.2253e-04 - val_acc: 1.0000\n",
            "Epoch 10/100\n",
            "66/66 [==============================] - ETA: 0s - loss: 9.8632e-04 - acc: 0.9993\n",
            "Epoch 00010: val_loss improved from 0.00032 to 0.00019, saving model to ./model/soundee_classification.model\n",
            "INFO:tensorflow:Assets written to: ./model/soundee_classification.model/assets\n",
            "66/66 [==============================] - 26s 390ms/step - loss: 9.8632e-04 - acc: 0.9993 - val_loss: 1.9174e-04 - val_acc: 1.0000\n",
            "Epoch 11/100\n",
            "66/66 [==============================] - ETA: 0s - loss: 1.6448e-06 - acc: 1.0000\n",
            "Epoch 00011: val_loss improved from 0.00019 to 0.00014, saving model to ./model/soundee_classification.model\n",
            "INFO:tensorflow:Assets written to: ./model/soundee_classification.model/assets\n",
            "66/66 [==============================] - 26s 390ms/step - loss: 1.6448e-06 - acc: 1.0000 - val_loss: 1.3553e-04 - val_acc: 1.0000\n",
            "Epoch 12/100\n",
            "66/66 [==============================] - ETA: 0s - loss: 1.7550e-06 - acc: 1.0000\n",
            "Epoch 00012: val_loss improved from 0.00014 to 0.00013, saving model to ./model/soundee_classification.model\n",
            "INFO:tensorflow:Assets written to: ./model/soundee_classification.model/assets\n",
            "66/66 [==============================] - 26s 393ms/step - loss: 1.7550e-06 - acc: 1.0000 - val_loss: 1.3251e-04 - val_acc: 1.0000\n",
            "Epoch 13/100\n",
            "66/66 [==============================] - ETA: 0s - loss: 1.3686e-06 - acc: 1.0000\n",
            "Epoch 00013: val_loss improved from 0.00013 to 0.00012, saving model to ./model/soundee_classification.model\n",
            "INFO:tensorflow:Assets written to: ./model/soundee_classification.model/assets\n",
            "66/66 [==============================] - 26s 392ms/step - loss: 1.3686e-06 - acc: 1.0000 - val_loss: 1.2171e-04 - val_acc: 1.0000\n",
            "Epoch 14/100\n",
            "66/66 [==============================] - ETA: 0s - loss: 1.6656e-06 - acc: 1.0000\n",
            "Epoch 00014: val_loss improved from 0.00012 to 0.00012, saving model to ./model/soundee_classification.model\n",
            "INFO:tensorflow:Assets written to: ./model/soundee_classification.model/assets\n",
            "66/66 [==============================] - 26s 392ms/step - loss: 1.6656e-06 - acc: 1.0000 - val_loss: 1.1798e-04 - val_acc: 1.0000\n",
            "Epoch 15/100\n",
            "66/66 [==============================] - ETA: 0s - loss: 1.4183e-06 - acc: 1.0000\n",
            "Epoch 00015: val_loss improved from 0.00012 to 0.00011, saving model to ./model/soundee_classification.model\n",
            "INFO:tensorflow:Assets written to: ./model/soundee_classification.model/assets\n",
            "66/66 [==============================] - 26s 392ms/step - loss: 1.4183e-06 - acc: 1.0000 - val_loss: 1.0954e-04 - val_acc: 1.0000\n",
            "Epoch 16/100\n",
            "66/66 [==============================] - ETA: 0s - loss: 1.1890e-06 - acc: 1.0000\n",
            "Epoch 00016: val_loss improved from 0.00011 to 0.00011, saving model to ./model/soundee_classification.model\n",
            "INFO:tensorflow:Assets written to: ./model/soundee_classification.model/assets\n",
            "66/66 [==============================] - 26s 392ms/step - loss: 1.1890e-06 - acc: 1.0000 - val_loss: 1.0791e-04 - val_acc: 1.0000\n",
            "Epoch 17/100\n",
            "66/66 [==============================] - ETA: 0s - loss: 1.2884e-06 - acc: 1.0000\n",
            "Epoch 00017: val_loss improved from 0.00011 to 0.00010, saving model to ./model/soundee_classification.model\n",
            "INFO:tensorflow:Assets written to: ./model/soundee_classification.model/assets\n",
            "66/66 [==============================] - 26s 391ms/step - loss: 1.2884e-06 - acc: 1.0000 - val_loss: 1.0309e-04 - val_acc: 1.0000\n",
            "Epoch 18/100\n",
            "66/66 [==============================] - ETA: 0s - loss: 1.1380e-06 - acc: 1.0000\n",
            "Epoch 00018: val_loss did not improve from 0.00010\n",
            "66/66 [==============================] - 24s 371ms/step - loss: 1.1380e-06 - acc: 1.0000 - val_loss: 1.0698e-04 - val_acc: 1.0000\n",
            "Epoch 19/100\n",
            "66/66 [==============================] - ETA: 0s - loss: 1.2705e-06 - acc: 1.0000\n",
            "Epoch 00019: val_loss improved from 0.00010 to 0.00009, saving model to ./model/soundee_classification.model\n",
            "INFO:tensorflow:Assets written to: ./model/soundee_classification.model/assets\n",
            "66/66 [==============================] - 26s 392ms/step - loss: 1.2705e-06 - acc: 1.0000 - val_loss: 9.2567e-05 - val_acc: 1.0000\n",
            "Epoch 20/100\n",
            "66/66 [==============================] - ETA: 0s - loss: 9.8649e-07 - acc: 1.0000\n",
            "Epoch 00020: val_loss improved from 0.00009 to 0.00009, saving model to ./model/soundee_classification.model\n",
            "INFO:tensorflow:Assets written to: ./model/soundee_classification.model/assets\n",
            "66/66 [==============================] - 26s 391ms/step - loss: 9.8649e-07 - acc: 1.0000 - val_loss: 9.0264e-05 - val_acc: 1.0000\n",
            "Epoch 21/100\n",
            "66/66 [==============================] - ETA: 0s - loss: 1.0002e-06 - acc: 1.0000\n",
            "Epoch 00021: val_loss improved from 0.00009 to 0.00009, saving model to ./model/soundee_classification.model\n",
            "INFO:tensorflow:Assets written to: ./model/soundee_classification.model/assets\n",
            "66/66 [==============================] - 26s 392ms/step - loss: 1.0002e-06 - acc: 1.0000 - val_loss: 8.6483e-05 - val_acc: 1.0000\n",
            "Epoch 22/100\n",
            "66/66 [==============================] - ETA: 0s - loss: 9.7327e-07 - acc: 1.0000\n",
            "Epoch 00022: val_loss improved from 0.00009 to 0.00008, saving model to ./model/soundee_classification.model\n",
            "INFO:tensorflow:Assets written to: ./model/soundee_classification.model/assets\n",
            "66/66 [==============================] - 26s 391ms/step - loss: 9.7327e-07 - acc: 1.0000 - val_loss: 8.0774e-05 - val_acc: 1.0000\n",
            "Epoch 23/100\n",
            "66/66 [==============================] - ETA: 0s - loss: 9.8298e-07 - acc: 1.0000\n",
            "Epoch 00023: val_loss improved from 0.00008 to 0.00008, saving model to ./model/soundee_classification.model\n",
            "INFO:tensorflow:Assets written to: ./model/soundee_classification.model/assets\n",
            "66/66 [==============================] - 26s 394ms/step - loss: 9.8298e-07 - acc: 1.0000 - val_loss: 7.8464e-05 - val_acc: 1.0000\n",
            "Epoch 24/100\n",
            "66/66 [==============================] - ETA: 0s - loss: 8.4540e-07 - acc: 1.0000\n",
            "Epoch 00024: val_loss improved from 0.00008 to 0.00008, saving model to ./model/soundee_classification.model\n",
            "INFO:tensorflow:Assets written to: ./model/soundee_classification.model/assets\n",
            "66/66 [==============================] - 26s 391ms/step - loss: 8.4540e-07 - acc: 1.0000 - val_loss: 7.5269e-05 - val_acc: 1.0000\n",
            "Epoch 25/100\n",
            "66/66 [==============================] - ETA: 0s - loss: 7.0634e-07 - acc: 1.0000\n",
            "Epoch 00025: val_loss did not improve from 0.00008\n",
            "66/66 [==============================] - 25s 373ms/step - loss: 7.0634e-07 - acc: 1.0000 - val_loss: 7.9283e-05 - val_acc: 1.0000\n",
            "Epoch 26/100\n",
            "66/66 [==============================] - ETA: 0s - loss: 8.6650e-07 - acc: 1.0000\n",
            "Epoch 00026: val_loss improved from 0.00008 to 0.00007, saving model to ./model/soundee_classification.model\n",
            "INFO:tensorflow:Assets written to: ./model/soundee_classification.model/assets\n",
            "66/66 [==============================] - 26s 390ms/step - loss: 8.6650e-07 - acc: 1.0000 - val_loss: 7.1075e-05 - val_acc: 1.0000\n",
            "Epoch 27/100\n",
            "66/66 [==============================] - ETA: 0s - loss: 6.6349e-07 - acc: 1.0000\n",
            "Epoch 00027: val_loss improved from 0.00007 to 0.00007, saving model to ./model/soundee_classification.model\n",
            "INFO:tensorflow:Assets written to: ./model/soundee_classification.model/assets\n",
            "66/66 [==============================] - 26s 393ms/step - loss: 6.6349e-07 - acc: 1.0000 - val_loss: 7.0631e-05 - val_acc: 1.0000\n",
            "Epoch 28/100\n",
            "66/66 [==============================] - ETA: 0s - loss: 7.3881e-07 - acc: 1.0000\n",
            "Epoch 00028: val_loss did not improve from 0.00007\n",
            "66/66 [==============================] - 25s 372ms/step - loss: 7.3881e-07 - acc: 1.0000 - val_loss: 7.0732e-05 - val_acc: 1.0000\n",
            "Epoch 29/100\n",
            "66/66 [==============================] - ETA: 0s - loss: 7.0067e-07 - acc: 1.0000\n",
            "Epoch 00029: val_loss improved from 0.00007 to 0.00007, saving model to ./model/soundee_classification.model\n",
            "INFO:tensorflow:Assets written to: ./model/soundee_classification.model/assets\n",
            "66/66 [==============================] - 26s 391ms/step - loss: 7.0067e-07 - acc: 1.0000 - val_loss: 6.5812e-05 - val_acc: 1.0000\n",
            "Epoch 30/100\n",
            "66/66 [==============================] - ETA: 0s - loss: 6.5485e-07 - acc: 1.0000\n",
            "Epoch 00030: val_loss improved from 0.00007 to 0.00007, saving model to ./model/soundee_classification.model\n",
            "INFO:tensorflow:Assets written to: ./model/soundee_classification.model/assets\n",
            "66/66 [==============================] - 26s 393ms/step - loss: 6.5485e-07 - acc: 1.0000 - val_loss: 6.5444e-05 - val_acc: 1.0000\n",
            "Epoch 31/100\n",
            "66/66 [==============================] - ETA: 0s - loss: 7.1097e-07 - acc: 1.0000\n",
            "Epoch 00031: val_loss improved from 0.00007 to 0.00006, saving model to ./model/soundee_classification.model\n",
            "INFO:tensorflow:Assets written to: ./model/soundee_classification.model/assets\n",
            "66/66 [==============================] - 26s 395ms/step - loss: 7.1097e-07 - acc: 1.0000 - val_loss: 6.1141e-05 - val_acc: 1.0000\n",
            "Epoch 32/100\n",
            "66/66 [==============================] - ETA: 0s - loss: 6.0371e-07 - acc: 1.0000\n",
            "Epoch 00032: val_loss improved from 0.00006 to 0.00006, saving model to ./model/soundee_classification.model\n",
            "INFO:tensorflow:Assets written to: ./model/soundee_classification.model/assets\n",
            "66/66 [==============================] - 26s 393ms/step - loss: 6.0371e-07 - acc: 1.0000 - val_loss: 5.8995e-05 - val_acc: 1.0000\n",
            "Epoch 33/100\n",
            "66/66 [==============================] - ETA: 0s - loss: 5.9012e-07 - acc: 1.0000\n",
            "Epoch 00033: val_loss improved from 0.00006 to 0.00006, saving model to ./model/soundee_classification.model\n",
            "INFO:tensorflow:Assets written to: ./model/soundee_classification.model/assets\n",
            "66/66 [==============================] - 26s 390ms/step - loss: 5.9012e-07 - acc: 1.0000 - val_loss: 5.7582e-05 - val_acc: 1.0000\n",
            "Epoch 34/100\n",
            "66/66 [==============================] - ETA: 0s - loss: 6.0911e-07 - acc: 1.0000\n",
            "Epoch 00034: val_loss improved from 0.00006 to 0.00006, saving model to ./model/soundee_classification.model\n",
            "INFO:tensorflow:Assets written to: ./model/soundee_classification.model/assets\n",
            "66/66 [==============================] - 26s 392ms/step - loss: 6.0911e-07 - acc: 1.0000 - val_loss: 5.6324e-05 - val_acc: 1.0000\n",
            "Epoch 35/100\n",
            "66/66 [==============================] - ETA: 0s - loss: 5.5972e-07 - acc: 1.0000\n",
            "Epoch 00035: val_loss did not improve from 0.00006\n",
            "66/66 [==============================] - 25s 374ms/step - loss: 5.5972e-07 - acc: 1.0000 - val_loss: 6.2034e-05 - val_acc: 1.0000\n",
            "Epoch 36/100\n",
            "66/66 [==============================] - ETA: 0s - loss: 5.5598e-07 - acc: 1.0000\n",
            "Epoch 00036: val_loss did not improve from 0.00006\n",
            "66/66 [==============================] - 25s 372ms/step - loss: 5.5598e-07 - acc: 1.0000 - val_loss: 8.4348e-05 - val_acc: 1.0000\n",
            "Epoch 37/100\n",
            "66/66 [==============================] - ETA: 0s - loss: 5.1552e-07 - acc: 1.0000\n",
            "Epoch 00037: val_loss improved from 0.00006 to 0.00005, saving model to ./model/soundee_classification.model\n",
            "INFO:tensorflow:Assets written to: ./model/soundee_classification.model/assets\n",
            "66/66 [==============================] - 26s 394ms/step - loss: 5.1552e-07 - acc: 1.0000 - val_loss: 5.2129e-05 - val_acc: 1.0000\n",
            "Epoch 38/100\n",
            "66/66 [==============================] - ETA: 0s - loss: 4.7009e-07 - acc: 1.0000\n",
            "Epoch 00038: val_loss did not improve from 0.00005\n",
            "66/66 [==============================] - 25s 374ms/step - loss: 4.7009e-07 - acc: 1.0000 - val_loss: 5.2874e-05 - val_acc: 1.0000\n",
            "Epoch 39/100\n",
            "66/66 [==============================] - ETA: 0s - loss: 5.0226e-07 - acc: 1.0000\n",
            "Epoch 00039: val_loss improved from 0.00005 to 0.00005, saving model to ./model/soundee_classification.model\n",
            "INFO:tensorflow:Assets written to: ./model/soundee_classification.model/assets\n",
            "66/66 [==============================] - 26s 392ms/step - loss: 5.0226e-07 - acc: 1.0000 - val_loss: 4.9444e-05 - val_acc: 1.0000\n",
            "Epoch 40/100\n",
            "66/66 [==============================] - ETA: 0s - loss: 4.9557e-07 - acc: 1.0000\n",
            "Epoch 00040: val_loss did not improve from 0.00005\n",
            "66/66 [==============================] - 25s 373ms/step - loss: 4.9557e-07 - acc: 1.0000 - val_loss: 5.1655e-05 - val_acc: 1.0000\n",
            "Epoch 41/100\n",
            "66/66 [==============================] - ETA: 0s - loss: 4.8503e-07 - acc: 1.0000\n",
            "Epoch 00041: val_loss improved from 0.00005 to 0.00005, saving model to ./model/soundee_classification.model\n",
            "INFO:tensorflow:Assets written to: ./model/soundee_classification.model/assets\n",
            "66/66 [==============================] - 26s 392ms/step - loss: 4.8503e-07 - acc: 1.0000 - val_loss: 4.6466e-05 - val_acc: 1.0000\n",
            "Epoch 42/100\n",
            "66/66 [==============================] - ETA: 0s - loss: 4.3404e-07 - acc: 1.0000\n",
            "Epoch 00042: val_loss did not improve from 0.00005\n",
            "66/66 [==============================] - 25s 371ms/step - loss: 4.3404e-07 - acc: 1.0000 - val_loss: 4.8248e-05 - val_acc: 1.0000\n",
            "Epoch 43/100\n",
            "66/66 [==============================] - ETA: 0s - loss: 4.5283e-07 - acc: 1.0000\n",
            "Epoch 00043: val_loss improved from 0.00005 to 0.00005, saving model to ./model/soundee_classification.model\n",
            "INFO:tensorflow:Assets written to: ./model/soundee_classification.model/assets\n",
            "66/66 [==============================] - 26s 393ms/step - loss: 4.5283e-07 - acc: 1.0000 - val_loss: 4.5563e-05 - val_acc: 1.0000\n",
            "Epoch 44/100\n",
            "66/66 [==============================] - ETA: 0s - loss: 4.2679e-07 - acc: 1.0000\n",
            "Epoch 00044: val_loss improved from 0.00005 to 0.00004, saving model to ./model/soundee_classification.model\n",
            "INFO:tensorflow:Assets written to: ./model/soundee_classification.model/assets\n",
            "66/66 [==============================] - 26s 392ms/step - loss: 4.2679e-07 - acc: 1.0000 - val_loss: 4.3475e-05 - val_acc: 1.0000\n",
            "Epoch 45/100\n",
            "66/66 [==============================] - ETA: 0s - loss: 4.3039e-07 - acc: 1.0000\n",
            "Epoch 00045: val_loss did not improve from 0.00004\n",
            "66/66 [==============================] - 25s 373ms/step - loss: 4.3039e-07 - acc: 1.0000 - val_loss: 4.6449e-05 - val_acc: 1.0000\n",
            "Epoch 46/100\n",
            "66/66 [==============================] - ETA: 0s - loss: 3.9340e-07 - acc: 1.0000\n",
            "Epoch 00046: val_loss did not improve from 0.00004\n",
            "66/66 [==============================] - 25s 373ms/step - loss: 3.9340e-07 - acc: 1.0000 - val_loss: 6.2783e-05 - val_acc: 1.0000\n",
            "Epoch 47/100\n",
            "66/66 [==============================] - ETA: 0s - loss: 3.5769e-07 - acc: 1.0000\n",
            "Epoch 00047: val_loss improved from 0.00004 to 0.00004, saving model to ./model/soundee_classification.model\n",
            "INFO:tensorflow:Assets written to: ./model/soundee_classification.model/assets\n",
            "66/66 [==============================] - 26s 392ms/step - loss: 3.5769e-07 - acc: 1.0000 - val_loss: 4.0672e-05 - val_acc: 1.0000\n",
            "Epoch 48/100\n",
            "66/66 [==============================] - ETA: 0s - loss: 3.6879e-07 - acc: 1.0000\n",
            "Epoch 00048: val_loss improved from 0.00004 to 0.00004, saving model to ./model/soundee_classification.model\n",
            "INFO:tensorflow:Assets written to: ./model/soundee_classification.model/assets\n",
            "66/66 [==============================] - 26s 393ms/step - loss: 3.6879e-07 - acc: 1.0000 - val_loss: 4.0558e-05 - val_acc: 1.0000\n",
            "Epoch 49/100\n",
            "66/66 [==============================] - ETA: 0s - loss: 3.7286e-07 - acc: 1.0000\n",
            "Epoch 00049: val_loss improved from 0.00004 to 0.00004, saving model to ./model/soundee_classification.model\n",
            "INFO:tensorflow:Assets written to: ./model/soundee_classification.model/assets\n",
            "66/66 [==============================] - 26s 391ms/step - loss: 3.7286e-07 - acc: 1.0000 - val_loss: 3.9505e-05 - val_acc: 1.0000\n",
            "Epoch 50/100\n",
            "66/66 [==============================] - ETA: 0s - loss: 3.5636e-07 - acc: 1.0000\n",
            "Epoch 00050: val_loss improved from 0.00004 to 0.00004, saving model to ./model/soundee_classification.model\n",
            "INFO:tensorflow:Assets written to: ./model/soundee_classification.model/assets\n",
            "66/66 [==============================] - 26s 391ms/step - loss: 3.5636e-07 - acc: 1.0000 - val_loss: 3.8038e-05 - val_acc: 1.0000\n",
            "Epoch 51/100\n",
            "66/66 [==============================] - ETA: 0s - loss: 3.4294e-07 - acc: 1.0000\n",
            "Epoch 00051: val_loss improved from 0.00004 to 0.00004, saving model to ./model/soundee_classification.model\n",
            "INFO:tensorflow:Assets written to: ./model/soundee_classification.model/assets\n",
            "66/66 [==============================] - 26s 391ms/step - loss: 3.4294e-07 - acc: 1.0000 - val_loss: 3.7093e-05 - val_acc: 1.0000\n",
            "Epoch 52/100\n",
            "66/66 [==============================] - ETA: 0s - loss: 3.4423e-07 - acc: 1.0000\n",
            "Epoch 00052: val_loss did not improve from 0.00004\n",
            "66/66 [==============================] - 25s 372ms/step - loss: 3.4423e-07 - acc: 1.0000 - val_loss: 4.0311e-05 - val_acc: 1.0000\n",
            "Epoch 53/100\n",
            "66/66 [==============================] - ETA: 0s - loss: 3.3367e-07 - acc: 1.0000\n",
            "Epoch 00053: val_loss did not improve from 0.00004\n",
            "66/66 [==============================] - 25s 372ms/step - loss: 3.3367e-07 - acc: 1.0000 - val_loss: 3.7529e-05 - val_acc: 1.0000\n",
            "Epoch 54/100\n",
            "66/66 [==============================] - ETA: 0s - loss: 3.2189e-07 - acc: 1.0000\n",
            "Epoch 00054: val_loss improved from 0.00004 to 0.00003, saving model to ./model/soundee_classification.model\n",
            "INFO:tensorflow:Assets written to: ./model/soundee_classification.model/assets\n",
            "66/66 [==============================] - 26s 393ms/step - loss: 3.2189e-07 - acc: 1.0000 - val_loss: 3.4822e-05 - val_acc: 1.0000\n",
            "Epoch 55/100\n",
            "66/66 [==============================] - ETA: 0s - loss: 3.0375e-07 - acc: 1.0000\n",
            "Epoch 00055: val_loss improved from 0.00003 to 0.00003, saving model to ./model/soundee_classification.model\n",
            "INFO:tensorflow:Assets written to: ./model/soundee_classification.model/assets\n",
            "66/66 [==============================] - 26s 393ms/step - loss: 3.0375e-07 - acc: 1.0000 - val_loss: 3.3818e-05 - val_acc: 1.0000\n",
            "Epoch 56/100\n",
            "66/66 [==============================] - ETA: 0s - loss: 2.9021e-07 - acc: 1.0000\n",
            "Epoch 00056: val_loss improved from 0.00003 to 0.00003, saving model to ./model/soundee_classification.model\n",
            "INFO:tensorflow:Assets written to: ./model/soundee_classification.model/assets\n",
            "66/66 [==============================] - 26s 392ms/step - loss: 2.9021e-07 - acc: 1.0000 - val_loss: 3.3284e-05 - val_acc: 1.0000\n",
            "Epoch 57/100\n",
            "66/66 [==============================] - ETA: 0s - loss: 3.0811e-07 - acc: 1.0000\n",
            "Epoch 00057: val_loss improved from 0.00003 to 0.00003, saving model to ./model/soundee_classification.model\n",
            "INFO:tensorflow:Assets written to: ./model/soundee_classification.model/assets\n",
            "66/66 [==============================] - 26s 395ms/step - loss: 3.0811e-07 - acc: 1.0000 - val_loss: 3.2928e-05 - val_acc: 1.0000\n",
            "Epoch 58/100\n",
            "66/66 [==============================] - ETA: 0s - loss: 2.8733e-07 - acc: 1.0000\n",
            "Epoch 00058: val_loss did not improve from 0.00003\n",
            "66/66 [==============================] - 25s 372ms/step - loss: 2.8733e-07 - acc: 1.0000 - val_loss: 4.8335e-05 - val_acc: 1.0000\n",
            "Epoch 59/100\n",
            "66/66 [==============================] - ETA: 0s - loss: 2.9560e-07 - acc: 1.0000\n",
            "Epoch 00059: val_loss improved from 0.00003 to 0.00003, saving model to ./model/soundee_classification.model\n",
            "INFO:tensorflow:Assets written to: ./model/soundee_classification.model/assets\n",
            "66/66 [==============================] - 26s 392ms/step - loss: 2.9560e-07 - acc: 1.0000 - val_loss: 3.1198e-05 - val_acc: 1.0000\n",
            "Epoch 60/100\n",
            "66/66 [==============================] - ETA: 0s - loss: 2.8603e-07 - acc: 1.0000\n",
            "Epoch 00060: val_loss improved from 0.00003 to 0.00003, saving model to ./model/soundee_classification.model\n",
            "INFO:tensorflow:Assets written to: ./model/soundee_classification.model/assets\n",
            "66/66 [==============================] - 26s 391ms/step - loss: 2.8603e-07 - acc: 1.0000 - val_loss: 3.0782e-05 - val_acc: 1.0000\n",
            "Epoch 61/100\n",
            "66/66 [==============================] - ETA: 0s - loss: 2.5796e-07 - acc: 1.0000\n",
            "Epoch 00061: val_loss improved from 0.00003 to 0.00003, saving model to ./model/soundee_classification.model\n",
            "INFO:tensorflow:Assets written to: ./model/soundee_classification.model/assets\n",
            "66/66 [==============================] - 26s 394ms/step - loss: 2.5796e-07 - acc: 1.0000 - val_loss: 3.0192e-05 - val_acc: 1.0000\n",
            "Epoch 62/100\n",
            "66/66 [==============================] - ETA: 0s - loss: 2.5538e-07 - acc: 1.0000\n",
            "Epoch 00062: val_loss improved from 0.00003 to 0.00003, saving model to ./model/soundee_classification.model\n",
            "INFO:tensorflow:Assets written to: ./model/soundee_classification.model/assets\n",
            "66/66 [==============================] - 26s 392ms/step - loss: 2.5538e-07 - acc: 1.0000 - val_loss: 2.9524e-05 - val_acc: 1.0000\n",
            "Epoch 63/100\n",
            "66/66 [==============================] - ETA: 0s - loss: 2.7545e-07 - acc: 1.0000\n",
            "Epoch 00063: val_loss improved from 0.00003 to 0.00003, saving model to ./model/soundee_classification.model\n",
            "INFO:tensorflow:Assets written to: ./model/soundee_classification.model/assets\n",
            "66/66 [==============================] - 26s 391ms/step - loss: 2.7545e-07 - acc: 1.0000 - val_loss: 2.8898e-05 - val_acc: 1.0000\n",
            "Epoch 64/100\n",
            "66/66 [==============================] - ETA: 0s - loss: 2.5046e-07 - acc: 1.0000\n",
            "Epoch 00064: val_loss did not improve from 0.00003\n",
            "66/66 [==============================] - 24s 371ms/step - loss: 2.5046e-07 - acc: 1.0000 - val_loss: 2.9146e-05 - val_acc: 1.0000\n",
            "Epoch 65/100\n",
            "66/66 [==============================] - ETA: 0s - loss: 2.4186e-07 - acc: 1.0000\n",
            "Epoch 00065: val_loss did not improve from 0.00003\n",
            "66/66 [==============================] - 25s 374ms/step - loss: 2.4186e-07 - acc: 1.0000 - val_loss: 4.1352e-05 - val_acc: 1.0000\n",
            "Epoch 66/100\n",
            "66/66 [==============================] - ETA: 0s - loss: 2.5915e-07 - acc: 1.0000\n",
            "Epoch 00066: val_loss did not improve from 0.00003\n",
            "66/66 [==============================] - 24s 371ms/step - loss: 2.5915e-07 - acc: 1.0000 - val_loss: 2.9588e-05 - val_acc: 1.0000\n",
            "Epoch 67/100\n",
            "66/66 [==============================] - ETA: 0s - loss: 2.4023e-07 - acc: 1.0000\n",
            "Epoch 00067: val_loss improved from 0.00003 to 0.00003, saving model to ./model/soundee_classification.model\n",
            "INFO:tensorflow:Assets written to: ./model/soundee_classification.model/assets\n",
            "66/66 [==============================] - 26s 393ms/step - loss: 2.4023e-07 - acc: 1.0000 - val_loss: 2.6450e-05 - val_acc: 1.0000\n",
            "Epoch 68/100\n",
            "66/66 [==============================] - ETA: 0s - loss: 2.3187e-07 - acc: 1.0000\n",
            "Epoch 00068: val_loss did not improve from 0.00003\n",
            "66/66 [==============================] - 25s 372ms/step - loss: 2.3187e-07 - acc: 1.0000 - val_loss: 2.8537e-05 - val_acc: 1.0000\n",
            "Epoch 69/100\n",
            "66/66 [==============================] - ETA: 0s - loss: 2.2912e-07 - acc: 1.0000\n",
            "Epoch 00069: val_loss did not improve from 0.00003\n",
            "66/66 [==============================] - 25s 372ms/step - loss: 2.2912e-07 - acc: 1.0000 - val_loss: 2.6913e-05 - val_acc: 1.0000\n",
            "Epoch 70/100\n",
            "66/66 [==============================] - ETA: 0s - loss: 2.2291e-07 - acc: 1.0000\n",
            "Epoch 00070: val_loss improved from 0.00003 to 0.00002, saving model to ./model/soundee_classification.model\n",
            "INFO:tensorflow:Assets written to: ./model/soundee_classification.model/assets\n",
            "66/66 [==============================] - 26s 392ms/step - loss: 2.2291e-07 - acc: 1.0000 - val_loss: 2.4737e-05 - val_acc: 1.0000\n",
            "Epoch 71/100\n",
            "66/66 [==============================] - ETA: 0s - loss: 2.2374e-07 - acc: 1.0000\n",
            "Epoch 00071: val_loss did not improve from 0.00002\n",
            "66/66 [==============================] - 24s 371ms/step - loss: 2.2374e-07 - acc: 1.0000 - val_loss: 2.5225e-05 - val_acc: 1.0000\n",
            "Epoch 72/100\n",
            "66/66 [==============================] - ETA: 0s - loss: 2.2885e-07 - acc: 1.0000\n",
            "Epoch 00072: val_loss improved from 0.00002 to 0.00002, saving model to ./model/soundee_classification.model\n",
            "INFO:tensorflow:Assets written to: ./model/soundee_classification.model/assets\n",
            "66/66 [==============================] - 26s 391ms/step - loss: 2.2885e-07 - acc: 1.0000 - val_loss: 2.3816e-05 - val_acc: 1.0000\n",
            "Epoch 73/100\n",
            "66/66 [==============================] - ETA: 0s - loss: 2.1873e-07 - acc: 1.0000\n",
            "Epoch 00073: val_loss did not improve from 0.00002\n",
            "66/66 [==============================] - 25s 372ms/step - loss: 2.1873e-07 - acc: 1.0000 - val_loss: 3.4313e-05 - val_acc: 1.0000\n",
            "Epoch 74/100\n",
            "66/66 [==============================] - ETA: 0s - loss: 2.1494e-07 - acc: 1.0000\n",
            "Epoch 00074: val_loss did not improve from 0.00002\n",
            "66/66 [==============================] - 25s 372ms/step - loss: 2.1494e-07 - acc: 1.0000 - val_loss: 3.3645e-05 - val_acc: 1.0000\n",
            "Epoch 75/100\n",
            "66/66 [==============================] - ETA: 0s - loss: 2.1226e-07 - acc: 1.0000\n",
            "Epoch 00075: val_loss did not improve from 0.00002\n",
            "66/66 [==============================] - 25s 372ms/step - loss: 2.1226e-07 - acc: 1.0000 - val_loss: 2.4225e-05 - val_acc: 1.0000\n",
            "Epoch 76/100\n",
            "66/66 [==============================] - ETA: 0s - loss: 2.0536e-07 - acc: 1.0000\n",
            "Epoch 00076: val_loss improved from 0.00002 to 0.00002, saving model to ./model/soundee_classification.model\n",
            "INFO:tensorflow:Assets written to: ./model/soundee_classification.model/assets\n",
            "66/66 [==============================] - 26s 392ms/step - loss: 2.0536e-07 - acc: 1.0000 - val_loss: 2.3367e-05 - val_acc: 1.0000\n",
            "Epoch 77/100\n",
            "66/66 [==============================] - ETA: 0s - loss: 1.9920e-07 - acc: 1.0000\n",
            "Epoch 00077: val_loss improved from 0.00002 to 0.00002, saving model to ./model/soundee_classification.model\n",
            "INFO:tensorflow:Assets written to: ./model/soundee_classification.model/assets\n",
            "66/66 [==============================] - 26s 394ms/step - loss: 1.9920e-07 - acc: 1.0000 - val_loss: 2.1402e-05 - val_acc: 1.0000\n",
            "Epoch 78/100\n",
            "66/66 [==============================] - ETA: 0s - loss: 2.0667e-07 - acc: 1.0000\n",
            "Epoch 00078: val_loss improved from 0.00002 to 0.00002, saving model to ./model/soundee_classification.model\n",
            "INFO:tensorflow:Assets written to: ./model/soundee_classification.model/assets\n",
            "66/66 [==============================] - 26s 392ms/step - loss: 2.0667e-07 - acc: 1.0000 - val_loss: 2.0984e-05 - val_acc: 1.0000\n",
            "Epoch 79/100\n",
            "66/66 [==============================] - ETA: 0s - loss: 1.9261e-07 - acc: 1.0000\n",
            "Epoch 00079: val_loss improved from 0.00002 to 0.00002, saving model to ./model/soundee_classification.model\n",
            "INFO:tensorflow:Assets written to: ./model/soundee_classification.model/assets\n",
            "66/66 [==============================] - 26s 391ms/step - loss: 1.9261e-07 - acc: 1.0000 - val_loss: 2.0450e-05 - val_acc: 1.0000\n",
            "Epoch 80/100\n",
            "66/66 [==============================] - ETA: 0s - loss: 1.9209e-07 - acc: 1.0000\n",
            "Epoch 00080: val_loss improved from 0.00002 to 0.00002, saving model to ./model/soundee_classification.model\n",
            "INFO:tensorflow:Assets written to: ./model/soundee_classification.model/assets\n",
            "66/66 [==============================] - 26s 393ms/step - loss: 1.9209e-07 - acc: 1.0000 - val_loss: 2.0024e-05 - val_acc: 1.0000\n",
            "Epoch 81/100\n",
            "66/66 [==============================] - ETA: 0s - loss: 1.8928e-07 - acc: 1.0000\n",
            "Epoch 00081: val_loss improved from 0.00002 to 0.00002, saving model to ./model/soundee_classification.model\n",
            "INFO:tensorflow:Assets written to: ./model/soundee_classification.model/assets\n",
            "66/66 [==============================] - 26s 392ms/step - loss: 1.8928e-07 - acc: 1.0000 - val_loss: 1.9690e-05 - val_acc: 1.0000\n",
            "Epoch 82/100\n",
            "66/66 [==============================] - ETA: 0s - loss: 1.8320e-07 - acc: 1.0000\n",
            "Epoch 00082: val_loss improved from 0.00002 to 0.00002, saving model to ./model/soundee_classification.model\n",
            "INFO:tensorflow:Assets written to: ./model/soundee_classification.model/assets\n",
            "66/66 [==============================] - 26s 390ms/step - loss: 1.8320e-07 - acc: 1.0000 - val_loss: 1.9451e-05 - val_acc: 1.0000\n",
            "Epoch 83/100\n",
            "66/66 [==============================] - ETA: 0s - loss: 1.8999e-07 - acc: 1.0000\n",
            "Epoch 00083: val_loss improved from 0.00002 to 0.00002, saving model to ./model/soundee_classification.model\n",
            "INFO:tensorflow:Assets written to: ./model/soundee_classification.model/assets\n",
            "66/66 [==============================] - 26s 394ms/step - loss: 1.8999e-07 - acc: 1.0000 - val_loss: 1.9024e-05 - val_acc: 1.0000\n",
            "Epoch 84/100\n",
            "66/66 [==============================] - ETA: 0s - loss: 1.7553e-07 - acc: 1.0000\n",
            "Epoch 00084: val_loss improved from 0.00002 to 0.00002, saving model to ./model/soundee_classification.model\n",
            "INFO:tensorflow:Assets written to: ./model/soundee_classification.model/assets\n",
            "66/66 [==============================] - 26s 393ms/step - loss: 1.7553e-07 - acc: 1.0000 - val_loss: 1.8600e-05 - val_acc: 1.0000\n",
            "Epoch 85/100\n",
            "66/66 [==============================] - ETA: 0s - loss: 1.8934e-07 - acc: 1.0000\n",
            "Epoch 00085: val_loss improved from 0.00002 to 0.00002, saving model to ./model/soundee_classification.model\n",
            "INFO:tensorflow:Assets written to: ./model/soundee_classification.model/assets\n",
            "66/66 [==============================] - 26s 391ms/step - loss: 1.8934e-07 - acc: 1.0000 - val_loss: 1.8301e-05 - val_acc: 1.0000\n",
            "Epoch 86/100\n",
            "66/66 [==============================] - ETA: 0s - loss: 1.6998e-07 - acc: 1.0000\n",
            "Epoch 00086: val_loss did not improve from 0.00002\n",
            "66/66 [==============================] - 25s 373ms/step - loss: 1.6998e-07 - acc: 1.0000 - val_loss: 1.9928e-05 - val_acc: 1.0000\n",
            "Epoch 87/100\n",
            "66/66 [==============================] - ETA: 0s - loss: 1.7207e-07 - acc: 1.0000\n",
            "Epoch 00087: val_loss improved from 0.00002 to 0.00002, saving model to ./model/soundee_classification.model\n",
            "INFO:tensorflow:Assets written to: ./model/soundee_classification.model/assets\n",
            "66/66 [==============================] - 26s 394ms/step - loss: 1.7207e-07 - acc: 1.0000 - val_loss: 1.7420e-05 - val_acc: 1.0000\n",
            "Epoch 88/100\n",
            "66/66 [==============================] - ETA: 0s - loss: 1.7647e-07 - acc: 1.0000\n",
            "Epoch 00088: val_loss did not improve from 0.00002\n",
            "66/66 [==============================] - 25s 372ms/step - loss: 1.7647e-07 - acc: 1.0000 - val_loss: 1.8761e-05 - val_acc: 1.0000\n",
            "Epoch 89/100\n",
            "66/66 [==============================] - ETA: 0s - loss: 1.7191e-07 - acc: 1.0000\n",
            "Epoch 00089: val_loss improved from 0.00002 to 0.00002, saving model to ./model/soundee_classification.model\n",
            "INFO:tensorflow:Assets written to: ./model/soundee_classification.model/assets\n",
            "66/66 [==============================] - 26s 392ms/step - loss: 1.7191e-07 - acc: 1.0000 - val_loss: 1.7095e-05 - val_acc: 1.0000\n",
            "Epoch 90/100\n",
            "66/66 [==============================] - ETA: 0s - loss: 1.7324e-07 - acc: 1.0000\n",
            "Epoch 00090: val_loss improved from 0.00002 to 0.00002, saving model to ./model/soundee_classification.model\n",
            "INFO:tensorflow:Assets written to: ./model/soundee_classification.model/assets\n",
            "66/66 [==============================] - 26s 392ms/step - loss: 1.7324e-07 - acc: 1.0000 - val_loss: 1.6724e-05 - val_acc: 1.0000\n",
            "Epoch 91/100\n",
            "66/66 [==============================] - ETA: 0s - loss: 1.6298e-07 - acc: 1.0000\n",
            "Epoch 00091: val_loss improved from 0.00002 to 0.00002, saving model to ./model/soundee_classification.model\n",
            "INFO:tensorflow:Assets written to: ./model/soundee_classification.model/assets\n",
            "66/66 [==============================] - 26s 391ms/step - loss: 1.6298e-07 - acc: 1.0000 - val_loss: 1.6420e-05 - val_acc: 1.0000\n",
            "Epoch 92/100\n",
            "66/66 [==============================] - ETA: 0s - loss: 1.7495e-07 - acc: 1.0000\n",
            "Epoch 00092: val_loss did not improve from 0.00002\n",
            "66/66 [==============================] - 25s 372ms/step - loss: 1.7495e-07 - acc: 1.0000 - val_loss: 1.7496e-05 - val_acc: 1.0000\n",
            "Epoch 93/100\n",
            "66/66 [==============================] - ETA: 0s - loss: 1.5875e-07 - acc: 1.0000\n",
            "Epoch 00093: val_loss improved from 0.00002 to 0.00002, saving model to ./model/soundee_classification.model\n",
            "INFO:tensorflow:Assets written to: ./model/soundee_classification.model/assets\n",
            "66/66 [==============================] - 26s 394ms/step - loss: 1.5875e-07 - acc: 1.0000 - val_loss: 1.6149e-05 - val_acc: 1.0000\n",
            "Epoch 94/100\n",
            "66/66 [==============================] - ETA: 0s - loss: 1.6504e-07 - acc: 1.0000\n",
            "Epoch 00094: val_loss improved from 0.00002 to 0.00002, saving model to ./model/soundee_classification.model\n",
            "INFO:tensorflow:Assets written to: ./model/soundee_classification.model/assets\n",
            "66/66 [==============================] - 26s 392ms/step - loss: 1.6504e-07 - acc: 1.0000 - val_loss: 1.5907e-05 - val_acc: 1.0000\n",
            "Epoch 95/100\n",
            "66/66 [==============================] - ETA: 0s - loss: 1.6040e-07 - acc: 1.0000\n",
            "Epoch 00095: val_loss improved from 0.00002 to 0.00002, saving model to ./model/soundee_classification.model\n",
            "INFO:tensorflow:Assets written to: ./model/soundee_classification.model/assets\n",
            "66/66 [==============================] - 26s 392ms/step - loss: 1.6040e-07 - acc: 1.0000 - val_loss: 1.5773e-05 - val_acc: 1.0000\n",
            "Epoch 96/100\n",
            "66/66 [==============================] - ETA: 0s - loss: 1.5302e-07 - acc: 1.0000\n",
            "Epoch 00096: val_loss improved from 0.00002 to 0.00001, saving model to ./model/soundee_classification.model\n",
            "INFO:tensorflow:Assets written to: ./model/soundee_classification.model/assets\n",
            "66/66 [==============================] - 26s 393ms/step - loss: 1.5302e-07 - acc: 1.0000 - val_loss: 1.4947e-05 - val_acc: 1.0000\n",
            "Epoch 97/100\n",
            "66/66 [==============================] - ETA: 0s - loss: 1.5896e-07 - acc: 1.0000\n",
            "Epoch 00097: val_loss did not improve from 0.00001\n",
            "66/66 [==============================] - 25s 373ms/step - loss: 1.5896e-07 - acc: 1.0000 - val_loss: 1.5872e-05 - val_acc: 1.0000\n",
            "Epoch 98/100\n",
            "66/66 [==============================] - ETA: 0s - loss: 1.5525e-07 - acc: 1.0000\n",
            "Epoch 00098: val_loss did not improve from 0.00001\n",
            "66/66 [==============================] - 25s 373ms/step - loss: 1.5525e-07 - acc: 1.0000 - val_loss: 1.5944e-05 - val_acc: 1.0000\n",
            "Epoch 99/100\n",
            "66/66 [==============================] - ETA: 0s - loss: 1.5535e-07 - acc: 1.0000\n",
            "Epoch 00099: val_loss improved from 0.00001 to 0.00001, saving model to ./model/soundee_classification.model\n",
            "INFO:tensorflow:Assets written to: ./model/soundee_classification.model/assets\n",
            "66/66 [==============================] - 26s 392ms/step - loss: 1.5535e-07 - acc: 1.0000 - val_loss: 1.4226e-05 - val_acc: 1.0000\n",
            "Epoch 100/100\n",
            "66/66 [==============================] - ETA: 0s - loss: 1.5446e-07 - acc: 1.0000\n",
            "Epoch 00100: val_loss improved from 0.00001 to 0.00001, saving model to ./model/soundee_classification.model\n",
            "INFO:tensorflow:Assets written to: ./model/soundee_classification.model/assets\n",
            "66/66 [==============================] - 26s 392ms/step - loss: 1.5446e-07 - acc: 1.0000 - val_loss: 1.3866e-05 - val_acc: 1.0000\n"
          ],
          "name": "stdout"
        }
      ]
    },
    {
      "cell_type": "code",
      "metadata": {
        "id": "no5xv9Ew97Rb",
        "colab_type": "code",
        "colab": {
          "base_uri": "https://localhost:8080/",
          "height": 88
        },
        "outputId": "a9887866-c243-4d69-f1fd-1949f0083349"
      },
      "source": [
        "!ls {checkpoint_dir} # 저장된 checkpoint 확인하기"
      ],
      "execution_count": null,
      "outputs": [
        {
          "output_type": "stream",
          "text": [
            "checkpoint\n",
            "soundee_classification.model.data-00000-of-00002\n",
            "soundee_classification.model.data-00001-of-00002\n",
            "soundee_classification.model.index\n"
          ],
          "name": "stdout"
        }
      ]
    },
    {
      "cell_type": "code",
      "metadata": {
        "id": "XBTTi_4GZJgD",
        "colab_type": "code",
        "colab": {}
      },
      "source": [
        "#model.save_weights('saveweights', save_format='tf')"
      ],
      "execution_count": null,
      "outputs": []
    },
    {
      "cell_type": "code",
      "metadata": {
        "id": "7ZdvfDCsZvFD",
        "colab_type": "code",
        "colab": {
          "base_uri": "https://localhost:8080/",
          "height": 545
        },
        "outputId": "bb7d642b-3e28-4e4c-aeb4-6a93b2e62d1d"
      },
      "source": [
        "acc = hist.history['acc']\n",
        "val_acc = hist.history['val_acc']\n",
        "loss = hist.history['loss']\n",
        "val_loss = hist.history['val_loss']\n",
        "\n",
        "epochs = range(len(acc))\n",
        "\n",
        "plt.plot(epochs, acc, 'bo', label='Training acc')\n",
        "plt.plot(epochs, val_acc, 'b', label='Validation acc')\n",
        "plt.title('Training and validation accuracy')\n",
        "plt.legend()\n",
        "\n",
        "plt.figure()\n",
        "\n",
        "plt.plot(epochs, loss, 'bo', label='Training loss')\n",
        "plt.plot(epochs, val_loss, 'b', label='Validation loss')\n",
        "plt.title('Training and validation loss')\n",
        "plt.legend()\n",
        "\n",
        "plt.show()"
      ],
      "execution_count": 33,
      "outputs": [
        {
          "output_type": "display_data",
          "data": {
            "image/png": "[encoded data removed]",
            "text/plain": [
              "<Figure size 432x288 with 1 Axes>"
            ]
          },
          "metadata": {
            "tags": [],
            "needs_background": "light"
          }
        },
        {
          "output_type": "display_data",
          "data": {
            "image/png": "[encoded data removed]",
            "text/plain": [
              "<Figure size 432x288 with 1 Axes>"
            ]
          },
          "metadata": {
            "tags": [],
            "needs_background": "light"
          }
        }
      ]
    },
    {
      "cell_type": "code",
      "metadata": {
        "id": "IfXrBnLk_eO5",
        "colab_type": "code",
        "colab": {
          "base_uri": "https://localhost:8080/",
          "height": 52
        },
        "outputId": "35c01994-2585-4048-f484-9d3046f72627"
      },
      "source": [
        "loss, acc = model.evaluate(test_ds, batch_size=BATCH_SIZE, steps=TEST_STEPS)\n",
        "print('acc: %.2f%%, loss: %f'% (acc*100, loss))"
      ],
      "execution_count": 34,
      "outputs": [
        {
          "output_type": "stream",
          "text": [
            "14/14 [==============================] - 1s 100ms/step - loss: 2.9685e-04 - acc: 1.0000\n",
            "acc: 100.00%, loss: 0.000297\n"
          ],
          "name": "stdout"
        }
      ]
    },
    {
      "cell_type": "markdown",
      "metadata": {
        "id": "jqH-L7qm8U_R",
        "colab_type": "text"
      },
      "source": [
        "prediction test"
      ]
    },
    {
      "cell_type": "code",
      "metadata": {
        "id": "9aOuWAZ-8TTV",
        "colab_type": "code",
        "colab": {}
      },
      "source": [
        "from PIL import Image\n",
        "#import os, glob, numpy as np\n",
        "from keras.models import load_model"
      ],
      "execution_count": 35,
      "outputs": []
    },
    {
      "cell_type": "code",
      "metadata": {
        "id": "hpsNgzwxBvdi",
        "colab_type": "code",
        "colab": {
          "base_uri": "https://localhost:8080/",
          "height": 52
        },
        "outputId": "d6864e29-1aef-4b78-fcb6-a5a02ef41c3a"
      },
      "source": [
        "test_dir = tf.keras.utils.get_file(origin='https://docs.google.com/uc?export=download&id=1VMllFJGjUwTScLMSpYJAR7gqjtQGu7fH', \n",
        "                                   fname='test', extract=True)\n",
        "test_dir = pathlib.Path(test_dir)"
      ],
      "execution_count": 36,
      "outputs": [
        {
          "output_type": "stream",
          "text": [
            "Downloading data from https://docs.google.com/uc?export=download&id=1VMllFJGjUwTScLMSpYJAR7gqjtQGu7fH\n",
            "983040/978684 [==============================] - 0s 0us/step\n"
          ],
          "name": "stdout"
        }
      ]
    },
    {
      "cell_type": "code",
      "metadata": {
        "id": "0TrsypJ8vuFC",
        "colab_type": "code",
        "colab": {}
      },
      "source": [
        "#test_dir = pathlib.PosixPath(\"/root/.keras/datasets/DATASET\")"
      ],
      "execution_count": null,
      "outputs": []
    },
    {
      "cell_type": "code",
      "metadata": {
        "id": "aXPBEY6uNIrM",
        "colab_type": "code",
        "colab": {}
      },
      "source": [
        "test_dir = \"/root/.keras/datasets/DATASET\""
      ],
      "execution_count": 37,
      "outputs": []
    },
    {
      "cell_type": "code",
      "metadata": {
        "id": "Fd-XzmmjO6d1",
        "colab_type": "code",
        "colab": {}
      },
      "source": [
        "X = []\n",
        "filenames = []\n",
        "files = glob(test_dir+\"/*.png\")\n",
        "for i, f in enumerate(files):\n",
        "    img = Image.open(f)\n",
        "    img = img.convert(\"RGB\")\n",
        "    img = img.resize((IMG_WIDTH, IMG_HEIGHT))\n",
        "    data = np.asarray(img)\n",
        "    filenames.append(f)\n",
        "    X.append(data)\n",
        "\n",
        "X = np.array(X, dtype=np.float32)"
      ],
      "execution_count": 38,
      "outputs": []
    },
    {
      "cell_type": "code",
      "metadata": {
        "id": "7n-G-pvOxy28",
        "colab_type": "code",
        "colab": {
          "base_uri": "https://localhost:8080/",
          "height": 301
        },
        "outputId": "897066e5-dbff-4966-ddb5-20bf81692248"
      },
      "source": [
        "files[:16]"
      ],
      "execution_count": 39,
      "outputs": [
        {
          "output_type": "execute_result",
          "data": {
            "text/plain": [
              "['/root/.keras/datasets/DATASET/MOTOR_2.png',\n",
              " '/root/.keras/datasets/DATASET/MOTOR_5.png',\n",
              " '/root/.keras/datasets/DATASET/WATER_3.png',\n",
              " '/root/.keras/datasets/DATASET/MOTOR_0.png',\n",
              " '/root/.keras/datasets/DATASET/DROP_5.png',\n",
              " '/root/.keras/datasets/DATASET/DROP_1.png',\n",
              " '/root/.keras/datasets/DATASET/MOTOR_1.png',\n",
              " '/root/.keras/datasets/DATASET/DROP_2.png',\n",
              " '/root/.keras/datasets/DATASET/WATER_0.png',\n",
              " '/root/.keras/datasets/DATASET/WATER_4.png',\n",
              " '/root/.keras/datasets/DATASET/DROP_4.png',\n",
              " '/root/.keras/datasets/DATASET/WATER_2.png',\n",
              " '/root/.keras/datasets/DATASET/DROP_0.png',\n",
              " '/root/.keras/datasets/DATASET/WATER_5.png',\n",
              " '/root/.keras/datasets/DATASET/WATER_1.png',\n",
              " '/root/.keras/datasets/DATASET/MOTOR_3.png']"
            ]
          },
          "metadata": {
            "tags": []
          },
          "execution_count": 39
        }
      ]
    },
    {
      "cell_type": "code",
      "metadata": {
        "id": "_GLVcO-vQVOV",
        "colab_type": "code",
        "colab": {}
      },
      "source": [
        "prediction = model.predict(X)\n",
        "np.set_printoptions(formatter={'float': lambda x: \"{0:0.3f}\".format(x)})"
      ],
      "execution_count": 40,
      "outputs": []
    },
    {
      "cell_type": "code",
      "metadata": {
        "id": "c9KR3__95D1U",
        "colab_type": "code",
        "colab": {
          "base_uri": "https://localhost:8080/",
          "height": 35
        },
        "outputId": "9d1fd9f9-dd1c-4741-cd16-bf094d105a79"
      },
      "source": [
        "filenames[12].split('/')"
      ],
      "execution_count": null,
      "outputs": [
        {
          "output_type": "execute_result",
          "data": {
            "text/plain": [
              "['', 'root', '.keras', 'datasets', 'DATASET', 'DROP_3.png']"
            ]
          },
          "metadata": {
            "tags": []
          },
          "execution_count": 36
        }
      ]
    },
    {
      "cell_type": "code",
      "metadata": {
        "id": "czcJ7wWCQ_ZY",
        "colab_type": "code",
        "colab": {
          "base_uri": "https://localhost:8080/",
          "height": 995
        },
        "outputId": "bd2baf80-df61-4396-c3f2-7e390ef5f47c"
      },
      "source": [
        "cnt = 0\n",
        "for i in prediction:\n",
        "    pre_ans = i.argmax()  # 예측 레이블\n",
        "    print(i)\n",
        "    pre_ans_str = ''\n",
        "    if pre_ans == 0: pre_ans_str = \"motor\"\n",
        "    elif pre_ans == 1: pre_ans_str = \"water\"\n",
        "    elif pre_ans == 2: pre_ans_str = \"drop\"\n",
        "    #elif pre_ans == 3: pre_ans_str = \"baby\"\n",
        "    #else: pre_ans_str = \"dog\"\n",
        "\n",
        "    if i[0] >= 0.8 : print(\"해당 \"+filenames[cnt].split('/')[5]+\"이미지는 \"+pre_ans_str+\"로 추정됩니다.\")\n",
        "    if i[1] >= 0.8: print(\"해당 \"+filenames[cnt].split('/')[5]+\"이미지는 \"+pre_ans_str+\"로 추정됩니다.\")\n",
        "    if i[2] >= 0.8: print(\"해당 \"+filenames[cnt].split('/')[5]+\"이미지는 \"+pre_ans_str+\"로 추정됩니다.\")\n",
        "    #if i[3] >= 0.8: print(\"해당 \"+filenames[cnt].split('/')[5]+\"이미지는 \"+pre_ans_str+\"로 추정됩니다.\")\n",
        "    #if i[4] >= 0.8: print(\"해당 \"+filenames[cnt].split('/')[5]+\"이미지는 \"+pre_ans_str+\"로 추정됩니다.\")\n",
        "    if i[0] < 0.8 and i[1] < 0.8 and i[2] < 0.8 : print(\"추정할 수 없습니다.\")\n",
        "    print()\n",
        "    cnt += 1"
      ],
      "execution_count": 41,
      "outputs": [
        {
          "output_type": "stream",
          "text": [
            "[0.000 1.000 0.000]\n",
            "해당 MOTOR_2.png이미지는 water로 추정됩니다.\n",
            "\n",
            "[0.000 0.000 1.000]\n",
            "해당 MOTOR_5.png이미지는 drop로 추정됩니다.\n",
            "\n",
            "[1.000 0.000 0.000]\n",
            "해당 WATER_3.png이미지는 motor로 추정됩니다.\n",
            "\n",
            "[0.000 1.000 1.000]\n",
            "해당 MOTOR_0.png이미지는 water로 추정됩니다.\n",
            "해당 MOTOR_0.png이미지는 water로 추정됩니다.\n",
            "\n",
            "[0.000 1.000 0.000]\n",
            "해당 DROP_5.png이미지는 water로 추정됩니다.\n",
            "\n",
            "[0.000 1.000 0.000]\n",
            "해당 DROP_1.png이미지는 water로 추정됩니다.\n",
            "\n",
            "[0.000 1.000 0.000]\n",
            "해당 MOTOR_1.png이미지는 water로 추정됩니다.\n",
            "\n",
            "[0.000 1.000 0.000]\n",
            "해당 DROP_2.png이미지는 water로 추정됩니다.\n",
            "\n",
            "[1.000 0.000 0.000]\n",
            "해당 WATER_0.png이미지는 motor로 추정됩니다.\n",
            "\n",
            "[1.000 0.000 0.000]\n",
            "해당 WATER_4.png이미지는 motor로 추정됩니다.\n",
            "\n",
            "[0.000 1.000 0.000]\n",
            "해당 DROP_4.png이미지는 water로 추정됩니다.\n",
            "\n",
            "[0.000 1.000 0.000]\n",
            "해당 WATER_2.png이미지는 water로 추정됩니다.\n",
            "\n",
            "[0.000 1.000 0.000]\n",
            "해당 DROP_0.png이미지는 water로 추정됩니다.\n",
            "\n",
            "[1.000 0.000 0.000]\n",
            "해당 WATER_5.png이미지는 motor로 추정됩니다.\n",
            "\n",
            "[0.000 0.000 0.000]\n",
            "추정할 수 없습니다.\n",
            "\n",
            "[0.000 0.000 1.000]\n",
            "해당 MOTOR_3.png이미지는 drop로 추정됩니다.\n",
            "\n",
            "[0.000 1.000 0.000]\n",
            "해당 DROP_3.png이미지는 water로 추정됩니다.\n",
            "\n",
            "[0.000 0.000 1.000]\n",
            "해당 MOTOR_4.png이미지는 drop로 추정됩니다.\n",
            "\n"
          ],
          "name": "stdout"
        }
      ]
    },
    {
      "cell_type": "code",
      "metadata": {
        "id": "hWuRiJ4-8Tiz",
        "colab_type": "code",
        "colab": {}
      },
      "source": [
        ""
      ],
      "execution_count": null,
      "outputs": []
    },
    {
      "cell_type": "code",
      "metadata": {
        "id": "eRJHAx_l8Tet",
        "colab_type": "code",
        "colab": {}
      },
      "source": [
        ""
      ],
      "execution_count": null,
      "outputs": []
    },
    {
      "cell_type": "code",
      "metadata": {
        "id": "_U3QGlUY8Tc2",
        "colab_type": "code",
        "colab": {}
      },
      "source": [
        ""
      ],
      "execution_count": null,
      "outputs": []
    },
    {
      "cell_type": "code",
      "metadata": {
        "id": "8gUb99RH8TZ1",
        "colab_type": "code",
        "colab": {}
      },
      "source": [
        ""
      ],
      "execution_count": null,
      "outputs": []
    },
    {
      "cell_type": "code",
      "metadata": {
        "id": "Vx2uRe1X8TXn",
        "colab_type": "code",
        "colab": {}
      },
      "source": [
        ""
      ],
      "execution_count": null,
      "outputs": []
    },
    {
      "cell_type": "code",
      "metadata": {
        "id": "0QZWw5nu_Gt3",
        "colab_type": "code",
        "colab": {}
      },
      "source": [
        "output = model.predict(test_ds, steps=TEST_STEPS)\n",
        "np.set_printoptions(formatter={'float': lambda x: \"{0:0.3f}\".format(x)})\n",
        "print(output)"
      ],
      "execution_count": null,
      "outputs": []
    },
    {
      "cell_type": "code",
      "metadata": {
        "id": "p8c3usQn_Gwb",
        "colab_type": "code",
        "colab": {}
      },
      "source": [
        "for i in output:\n",
        "    pre_ans = i.argmax()  # 예측 레이블\n",
        "    print(i)\n",
        "    #print(pre_ans)\n",
        "    pre_ans_str = ''\n",
        "    if pre_ans == 0: pre_ans_str = \"motor\"\n",
        "    elif pre_ans == 1: pre_ans_str = \"water\"\n",
        "    elif pre_ans == 2: pre_ans_str = \"drop\"\n",
        "    elif pre_ans == 3: pre_ans_str = \"baby\"\n",
        "    else: pre_ans_str = \"dog\"\n",
        "\n",
        "    if i[0] >= 0.8 : print(\"해당 이미지는 \"+pre_ans_str+\"로 추정됩니다.\")\n",
        "    #else : print(\"추정하지 못했습니다.\")\n",
        "    if i[1] >= 0.8: print(\"해당 이미지는 \"+pre_ans_str+\"로 추정됩니다.\")\n",
        "    #else : print(\"추정하지 못했습니다.\")\n",
        "    if i[2] >= 0.8: print(\"해당 이미지는 \"+pre_ans_str+\"로 추정됩니다.\")\n",
        "    #else : print(\"추정하지 못했습니다.\")\n",
        "    if i[3] >= 0.8: print(\"해당 이미지는 \"+pre_ans_str+\"로 추정됩니다.\")\n",
        "    #else : print(\"추정하지 못했습니다.\")\n",
        "    if i[4] >= 0.8: print(\"해당 이미지는 \"+pre_ans_str+\"로 추정됩니다.\")\n",
        "    #else : print(\"추정하지 못했습니다.\")"
      ],
      "execution_count": null,
      "outputs": []
    },
    {
      "cell_type": "code",
      "metadata": {
        "id": "l9QsITJrNbNF",
        "colab_type": "code",
        "colab": {}
      },
      "source": [
        ""
      ],
      "execution_count": null,
      "outputs": []
    },
    {
      "cell_type": "code",
      "metadata": {
        "id": "6gCb0bESNbQf",
        "colab_type": "code",
        "colab": {}
      },
      "source": [
        "from PIL import Image\n",
        "#import os, glob, numpy as np\n",
        "from keras.models import load_model"
      ],
      "execution_count": null,
      "outputs": []
    },
    {
      "cell_type": "code",
      "metadata": {
        "id": "5M4wnOWcNiDh",
        "colab_type": "code",
        "colab": {}
      },
      "source": [
        "test_dir = \"./multi_img_data/imgs_others_test\" #test 이미지 넣어둔 디렉토리 경로. git에서 받아와서 설정하면됨"
      ],
      "execution_count": null,
      "outputs": []
    },
    {
      "cell_type": "code",
      "metadata": {
        "id": "Wf62XEqQNiGU",
        "colab_type": "code",
        "colab": {}
      },
      "source": [
        "model = load_model('soundee_classification.model')"
      ],
      "execution_count": null,
      "outputs": []
    },
    {
      "cell_type": "code",
      "metadata": {
        "id": "a6EibquwFtqO",
        "colab_type": "code",
        "colab": {}
      },
      "source": [
        "test_model = AcousticSoundModel()"
      ],
      "execution_count": null,
      "outputs": []
    },
    {
      "cell_type": "code",
      "metadata": {
        "id": "PiJwKgKD_qgr",
        "colab_type": "code",
        "colab": {
          "base_uri": "https://localhost:8080/",
          "height": 35
        },
        "outputId": "0528b63d-eb7b-4006-e631-77df37f11558"
      },
      "source": [
        "test_model.load_weights(checkpoint_path)"
      ],
      "execution_count": null,
      "outputs": [
        {
          "output_type": "execute_result",
          "data": {
            "text/plain": [
              "<tensorflow.python.training.tracking.util.CheckpointLoadStatus at 0x7fa8500d7668>"
            ]
          },
          "metadata": {
            "tags": []
          },
          "execution_count": 51
        }
      ]
    },
    {
      "cell_type": "code",
      "metadata": {
        "id": "w_1xUX93bnrr",
        "colab_type": "code",
        "colab": {}
      },
      "source": [
        "X[1]"
      ],
      "execution_count": null,
      "outputs": []
    },
    {
      "cell_type": "code",
      "metadata": {
        "id": "Vdeo7OMCRMQ0",
        "colab_type": "code",
        "colab": {
          "base_uri": "https://localhost:8080/",
          "height": 177
        },
        "outputId": "3c4e4031-9c0c-4273-927c-42680b065b88"
      },
      "source": [
        "filenames[:10]"
      ],
      "execution_count": null,
      "outputs": [
        {
          "output_type": "execute_result",
          "data": {
            "text/plain": [
              "['/root/.keras/datasets/DATASET/DROP_0.png',\n",
              " '/root/.keras/datasets/DATASET/MOTOR_2.png',\n",
              " '/root/.keras/datasets/DATASET/WATER_0.png',\n",
              " '/root/.keras/datasets/DATASET/WATER_1.png',\n",
              " '/root/.keras/datasets/DATASET/MOTOR_0.png',\n",
              " '/root/.keras/datasets/DATASET/WATER_2.png',\n",
              " '/root/.keras/datasets/DATASET/MOTOR_1.png',\n",
              " '/root/.keras/datasets/DATASET/DROP_2.png',\n",
              " '/root/.keras/datasets/DATASET/DROP_1.png']"
            ]
          },
          "metadata": {
            "tags": []
          },
          "execution_count": 46
        }
      ]
    },
    {
      "cell_type": "code",
      "metadata": {
        "id": "CL8FONP0Q_ce",
        "colab_type": "code",
        "colab": {}
      },
      "source": [
        ""
      ],
      "execution_count": null,
      "outputs": []
    },
    {
      "cell_type": "code",
      "metadata": {
        "id": "c2MNw7mJQ_pL",
        "colab_type": "code",
        "colab": {}
      },
      "source": [
        ""
      ],
      "execution_count": null,
      "outputs": []
    },
    {
      "cell_type": "code",
      "metadata": {
        "id": "gS4IGiU1Q_ss",
        "colab_type": "code",
        "colab": {}
      },
      "source": [
        ""
      ],
      "execution_count": null,
      "outputs": []
    },
    {
      "cell_type": "code",
      "metadata": {
        "id": "GxW1hQncNs1P",
        "colab_type": "code",
        "colab": {}
      },
      "source": [
        "path = test_dir[0]"
      ],
      "execution_count": null,
      "outputs": []
    },
    {
      "cell_type": "code",
      "metadata": {
        "id": "MXbNOdQONShw",
        "colab_type": "code",
        "colab": {}
      },
      "source": [
        "image_pil = Image.open(path)\n",
        "image = np.array(image_pil)"
      ],
      "execution_count": null,
      "outputs": []
    },
    {
      "cell_type": "code",
      "metadata": {
        "id": "4KZv0FQBN40a",
        "colab_type": "code",
        "colab": {
          "base_uri": "https://localhost:8080/",
          "height": 35
        },
        "outputId": "d76e45a2-7a51-452a-ba2b-c897c653cfe8"
      },
      "source": [
        "image.shape"
      ],
      "execution_count": null,
      "outputs": [
        {
          "output_type": "execute_result",
          "data": {
            "text/plain": [
              "(770, 310, 4)"
            ]
          },
          "metadata": {
            "tags": []
          },
          "execution_count": 21
        }
      ]
    },
    {
      "cell_type": "code",
      "metadata": {
        "id": "rt5GZJZ9N-up",
        "colab_type": "code",
        "colab": {
          "base_uri": "https://localhost:8080/",
          "height": 269
        },
        "outputId": "6e6882d4-836f-4dbd-aa56-6a2097dcab57"
      },
      "source": [
        "plt.imshow(image)\n",
        "plt.show()"
      ],
      "execution_count": null,
      "outputs": [
        {
          "output_type": "display_data",
          "data": {
            "image/png": "[encoded data removed]",
            "text/plain": [
              "<Figure size 432x288 with 1 Axes>"
            ]
          },
          "metadata": {
            "tags": [],
            "needs_background": "light"
          }
        }
      ]
    },
    {
      "cell_type": "code",
      "metadata": {
        "id": "RJD9RF1ZzvUf",
        "colab_type": "code",
        "colab": {}
      },
      "source": [
        "test = tf.data.Dataset.list_files(str(test_dir/'*'))\n",
        "test = list_ds.map(process_path, num_parallel_calls=AUTOTUNE)\n",
        "test = prepare_for_training(test)"
      ],
      "execution_count": null,
      "outputs": []
    },
    {
      "cell_type": "code",
      "metadata": {
        "id": "JDe9MGDRz-w2",
        "colab_type": "code",
        "colab": {
          "base_uri": "https://localhost:8080/",
          "height": 141
        },
        "outputId": "d51bc1ef-66ba-4662-c6ca-13f8a198a136"
      },
      "source": [
        "prediction = model.predict(test, steps=TEST_STEPS)\n",
        "np.set_printoptions(formatter={'float': lambda x: \"{0:0.3f}\".format(x)})\n",
        "print(output)"
      ],
      "execution_count": null,
      "outputs": [
        {
          "output_type": "stream",
          "text": [
            "[[1.000 0.000 0.000]\n",
            " [0.000 0.000 0.249]\n",
            " [1.000 0.000 0.000]\n",
            " ...\n",
            " [0.000 0.000 0.894]\n",
            " [0.000 0.000 0.008]\n",
            " [1.000 0.000 0.000]]\n"
          ],
          "name": "stdout"
        }
      ]
    },
    {
      "cell_type": "code",
      "metadata": {
        "id": "KXA2Bp071Z5l",
        "colab_type": "code",
        "colab": {
          "base_uri": "https://localhost:8080/",
          "height": 159
        },
        "outputId": "ade67e84-7564-45df-bb88-d0532f4e7cdd"
      },
      "source": [
        "filenames = tf.data.Dataset.list_files(str(test_dir/'*'))\n",
        "for f in filenames.take(8):\n",
        "  print(f.numpy())"
      ],
      "execution_count": null,
      "outputs": [
        {
          "output_type": "stream",
          "text": [
            "b'/root/.keras/datasets/DATASET/WATER_0.png'\n",
            "b'/root/.keras/datasets/DATASET/MOTOR_1.png'\n",
            "b'/root/.keras/datasets/DATASET/MOTOR_2.png'\n",
            "b'/root/.keras/datasets/DATASET/DROP_0.png'\n",
            "b'/root/.keras/datasets/DATASET/MOTOR_0.png'\n",
            "b'/root/.keras/datasets/DATASET/WATER_1.png'\n",
            "b'/root/.keras/datasets/DATASET/DROP_1.png'\n",
            "b'/root/.keras/datasets/DATASET/DROP_2.png'\n"
          ],
          "name": "stdout"
        }
      ]
    },
    {
      "cell_type": "code",
      "metadata": {
        "id": "KHLk_cz52bzO",
        "colab_type": "code",
        "colab": {}
      },
      "source": [
        "cnt = 0\n",
        "for i in prediction:\n",
        "    pre_ans = i.argmax()  # 예측 레이블\n",
        "    print(i)\n",
        "    print(pre_ans)\n",
        "    pre_ans_str = ''\n",
        "    if pre_ans == 0: pre_ans_str = \"motor\"\n",
        "    elif pre_ans == 1: pre_ans_str = \"water\"\n",
        "    else: pre_ans_str = \"drop\"\n",
        "    if i[0] >= 0.8 : print(\"해당 이미지는 \"+pre_ans_str+\"로 추정됩니다.\")\n",
        "    if i[1] >= 0.8: print(\"해당 이미지는 \"+pre_ans_str+\"로 추정됩니다.\")\n",
        "    if i[2] >= 0.8: print(\"해당 이미지는 \"+pre_ans_str+\"로 추정됩니다.\")\n",
        "    cnt += 1"
      ],
      "execution_count": null,
      "outputs": []
    },
    {
      "cell_type": "code",
      "metadata": {
        "id": "7cGW13ll0fPt",
        "colab_type": "code",
        "colab": {
          "base_uri": "https://localhost:8080/",
          "height": 276
        },
        "outputId": "e83808bf-d6d5-4475-e2e4-4eb1ed65d5bf"
      },
      "source": [
        "cnt = 0\n",
        "for i in prediction:\n",
        "    pre_ans = i.argmax()  # 예측 레이블\n",
        "    print(i)\n",
        "    print(pre_ans)\n",
        "    pre_ans_str = ''\n",
        "    if pre_ans == 0: pre_ans_str = \"motor\"\n",
        "    elif pre_ans == 1: pre_ans_str = \"water\"\n",
        "    else: pre_ans_str = \"drop\"\n",
        "    if i[0] >= 0.8 : print(\"해당 \"+filenames[cnt].split(\"\\\\\")[1]+\"이미지는 \"+pre_ans_str+\"로 추정됩니다.\")\n",
        "    if i[1] >= 0.8: print(\"해당 \"+filenames[cnt].split(\"\\\\\")[1]+\"이미지는 \"+pre_ans_str+\"으로 추정됩니다.\")\n",
        "    if i[2] >= 0.8: print(\"해당 \"+filenames[cnt].split(\"\\\\\")[1]+\"이미지는 \"+pre_ans_str+\"로 추정됩니다.\")\n",
        "    cnt += 1"
      ],
      "execution_count": null,
      "outputs": [
        {
          "output_type": "stream",
          "text": [
            "[1.000 0.000 0.000]\n",
            "0\n"
          ],
          "name": "stdout"
        },
        {
          "output_type": "error",
          "ename": "IndexError",
          "evalue": "ignored",
          "traceback": [
            "\u001b[0;31m---------------------------------------------------------------------------\u001b[0m",
            "\u001b[0;31mIndexError\u001b[0m                                Traceback (most recent call last)",
            "\u001b[0;32m<ipython-input-85-b0f65d35215d>\u001b[0m in \u001b[0;36m<module>\u001b[0;34m()\u001b[0m\n\u001b[1;32m      8\u001b[0m     \u001b[0;32melif\u001b[0m \u001b[0mpre_ans\u001b[0m \u001b[0;34m==\u001b[0m \u001b[0;36m1\u001b[0m\u001b[0;34m:\u001b[0m \u001b[0mpre_ans_str\u001b[0m \u001b[0;34m=\u001b[0m \u001b[0;34m\"water\"\u001b[0m\u001b[0;34m\u001b[0m\u001b[0;34m\u001b[0m\u001b[0m\n\u001b[1;32m      9\u001b[0m     \u001b[0;32melse\u001b[0m\u001b[0;34m:\u001b[0m \u001b[0mpre_ans_str\u001b[0m \u001b[0;34m=\u001b[0m \u001b[0;34m\"drop\"\u001b[0m\u001b[0;34m\u001b[0m\u001b[0;34m\u001b[0m\u001b[0m\n\u001b[0;32m---> 10\u001b[0;31m     \u001b[0;32mif\u001b[0m \u001b[0mi\u001b[0m\u001b[0;34m[\u001b[0m\u001b[0;36m0\u001b[0m\u001b[0;34m]\u001b[0m \u001b[0;34m>=\u001b[0m \u001b[0;36m0.8\u001b[0m \u001b[0;34m:\u001b[0m \u001b[0mprint\u001b[0m\u001b[0;34m(\u001b[0m\u001b[0;34m\"해당 \"\u001b[0m\u001b[0;34m+\u001b[0m\u001b[0mfilenames\u001b[0m\u001b[0;34m[\u001b[0m\u001b[0mcnt\u001b[0m\u001b[0;34m]\u001b[0m\u001b[0;34m.\u001b[0m\u001b[0msplit\u001b[0m\u001b[0;34m(\u001b[0m\u001b[0;34m\"\\\\\"\u001b[0m\u001b[0;34m)\u001b[0m\u001b[0;34m[\u001b[0m\u001b[0;36m1\u001b[0m\u001b[0;34m]\u001b[0m\u001b[0;34m+\u001b[0m\u001b[0;34m\"이미지는 \"\u001b[0m\u001b[0;34m+\u001b[0m\u001b[0mpre_ans_str\u001b[0m\u001b[0;34m+\u001b[0m\u001b[0;34m\"로 추정됩니다.\"\u001b[0m\u001b[0;34m)\u001b[0m\u001b[0;34m\u001b[0m\u001b[0;34m\u001b[0m\u001b[0m\n\u001b[0m\u001b[1;32m     11\u001b[0m     \u001b[0;32mif\u001b[0m \u001b[0mi\u001b[0m\u001b[0;34m[\u001b[0m\u001b[0;36m1\u001b[0m\u001b[0;34m]\u001b[0m \u001b[0;34m>=\u001b[0m \u001b[0;36m0.8\u001b[0m\u001b[0;34m:\u001b[0m \u001b[0mprint\u001b[0m\u001b[0;34m(\u001b[0m\u001b[0;34m\"해당 \"\u001b[0m\u001b[0;34m+\u001b[0m\u001b[0mfilenames\u001b[0m\u001b[0;34m[\u001b[0m\u001b[0mcnt\u001b[0m\u001b[0;34m]\u001b[0m\u001b[0;34m.\u001b[0m\u001b[0msplit\u001b[0m\u001b[0;34m(\u001b[0m\u001b[0;34m\"\\\\\"\u001b[0m\u001b[0;34m)\u001b[0m\u001b[0;34m[\u001b[0m\u001b[0;36m1\u001b[0m\u001b[0;34m]\u001b[0m\u001b[0;34m+\u001b[0m\u001b[0;34m\"이미지는 \"\u001b[0m\u001b[0;34m+\u001b[0m\u001b[0mpre_ans_str\u001b[0m\u001b[0;34m+\u001b[0m\u001b[0;34m\"으로 추정됩니다.\"\u001b[0m\u001b[0;34m)\u001b[0m\u001b[0;34m\u001b[0m\u001b[0;34m\u001b[0m\u001b[0m\n\u001b[1;32m     12\u001b[0m     \u001b[0;32mif\u001b[0m \u001b[0mi\u001b[0m\u001b[0;34m[\u001b[0m\u001b[0;36m2\u001b[0m\u001b[0;34m]\u001b[0m \u001b[0;34m>=\u001b[0m \u001b[0;36m0.8\u001b[0m\u001b[0;34m:\u001b[0m \u001b[0mprint\u001b[0m\u001b[0;34m(\u001b[0m\u001b[0;34m\"해당 \"\u001b[0m\u001b[0;34m+\u001b[0m\u001b[0mfilenames\u001b[0m\u001b[0;34m[\u001b[0m\u001b[0mcnt\u001b[0m\u001b[0;34m]\u001b[0m\u001b[0;34m.\u001b[0m\u001b[0msplit\u001b[0m\u001b[0;34m(\u001b[0m\u001b[0;34m\"\\\\\"\u001b[0m\u001b[0;34m)\u001b[0m\u001b[0;34m[\u001b[0m\u001b[0;36m1\u001b[0m\u001b[0;34m]\u001b[0m\u001b[0;34m+\u001b[0m\u001b[0;34m\"이미지는 \"\u001b[0m\u001b[0;34m+\u001b[0m\u001b[0mpre_ans_str\u001b[0m\u001b[0;34m+\u001b[0m\u001b[0;34m\"로 추정됩니다.\"\u001b[0m\u001b[0;34m)\u001b[0m\u001b[0;34m\u001b[0m\u001b[0;34m\u001b[0m\u001b[0m\n",
            "\u001b[0;31mIndexError\u001b[0m: list index out of range"
          ]
        }
      ]
    },
    {
      "cell_type": "code",
      "metadata": {
        "id": "3FpKytyAxhbY",
        "colab_type": "code",
        "colab": {}
      },
      "source": [
        "image_w = 64\n",
        "image_h = 64\n",
        "pixels = image_h * image_w * 3\n",
        "\n",
        "X = []\n",
        "filenames = []"
      ],
      "execution_count": null,
      "outputs": []
    },
    {
      "cell_type": "code",
      "metadata": {
        "id": "N5lN-WJHxhe5",
        "colab_type": "code",
        "colab": {}
      },
      "source": [
        "files = test_dir.glob('/*.png')"
      ],
      "execution_count": null,
      "outputs": []
    },
    {
      "cell_type": "code",
      "metadata": {
        "id": "viGbDNgaNiK1",
        "colab_type": "code",
        "colab": {
          "base_uri": "https://localhost:8080/",
          "height": 389
        },
        "outputId": "d51697ba-0607-4922-93fb-d591504a297f"
      },
      "source": [
        "\n",
        "#model = load_model('./model/soundee_classification.model')\n",
        "\n",
        "prediction = model.predict(X)\n",
        "np.set_printoptions(formatter={'float': lambda x: \"{0:0.3f}\".format(x)})\n",
        "cnt = 0\n",
        "\n",
        "#이 비교는 그냥 파일들이 있으면 해당 파일과 비교. 카테고리와 함께 비교해서 진행하는 것은 _4 파일.\n",
        "for i in prediction:\n",
        "    pre_ans = i.argmax()  # 예측 레이블\n",
        "    print(i)\n",
        "    print(pre_ans)\n",
        "    pre_ans_str = ''\n",
        "    if pre_ans == 0: pre_ans_str = \"motor\"\n",
        "    elif pre_ans == 1: pre_ans_str = \"drop\"\n",
        "    elif pre_ans == 2: pre_ans_str = \"water\"\n",
        "    elif pre_ans == 3: pre_ans_str = \"babycrying\"\n",
        "    else: pre_ans_str = \"dog\"\n",
        "    if i[0] >= 0.8 : print(\"해당 \"+filenames[cnt].split(\"\\\\\")[1]+\"이미지는 \"+pre_ans_str+\"로 추정됩니다.\")\n",
        "    if i[1] >= 0.8: print(\"해당 \"+filenames[cnt].split(\"\\\\\")[1]+\"이미지는 \"+pre_ans_str+\"으로 추정됩니다.\")\n",
        "    if i[2] >= 0.8: print(\"해당 \"+filenames[cnt].split(\"\\\\\")[1]+\"이미지는 \"+pre_ans_str+\"로 추정됩니다.\")\n",
        "    if i[3] >= 0.8: print(\"해당 \"+filenames[cnt].split(\"\\\\\")[1]+\"이미지는 \"+pre_ans_str+\"로 추정됩니다.\")\n",
        "    if i[4] >= 0.8: print(\"해당 \"+filenames[cnt].split(\"\\\\\")[1]+\"이미지는 \"+pre_ans_str+\"로 추정됩니다.\")\n",
        "    cnt += 1\n",
        "    # print(i.argmax()) #얘가 레이블 [1. 0. 0.] 이런식으로 되어 있는 것을 숫자로 바꿔주는 것.\n",
        "    # 즉 얘랑, 나중에 카테고리 데이터 불러와서 카테고리랑 비교를 해서 같으면 맞는거고, 아니면 틀린거로 취급하면 된다.\n",
        "    # 이걸 한 것은 _4.py에."
      ],
      "execution_count": null,
      "outputs": [
        {
          "output_type": "error",
          "ename": "UnboundLocalError",
          "evalue": "ignored",
          "traceback": [
            "\u001b[0;31m---------------------------------------------------------------------------\u001b[0m",
            "\u001b[0;31mUnboundLocalError\u001b[0m                         Traceback (most recent call last)",
            "\u001b[0;32m<ipython-input-75-5fd1b8966b7e>\u001b[0m in \u001b[0;36m<module>\u001b[0;34m()\u001b[0m\n\u001b[1;32m     10\u001b[0m \u001b[0;31m#model = load_model('./model/soundee_classification.model')\u001b[0m\u001b[0;34m\u001b[0m\u001b[0;34m\u001b[0m\u001b[0;34m\u001b[0m\u001b[0m\n\u001b[1;32m     11\u001b[0m \u001b[0;34m\u001b[0m\u001b[0m\n\u001b[0;32m---> 12\u001b[0;31m \u001b[0mprediction\u001b[0m \u001b[0;34m=\u001b[0m \u001b[0mmodel\u001b[0m\u001b[0;34m.\u001b[0m\u001b[0mpredict\u001b[0m\u001b[0;34m(\u001b[0m\u001b[0mX\u001b[0m\u001b[0;34m)\u001b[0m\u001b[0;34m\u001b[0m\u001b[0;34m\u001b[0m\u001b[0m\n\u001b[0m\u001b[1;32m     13\u001b[0m \u001b[0mnp\u001b[0m\u001b[0;34m.\u001b[0m\u001b[0mset_printoptions\u001b[0m\u001b[0;34m(\u001b[0m\u001b[0mformatter\u001b[0m\u001b[0;34m=\u001b[0m\u001b[0;34m{\u001b[0m\u001b[0;34m'float'\u001b[0m\u001b[0;34m:\u001b[0m \u001b[0;32mlambda\u001b[0m \u001b[0mx\u001b[0m\u001b[0;34m:\u001b[0m \u001b[0;34m\"{0:0.3f}\"\u001b[0m\u001b[0;34m.\u001b[0m\u001b[0mformat\u001b[0m\u001b[0;34m(\u001b[0m\u001b[0mx\u001b[0m\u001b[0;34m)\u001b[0m\u001b[0;34m}\u001b[0m\u001b[0;34m)\u001b[0m\u001b[0;34m\u001b[0m\u001b[0;34m\u001b[0m\u001b[0m\n\u001b[1;32m     14\u001b[0m \u001b[0mcnt\u001b[0m \u001b[0;34m=\u001b[0m \u001b[0;36m0\u001b[0m\u001b[0;34m\u001b[0m\u001b[0;34m\u001b[0m\u001b[0m\n",
            "\u001b[0;32m/usr/local/lib/python3.6/dist-packages/tensorflow/python/keras/engine/training.py\u001b[0m in \u001b[0;36m_method_wrapper\u001b[0;34m(self, *args, **kwargs)\u001b[0m\n\u001b[1;32m     86\u001b[0m       raise ValueError('{} is not supported in multi-worker mode.'.format(\n\u001b[1;32m     87\u001b[0m           method.__name__))\n\u001b[0;32m---> 88\u001b[0;31m     \u001b[0;32mreturn\u001b[0m \u001b[0mmethod\u001b[0m\u001b[0;34m(\u001b[0m\u001b[0mself\u001b[0m\u001b[0;34m,\u001b[0m \u001b[0;34m*\u001b[0m\u001b[0margs\u001b[0m\u001b[0;34m,\u001b[0m \u001b[0;34m**\u001b[0m\u001b[0mkwargs\u001b[0m\u001b[0;34m)\u001b[0m\u001b[0;34m\u001b[0m\u001b[0;34m\u001b[0m\u001b[0m\n\u001b[0m\u001b[1;32m     89\u001b[0m \u001b[0;34m\u001b[0m\u001b[0m\n\u001b[1;32m     90\u001b[0m   return tf_decorator.make_decorator(\n",
            "\u001b[0;32m/usr/local/lib/python3.6/dist-packages/tensorflow/python/keras/engine/training.py\u001b[0m in \u001b[0;36mpredict\u001b[0;34m(self, x, batch_size, verbose, steps, callbacks, max_queue_size, workers, use_multiprocessing)\u001b[0m\n\u001b[1;32m   1283\u001b[0m             \u001b[0mcallbacks\u001b[0m\u001b[0;34m.\u001b[0m\u001b[0mon_predict_batch_end\u001b[0m\u001b[0;34m(\u001b[0m\u001b[0mstep\u001b[0m\u001b[0;34m,\u001b[0m \u001b[0;34m{\u001b[0m\u001b[0;34m'outputs'\u001b[0m\u001b[0;34m:\u001b[0m \u001b[0mbatch_outputs\u001b[0m\u001b[0;34m}\u001b[0m\u001b[0;34m)\u001b[0m\u001b[0;34m\u001b[0m\u001b[0;34m\u001b[0m\u001b[0m\n\u001b[1;32m   1284\u001b[0m       \u001b[0mcallbacks\u001b[0m\u001b[0;34m.\u001b[0m\u001b[0mon_predict_end\u001b[0m\u001b[0;34m(\u001b[0m\u001b[0;34m)\u001b[0m\u001b[0;34m\u001b[0m\u001b[0;34m\u001b[0m\u001b[0m\n\u001b[0;32m-> 1285\u001b[0;31m     \u001b[0mall_outputs\u001b[0m \u001b[0;34m=\u001b[0m \u001b[0mnest\u001b[0m\u001b[0;34m.\u001b[0m\u001b[0mmap_structure_up_to\u001b[0m\u001b[0;34m(\u001b[0m\u001b[0mbatch_outputs\u001b[0m\u001b[0;34m,\u001b[0m \u001b[0mconcat\u001b[0m\u001b[0;34m,\u001b[0m \u001b[0moutputs\u001b[0m\u001b[0;34m)\u001b[0m\u001b[0;34m\u001b[0m\u001b[0;34m\u001b[0m\u001b[0m\n\u001b[0m\u001b[1;32m   1286\u001b[0m     \u001b[0;32mreturn\u001b[0m \u001b[0mtf_utils\u001b[0m\u001b[0;34m.\u001b[0m\u001b[0mto_numpy_or_python_type\u001b[0m\u001b[0;34m(\u001b[0m\u001b[0mall_outputs\u001b[0m\u001b[0;34m)\u001b[0m\u001b[0;34m\u001b[0m\u001b[0;34m\u001b[0m\u001b[0m\n\u001b[1;32m   1287\u001b[0m \u001b[0;34m\u001b[0m\u001b[0m\n",
            "\u001b[0;31mUnboundLocalError\u001b[0m: local variable 'batch_outputs' referenced before assignment"
          ]
        }
      ]
    },
    {
      "cell_type": "code",
      "metadata": {
        "id": "Qxf7UWpcNiOF",
        "colab_type": "code",
        "colab": {}
      },
      "source": [
        ""
      ],
      "execution_count": null,
      "outputs": []
    }
  ]
}