{
  "nbformat": 4,
  "nbformat_minor": 0,
  "metadata": {
    "colab": {
      "name": "soundee-major_classification.ipynb",
      "provenance": [],
      "authorship_tag": "ABX9TyNky4L3E6tEN2R2XqFw69sW",
      "include_colab_link": true
    },
    "kernelspec": {
      "name": "python3",
      "display_name": "Python 3"
    },
    "accelerator": "GPU"
  },
  "cells": [
    {
      "cell_type": "markdown",
      "metadata": {
        "id": "view-in-github",
        "colab_type": "text"
      },
      "source": [
        "<a href=\"https://colab.research.google.com/github/brillantescene/Capstone_Design/blob/master/cnn/soundee_major_classification.ipynb\" target=\"_parent\"><img src=\"https://colab.research.google.com/assets/colab-badge.svg\" alt=\"Open In Colab\"/></a>"
      ]
    },
    {
      "cell_type": "code",
      "metadata": {
        "id": "rMs6v3E1ax6d",
        "colab_type": "code",
        "colab": {}
      },
      "source": [
        "import tensorflow as tf"
      ],
      "execution_count": 1,
      "outputs": []
    },
    {
      "cell_type": "code",
      "metadata": {
        "id": "oRHnQAUHP3By",
        "colab_type": "code",
        "colab": {}
      },
      "source": [
        "import IPython.display as display\n",
        "from PIL import Image\n",
        "import numpy as np\n",
        "import matplotlib.pyplot as plt\n",
        "import os"
      ],
      "execution_count": 2,
      "outputs": []
    },
    {
      "cell_type": "code",
      "metadata": {
        "id": "F5CAPQ2XP3EU",
        "colab_type": "code",
        "colab": {
          "base_uri": "https://localhost:8080/",
          "height": 35
        },
        "outputId": "3f3996a1-7dde-4f52-f8a1-92c3fb795069"
      },
      "source": [
        "from tensorflow import keras #import keras\n",
        "from tensorflow.keras import Model\n",
        "from keras import optimizers\n",
        "from tensorflow.keras.utils import to_categorical\n",
        "from tensorflow.keras.layers import Dense, Flatten, Conv2D, Dropout, MaxPool2D"
      ],
      "execution_count": 3,
      "outputs": [
        {
          "output_type": "stream",
          "text": [
            "Using TensorFlow backend.\n"
          ],
          "name": "stderr"
        }
      ]
    },
    {
      "cell_type": "code",
      "metadata": {
        "id": "a9nE5p4gP3Gq",
        "colab_type": "code",
        "colab": {}
      },
      "source": [
        "from keras.callbacks import EarlyStopping, ModelCheckpoint\n",
        "from keras.models import load_model"
      ],
      "execution_count": 4,
      "outputs": []
    },
    {
      "cell_type": "code",
      "metadata": {
        "id": "ecS41D_4P3J5",
        "colab_type": "code",
        "colab": {}
      },
      "source": [
        "import pathlib"
      ],
      "execution_count": 5,
      "outputs": []
    },
    {
      "cell_type": "code",
      "metadata": {
        "id": "54Im2mo7w5Du",
        "colab_type": "code",
        "colab": {}
      },
      "source": [
        "from glob import glob"
      ],
      "execution_count": 6,
      "outputs": []
    },
    {
      "cell_type": "code",
      "metadata": {
        "id": "UD_HphJgSdRI",
        "colab_type": "code",
        "colab": {
          "base_uri": "https://localhost:8080/",
          "height": 52
        },
        "outputId": "c248d560-b953-450a-a044-1fd40e5bed13"
      },
      "source": [
        "data_dir = tf.keras.utils.get_file(origin='https://github.com/brillantescene/Capstone_Design/raw/master/melspetrogram_img.tgz', \n",
        "                                   fname='images', extract=True)\n",
        "data_dir = pathlib.Path(data_dir)"
      ],
      "execution_count": 7,
      "outputs": [
        {
          "output_type": "stream",
          "text": [
            "Downloading data from https://github.com/brillantescene/Capstone_Design/raw/master/melspetrogram_img.tgz\n",
            "204619776/204612094 [==============================] - 2s 0us/step\n"
          ],
          "name": "stdout"
        }
      ]
    },
    {
      "cell_type": "code",
      "metadata": {
        "id": "aXHk7J3HcIhI",
        "colab_type": "code",
        "colab": {
          "base_uri": "https://localhost:8080/",
          "height": 35
        },
        "outputId": "0aae9cb7-80d9-4a31-a8c4-a625c41aa992"
      },
      "source": [
        "data_dir"
      ],
      "execution_count": 8,
      "outputs": [
        {
          "output_type": "execute_result",
          "data": {
            "text/plain": [
              "PosixPath('/root/.keras/datasets/images')"
            ]
          },
          "metadata": {
            "tags": []
          },
          "execution_count": 8
        }
      ]
    },
    {
      "cell_type": "code",
      "metadata": {
        "id": "pNGLpY40SdTO",
        "colab_type": "code",
        "colab": {}
      },
      "source": [
        "data_dir = pathlib.PosixPath(\"/root/.keras/datasets/melspetrogram_img\")"
      ],
      "execution_count": 9,
      "outputs": []
    },
    {
      "cell_type": "code",
      "metadata": {
        "id": "Hpo3m_T9SdUv",
        "colab_type": "code",
        "colab": {
          "base_uri": "https://localhost:8080/",
          "height": 35
        },
        "outputId": "244508ee-e919-4b99-ea98-c5320e2fdb1e"
      },
      "source": [
        "image_count = len(list(data_dir.glob('*/*.png')))\n",
        "image_count"
      ],
      "execution_count": 10,
      "outputs": [
        {
          "output_type": "execute_result",
          "data": {
            "text/plain": [
              "4217"
            ]
          },
          "metadata": {
            "tags": []
          },
          "execution_count": 10
        }
      ]
    },
    {
      "cell_type": "code",
      "metadata": {
        "id": "fp90oMiIf9Jz",
        "colab_type": "code",
        "colab": {
          "base_uri": "https://localhost:8080/",
          "height": 35
        },
        "outputId": "47351135-26de-47d6-ad69-b8e7090279bc"
      },
      "source": [
        "!ls  /root/.keras/datasets/"
      ],
      "execution_count": null,
      "outputs": [
        {
          "output_type": "stream",
          "text": [
            "images\tmelspetrogram_img\n"
          ],
          "name": "stdout"
        }
      ]
    },
    {
      "cell_type": "code",
      "metadata": {
        "id": "-5J_bbsXSdWV",
        "colab_type": "code",
        "colab": {}
      },
      "source": [
        "CLASS_NAMES = np.array([item.name for item in data_dir.glob('*')])"
      ],
      "execution_count": 11,
      "outputs": []
    },
    {
      "cell_type": "code",
      "metadata": {
        "id": "x-M_9yUf0sqr",
        "colab_type": "code",
        "colab": {
          "base_uri": "https://localhost:8080/",
          "height": 35
        },
        "outputId": "6561d579-3b98-41bf-fd90-b32c2304ff49"
      },
      "source": [
        "CLASS_NAMES"
      ],
      "execution_count": 12,
      "outputs": [
        {
          "output_type": "execute_result",
          "data": {
            "text/plain": [
              "array(['drop', 'motor', 'water'], dtype='<U5')"
            ]
          },
          "metadata": {
            "tags": []
          },
          "execution_count": 12
        }
      ]
    },
    {
      "cell_type": "markdown",
      "metadata": {
        "id": "BJvURNE9TNmh",
        "colab_type": "text"
      },
      "source": [
        "tf.data(), train, validation, test split"
      ]
    },
    {
      "cell_type": "code",
      "metadata": {
        "id": "f8hwdNcqSdYN",
        "colab_type": "code",
        "colab": {}
      },
      "source": [
        "list_ds = tf.data.Dataset.list_files(str(data_dir/'*/*'))"
      ],
      "execution_count": 13,
      "outputs": []
    },
    {
      "cell_type": "code",
      "metadata": {
        "id": "M7t-VxfwSdbR",
        "colab_type": "code",
        "colab": {}
      },
      "source": [
        "#for f in list_ds.take(5):\n",
        "#  print(f.numpy())"
      ],
      "execution_count": null,
      "outputs": []
    },
    {
      "cell_type": "code",
      "metadata": {
        "id": "yhRtByxhP3NF",
        "colab_type": "code",
        "colab": {}
      },
      "source": [
        "train_num = int(image_count * 0.7)\n",
        "test_num = int(image_count * 0.2)\n",
        "val_num = int(image_count * 0.1)"
      ],
      "execution_count": 14,
      "outputs": []
    },
    {
      "cell_type": "code",
      "metadata": {
        "id": "NksBdvjIP3Qx",
        "colab_type": "code",
        "colab": {}
      },
      "source": [
        "learning_rate = 0.001\n",
        "training_epochs = 100\n",
        "BATCH_SIZE = 64\n",
        "IMG_HEIGHT = 224 #770\n",
        "IMG_WIDTH = 224 #310\n",
        "STEPS_PER_EPOCH = np.ceil(image_count/BATCH_SIZE)\n",
        "VALIDATION_STEPS = np.ceil(val_num/BATCH_SIZE)\n",
        "TEST_STEPS = np.ceil(test_num/BATCH_SIZE)"
      ],
      "execution_count": 15,
      "outputs": []
    },
    {
      "cell_type": "code",
      "metadata": {
        "id": "cOTHaZ8aUedu",
        "colab_type": "code",
        "colab": {}
      },
      "source": [
        "def get_label(file_path):\n",
        "  parts = tf.strings.split(file_path, os.path.sep)\n",
        "  return parts[-2] == CLASS_NAMES\n",
        "\n",
        "def decode_img(img):\n",
        "  img = tf.image.decode_png(img, channels=3)\n",
        "  img = tf.image.convert_image_dtype(img, tf.float32)\n",
        "  return tf.image.resize(img, [IMG_WIDTH, IMG_HEIGHT])\n",
        "\n",
        "def process_path(file_path):\n",
        "  label = get_label(file_path)\n",
        "  # 파일에서 raw data를 문자열로 로드\n",
        "  img = tf.io.read_file(file_path)\n",
        "  img = decode_img(img)\n",
        "  return img, label"
      ],
      "execution_count": 16,
      "outputs": []
    },
    {
      "cell_type": "code",
      "metadata": {
        "id": "3ltiwStYUegW",
        "colab_type": "code",
        "colab": {}
      },
      "source": [
        "AUTOTUNE = tf.data.experimental.AUTOTUNE\n",
        "labeled_ds = list_ds.map(process_path, num_parallel_calls=AUTOTUNE)"
      ],
      "execution_count": 17,
      "outputs": []
    },
    {
      "cell_type": "code",
      "metadata": {
        "id": "o-Cil1cdUeju",
        "colab_type": "code",
        "colab": {}
      },
      "source": [
        "#for image, label in labeled_ds.take(1):\n",
        "#  print(\"Image shape: \", image.numpy().shape)\n",
        "#  print(\"Label: \", label.numpy())"
      ],
      "execution_count": null,
      "outputs": []
    },
    {
      "cell_type": "code",
      "metadata": {
        "id": "6EvG9_nkUemd",
        "colab_type": "code",
        "colab": {}
      },
      "source": [
        "train_ = labeled_ds.take(train_num)\n",
        "test_ = labeled_ds.take(test_num)\n",
        "val_ = labeled_ds.take(val_num)"
      ],
      "execution_count": 18,
      "outputs": []
    },
    {
      "cell_type": "code",
      "metadata": {
        "id": "XQ0STgoWbSEP",
        "colab_type": "code",
        "colab": {
          "base_uri": "https://localhost:8080/",
          "height": 35
        },
        "outputId": "0b997a9c-5926-4ddf-808b-4b8bda566539"
      },
      "source": [
        "train_\n",
        "test_\n",
        "val_"
      ],
      "execution_count": null,
      "outputs": [
        {
          "output_type": "execute_result",
          "data": {
            "text/plain": [
              "<TakeDataset shapes: ((224, 224, 3), (3,)), types: (tf.float32, tf.bool)>"
            ]
          },
          "metadata": {
            "tags": []
          },
          "execution_count": 19
        }
      ]
    },
    {
      "cell_type": "code",
      "metadata": {
        "id": "XpuWodFiUep1",
        "colab_type": "code",
        "colab": {}
      },
      "source": [
        "def prepare_for_training(ds, cache=True, shuffle_buffer_size=1000):\n",
        "  if cache:\n",
        "    if isinstance(cache, str):\n",
        "      ds = ds.cache(cache)\n",
        "    else:\n",
        "      ds = ds.cache()\n",
        "\n",
        "  ds = ds.shuffle(buffer_size=shuffle_buffer_size)\n",
        "\n",
        "  ds = ds.repeat()\n",
        "  ds = ds.batch(BATCH_SIZE)\n",
        "\n",
        "  ds = ds.prefetch(buffer_size=AUTOTUNE)\n",
        "\n",
        "  return ds"
      ],
      "execution_count": 19,
      "outputs": []
    },
    {
      "cell_type": "code",
      "metadata": {
        "id": "3uYBpmEeVAEb",
        "colab_type": "code",
        "colab": {}
      },
      "source": [
        "train_ds = prepare_for_training(train_)\n",
        "test_ds = prepare_for_training(test_)\n",
        "val_ds = prepare_for_training(val_)"
      ],
      "execution_count": 20,
      "outputs": []
    },
    {
      "cell_type": "code",
      "metadata": {
        "id": "cw1WO8C8bXhS",
        "colab_type": "code",
        "colab": {
          "base_uri": "https://localhost:8080/",
          "height": 35
        },
        "outputId": "e6a331dc-3149-4a08-9bfc-0a8ae4600048"
      },
      "source": [
        "train_ds\n",
        "test_ds\n",
        "val_ds"
      ],
      "execution_count": 21,
      "outputs": [
        {
          "output_type": "execute_result",
          "data": {
            "text/plain": [
              "<PrefetchDataset shapes: ((None, 224, 224, 3), (None, 3)), types: (tf.float32, tf.bool)>"
            ]
          },
          "metadata": {
            "tags": []
          },
          "execution_count": 21
        }
      ]
    },
    {
      "cell_type": "markdown",
      "metadata": {
        "id": "6LJiO5b0XCwp",
        "colab_type": "text"
      },
      "source": [
        "model"
      ]
    },
    {
      "cell_type": "code",
      "metadata": {
        "id": "DmYpQzgmwnVh",
        "colab_type": "code",
        "colab": {}
      },
      "source": [
        "def AcousticSoundModel():\n",
        "  inputs = keras.Input(shape=(IMG_HEIGHT, IMG_WIDTH, 3))\n",
        "\n",
        "  conv1 = Conv2D(filters=64, kernel_size=[3, 3], padding='SAME', activation=tf.nn.relu)(inputs)\n",
        "  drop1 = Dropout(rate=0.2)(conv1)\n",
        "  pool1 = MaxPool2D(padding='SAME')(drop1)\n",
        "\n",
        "  conv2 = Conv2D(filters=64, kernel_size=[3, 3], padding='SAME', activation=tf.nn.relu)(pool1)\n",
        "  drop2 = Dropout(rate=0.2)(conv2)\n",
        "  pool2 = MaxPool2D(padding='SAME')(drop2)\n",
        "\n",
        "  conv3 = Conv2D(filters=64, kernel_size=[3, 3], padding='SAME', activation=tf.nn.relu)(pool2)\n",
        "  drop3 = Dropout(rate=0.2)(conv3)\n",
        "  pool3 = MaxPool2D(padding='SAME')(drop3)\n",
        "\n",
        "  pool3_flat = keras.layers.Flatten()(pool3)\n",
        "  dense4 = Dense(units=128, activation=tf.nn.relu)(pool3_flat)\n",
        "  logits = Dense(units=3, activation=tf.nn.sigmoid)(dense4)\n",
        "\n",
        "  return keras.Model(inputs=inputs, outputs=logits)"
      ],
      "execution_count": null,
      "outputs": []
    },
    {
      "cell_type": "code",
      "metadata": {
        "id": "xwm63oPuWPbq",
        "colab_type": "code",
        "colab": {}
      },
      "source": [
        "class ResNetTypeII(tf.keras.Model):\n",
        "    def __init__(self, layer_params):\n",
        "        super(ResNetTypeII, self).__init__()\n",
        "        self.conv1 = tf.keras.layers.Conv2D(filters=64,\n",
        "                                            kernel_size=(7, 7),\n",
        "                                            strides=2,\n",
        "                                            padding=\"same\")\n",
        "        self.bn1 = tf.keras.layers.BatchNormalization()\n",
        "        self.pool1 = tf.keras.layers.MaxPool2D(pool_size=(3, 3),\n",
        "                                               strides=2,\n",
        "                                               padding=\"same\")\n",
        "\n",
        "        self.layer1 = make_bottleneck_layer(filter_num=64,\n",
        "                                            blocks=layer_params[0])\n",
        "        self.layer2 = make_bottleneck_layer(filter_num=128,\n",
        "                                            blocks=layer_params[1],\n",
        "                                            stride=2)\n",
        "        self.layer3 = make_bottleneck_layer(filter_num=256,\n",
        "                                            blocks=layer_params[2],\n",
        "                                            stride=2)\n",
        "        self.layer4 = make_bottleneck_layer(filter_num=512,\n",
        "                                            blocks=layer_params[3],\n",
        "                                            stride=2)\n",
        "\n",
        "        self.avgpool = tf.keras.layers.GlobalAveragePooling2D()\n",
        "        self.fc = tf.keras.layers.Dense(units=3, activation=tf.keras.activations.softmax)\n",
        "\n",
        "    def call(self, inputs, training=None, mask=None):\n",
        "        x = self.conv1(inputs)\n",
        "        x = self.bn1(x, training=training)\n",
        "        x = tf.nn.relu(x)\n",
        "        x = self.pool1(x)\n",
        "        x = self.layer1(x, training=training)\n",
        "        x = self.layer2(x, training=training)\n",
        "        x = self.layer3(x, training=training)\n",
        "        x = self.layer4(x, training=training)\n",
        "        x = self.avgpool(x)\n",
        "        output = self.fc(x)\n",
        "\n",
        "        return output"
      ],
      "execution_count": 31,
      "outputs": []
    },
    {
      "cell_type": "code",
      "metadata": {
        "id": "EtqfNklSWyMY",
        "colab_type": "code",
        "colab": {}
      },
      "source": [
        "def resnet_50():\n",
        "    return ResNetTypeII(layer_params=[3, 4, 6, 3])"
      ],
      "execution_count": 32,
      "outputs": []
    },
    {
      "cell_type": "code",
      "metadata": {
        "id": "Q0IW8LuzXCnz",
        "colab_type": "code",
        "colab": {}
      },
      "source": [
        "class BasicBlock(tf.keras.layers.Layer):\n",
        "\n",
        "    def __init__(self, filter_num, stride=1):\n",
        "        super(BasicBlock, self).__init__()\n",
        "        self.conv1 = tf.keras.layers.Conv2D(filters=filter_num,\n",
        "                                            kernel_size=(3, 3),\n",
        "                                            strides=stride,\n",
        "                                            padding=\"same\")\n",
        "        self.bn1 = tf.keras.layers.BatchNormalization()\n",
        "        self.conv2 = tf.keras.layers.Conv2D(filters=filter_num,\n",
        "                                            kernel_size=(3, 3),\n",
        "                                            strides=1,\n",
        "                                            padding=\"same\")\n",
        "        self.bn2 = tf.keras.layers.BatchNormalization()\n",
        "        if stride != 1:\n",
        "            self.downsample = tf.keras.Sequential()\n",
        "            self.downsample.add(tf.keras.layers.Conv2D(filters=filter_num,\n",
        "                                                       kernel_size=(1, 1),\n",
        "                                                       strides=stride))\n",
        "            self.downsample.add(tf.keras.layers.BatchNormalization())\n",
        "        else:\n",
        "            self.downsample = lambda x: x\n",
        "\n",
        "    def call(self, inputs, training=None, **kwargs):\n",
        "        residual = self.downsample(inputs)\n",
        "\n",
        "        x = self.conv1(inputs)\n",
        "        x = self.bn1(x, training=training)\n",
        "        x = tf.nn.relu(x)\n",
        "        x = self.conv2(x)\n",
        "        x = self.bn2(x, training=training)\n",
        "\n",
        "        output = tf.nn.relu(tf.keras.layers.add([residual, x]))\n",
        "\n",
        "        return output\n",
        "\n",
        "\n",
        "class BottleNeck(tf.keras.layers.Layer):\n",
        "    def __init__(self, filter_num, stride=1):\n",
        "        super(BottleNeck, self).__init__()\n",
        "        self.conv1 = tf.keras.layers.Conv2D(filters=filter_num,\n",
        "                                            kernel_size=(1, 1),\n",
        "                                            strides=1,\n",
        "                                            padding='same')\n",
        "        self.bn1 = tf.keras.layers.BatchNormalization()\n",
        "        self.conv2 = tf.keras.layers.Conv2D(filters=filter_num,\n",
        "                                            kernel_size=(3, 3),\n",
        "                                            strides=stride,\n",
        "                                            padding='same')\n",
        "        self.bn2 = tf.keras.layers.BatchNormalization()\n",
        "        self.conv3 = tf.keras.layers.Conv2D(filters=filter_num * 4,\n",
        "                                            kernel_size=(1, 1),\n",
        "                                            strides=1,\n",
        "                                            padding='same')\n",
        "        self.bn3 = tf.keras.layers.BatchNormalization()\n",
        "\n",
        "        self.downsample = tf.keras.Sequential()\n",
        "        self.downsample.add(tf.keras.layers.Conv2D(filters=filter_num * 4,\n",
        "                                                   kernel_size=(1, 1),\n",
        "                                                   strides=stride))\n",
        "        self.downsample.add(tf.keras.layers.BatchNormalization())\n",
        "\n",
        "    def call(self, inputs, training=None, **kwargs):\n",
        "        residual = self.downsample(inputs)\n",
        "\n",
        "        x = self.conv1(inputs)\n",
        "        x = self.bn1(x, training=training)\n",
        "        x = tf.nn.relu(x)\n",
        "        x = self.conv2(x)\n",
        "        x = self.bn2(x, training=training)\n",
        "        x = tf.nn.relu(x)\n",
        "        x = self.conv3(x)\n",
        "        x = self.bn3(x, training=training)\n",
        "\n",
        "        output = tf.nn.relu(tf.keras.layers.add([residual, x]))\n",
        "\n",
        "        return output\n",
        "\n",
        "\n",
        "def make_basic_block_layer(filter_num, blocks, stride=1):\n",
        "    res_block = tf.keras.Sequential()\n",
        "    res_block.add(BasicBlock(filter_num, stride=stride))\n",
        "\n",
        "    for _ in range(1, blocks):\n",
        "        res_block.add(BasicBlock(filter_num, stride=1))\n",
        "\n",
        "    return res_block\n",
        "\n",
        "\n",
        "def make_bottleneck_layer(filter_num, blocks, stride=1):\n",
        "    res_block = tf.keras.Sequential()\n",
        "    res_block.add(BottleNeck(filter_num, stride=stride))\n",
        "\n",
        "    for _ in range(1, blocks):\n",
        "        res_block.add(BottleNeck(filter_num, stride=1))\n",
        "\n",
        "    return res_block"
      ],
      "execution_count": 29,
      "outputs": []
    },
    {
      "cell_type": "code",
      "metadata": {
        "id": "cWuhSqWxVHi4",
        "colab_type": "code",
        "colab": {}
      },
      "source": [
        "model = resnet_50()"
      ],
      "execution_count": 33,
      "outputs": []
    },
    {
      "cell_type": "code",
      "metadata": {
        "id": "iAUczQQJVahf",
        "colab_type": "code",
        "colab": {
          "base_uri": "https://localhost:8080/",
          "height": 479
        },
        "outputId": "6d73616d-a7dd-4f20-d00f-f6df3981fff9"
      },
      "source": [
        "model.build(input_shape=(None, IMG_HEIGHT, IMG_WIDTH, 3))\n",
        "model.summary()"
      ],
      "execution_count": 34,
      "outputs": [
        {
          "output_type": "stream",
          "text": [
            "Model: \"res_net_type_ii_3\"\n",
            "_________________________________________________________________\n",
            "Layer (type)                 Output Shape              Param #   \n",
            "=================================================================\n",
            "conv2d_67 (Conv2D)           multiple                  9472      \n",
            "_________________________________________________________________\n",
            "batch_normalization_67 (Batc multiple                  256       \n",
            "_________________________________________________________________\n",
            "max_pooling2d_3 (MaxPooling2 multiple                  0         \n",
            "_________________________________________________________________\n",
            "sequential_20 (Sequential)   multiple                  353664    \n",
            "_________________________________________________________________\n",
            "sequential_24 (Sequential)   multiple                  2024448   \n",
            "_________________________________________________________________\n",
            "sequential_29 (Sequential)   multiple                  12397568  \n",
            "_________________________________________________________________\n",
            "sequential_36 (Sequential)   multiple                  23407616  \n",
            "_________________________________________________________________\n",
            "global_average_pooling2d_1 ( multiple                  0         \n",
            "_________________________________________________________________\n",
            "dense (Dense)                multiple                  6147      \n",
            "=================================================================\n",
            "Total params: 38,199,171\n",
            "Trainable params: 38,123,523\n",
            "Non-trainable params: 75,648\n",
            "_________________________________________________________________\n"
          ],
          "name": "stdout"
        }
      ]
    },
    {
      "cell_type": "code",
      "metadata": {
        "id": "WKgrCzcDXBGc",
        "colab_type": "code",
        "colab": {}
      },
      "source": [
        "model = AcousticSoundModel()"
      ],
      "execution_count": null,
      "outputs": []
    },
    {
      "cell_type": "code",
      "metadata": {
        "id": "pIrEr_y7VAKy",
        "colab_type": "code",
        "colab": {}
      },
      "source": [
        "model.compile(loss='categorical_crossentropy',\n",
        "              optimizer=keras.optimizers.Adam(lr=learning_rate),\n",
        "              metrics=['acc'])"
      ],
      "execution_count": 35,
      "outputs": []
    },
    {
      "cell_type": "code",
      "metadata": {
        "id": "tALWLYRoO112",
        "colab_type": "code",
        "colab": {}
      },
      "source": [
        "model_dir = './model' #경로 설정은 이따가 제대로\n",
        "    \n",
        "if not os.path.exists(model_dir):\n",
        "    os.mkdir(model_dir)"
      ],
      "execution_count": 36,
      "outputs": []
    },
    {
      "cell_type": "code",
      "metadata": {
        "id": "a2-nGwfG8-a0",
        "colab_type": "code",
        "colab": {}
      },
      "source": [
        "checkpoint_path = model_dir + '/soundee_classification.model'\n",
        "checkpoint_dir = os.path.dirname(checkpoint_path)# Create a callback that saves the model's weights\n",
        "cp = tf.keras.callbacks.ModelCheckpoint(checkpoint_path, \n",
        "                                        monitor='val_loss', mode='min', save_best_only=True, \n",
        "                                        verbose=1)"
      ],
      "execution_count": 37,
      "outputs": []
    },
    {
      "cell_type": "code",
      "metadata": {
        "id": "FZkHViDNtj-s",
        "colab_type": "code",
        "colab": {}
      },
      "source": [
        "es = tf.keras.callbacks.EarlyStopping(monitor='val_loss', mode='min', verbose=1, patience=10)"
      ],
      "execution_count": 38,
      "outputs": []
    },
    {
      "cell_type": "code",
      "metadata": {
        "id": "bUH2o7GzVAUX",
        "colab_type": "code",
        "colab": {}
      },
      "source": [
        "callback = [es, cp]"
      ],
      "execution_count": 39,
      "outputs": []
    },
    {
      "cell_type": "code",
      "metadata": {
        "id": "3YSfzlb6VAZa",
        "colab_type": "code",
        "colab": {
          "base_uri": "https://localhost:8080/",
          "height": 1000
        },
        "outputId": "f2509f03-489f-441c-e58e-759f44586705"
      },
      "source": [
        "hist = model.fit(\n",
        "      train_ds,\n",
        "      steps_per_epoch=STEPS_PER_EPOCH,\n",
        "      epochs=training_epochs,\n",
        "      batch_size = BATCH_SIZE,\n",
        "      validation_data=val_ds,\n",
        "      validation_steps=VALIDATION_STEPS,\n",
        "      callbacks=callback)"
      ],
      "execution_count": 40,
      "outputs": [
        {
          "output_type": "stream",
          "text": [
            "Epoch 1/100\n",
            "66/66 [==============================] - ETA: 0s - loss: 0.3477 - acc: 0.9238\n",
            "Epoch 00001: val_loss improved from inf to 2.82673, saving model to ./model/soundee_classification.model\n",
            "66/66 [==============================] - 152s 2s/step - loss: 0.3477 - acc: 0.9238 - val_loss: 2.8267 - val_acc: 0.3192\n",
            "Epoch 2/100\n",
            "66/66 [==============================] - ETA: 0s - loss: 0.0286 - acc: 0.9927\n",
            "Epoch 00002: val_loss improved from 2.82673 to 2.09766, saving model to ./model/soundee_classification.model\n",
            "66/66 [==============================] - 148s 2s/step - loss: 0.0286 - acc: 0.9927 - val_loss: 2.0977 - val_acc: 0.3304\n",
            "Epoch 3/100\n",
            "66/66 [==============================] - ETA: 0s - loss: 0.0392 - acc: 0.9905\n",
            "Epoch 00003: val_loss did not improve from 2.09766\n",
            "66/66 [==============================] - 147s 2s/step - loss: 0.0392 - acc: 0.9905 - val_loss: 8.2814 - val_acc: 0.3125\n",
            "Epoch 4/100\n",
            "66/66 [==============================] - ETA: 0s - loss: 0.0271 - acc: 0.9917\n",
            "Epoch 00004: val_loss did not improve from 2.09766\n",
            "66/66 [==============================] - 147s 2s/step - loss: 0.0271 - acc: 0.9917 - val_loss: 3.2271 - val_acc: 0.3259\n",
            "Epoch 5/100\n",
            "66/66 [==============================] - ETA: 0s - loss: 0.0148 - acc: 0.9953\n",
            "Epoch 00005: val_loss did not improve from 2.09766\n",
            "66/66 [==============================] - 147s 2s/step - loss: 0.0148 - acc: 0.9953 - val_loss: 6.1852 - val_acc: 0.3482\n",
            "Epoch 6/100\n",
            "66/66 [==============================] - ETA: 0s - loss: 0.0053 - acc: 0.9981\n",
            "Epoch 00006: val_loss did not improve from 2.09766\n",
            "66/66 [==============================] - 147s 2s/step - loss: 0.0053 - acc: 0.9981 - val_loss: 3.4278 - val_acc: 0.5446\n",
            "Epoch 7/100\n",
            "66/66 [==============================] - ETA: 0s - loss: 5.9744e-04 - acc: 1.0000\n",
            "Epoch 00007: val_loss improved from 2.09766 to 0.97432, saving model to ./model/soundee_classification.model\n",
            "66/66 [==============================] - 148s 2s/step - loss: 5.9744e-04 - acc: 1.0000 - val_loss: 0.9743 - val_acc: 0.8281\n",
            "Epoch 8/100\n",
            "66/66 [==============================] - ETA: 0s - loss: 2.5639e-04 - acc: 1.0000\n",
            "Epoch 00008: val_loss improved from 0.97432 to 0.25479, saving model to ./model/soundee_classification.model\n",
            "66/66 [==============================] - 148s 2s/step - loss: 2.5639e-04 - acc: 1.0000 - val_loss: 0.2548 - val_acc: 0.9442\n",
            "Epoch 9/100\n",
            "66/66 [==============================] - ETA: 0s - loss: 1.0739e-04 - acc: 1.0000\n",
            "Epoch 00009: val_loss improved from 0.25479 to 0.00859, saving model to ./model/soundee_classification.model\n",
            "66/66 [==============================] - 149s 2s/step - loss: 1.0739e-04 - acc: 1.0000 - val_loss: 0.0086 - val_acc: 0.9978\n",
            "Epoch 10/100\n",
            "66/66 [==============================] - ETA: 0s - loss: 1.1675e-04 - acc: 1.0000\n",
            "Epoch 00010: val_loss improved from 0.00859 to 0.00030, saving model to ./model/soundee_classification.model\n",
            "66/66 [==============================] - 149s 2s/step - loss: 1.1675e-04 - acc: 1.0000 - val_loss: 3.0147e-04 - val_acc: 1.0000\n",
            "Epoch 11/100\n",
            "66/66 [==============================] - ETA: 0s - loss: 1.0142e-04 - acc: 1.0000\n",
            "Epoch 00011: val_loss improved from 0.00030 to 0.00013, saving model to ./model/soundee_classification.model\n",
            "66/66 [==============================] - 149s 2s/step - loss: 1.0142e-04 - acc: 1.0000 - val_loss: 1.2618e-04 - val_acc: 1.0000\n",
            "Epoch 12/100\n",
            "66/66 [==============================] - ETA: 0s - loss: 7.7106e-05 - acc: 1.0000\n",
            "Epoch 00012: val_loss improved from 0.00013 to 0.00006, saving model to ./model/soundee_classification.model\n",
            "66/66 [==============================] - 149s 2s/step - loss: 7.7106e-05 - acc: 1.0000 - val_loss: 5.6049e-05 - val_acc: 1.0000\n",
            "Epoch 13/100\n",
            "66/66 [==============================] - ETA: 0s - loss: 5.9657e-05 - acc: 1.0000\n",
            "Epoch 00013: val_loss improved from 0.00006 to 0.00004, saving model to ./model/soundee_classification.model\n",
            "66/66 [==============================] - 149s 2s/step - loss: 5.9657e-05 - acc: 1.0000 - val_loss: 3.5891e-05 - val_acc: 1.0000\n",
            "Epoch 14/100\n",
            "66/66 [==============================] - ETA: 0s - loss: 2.4147e-05 - acc: 1.0000\n",
            "Epoch 00014: val_loss improved from 0.00004 to 0.00003, saving model to ./model/soundee_classification.model\n",
            "66/66 [==============================] - 148s 2s/step - loss: 2.4147e-05 - acc: 1.0000 - val_loss: 2.7577e-05 - val_acc: 1.0000\n",
            "Epoch 15/100\n",
            "66/66 [==============================] - ETA: 0s - loss: 3.1183e-05 - acc: 1.0000\n",
            "Epoch 00015: val_loss improved from 0.00003 to 0.00002, saving model to ./model/soundee_classification.model\n",
            "66/66 [==============================] - 148s 2s/step - loss: 3.1183e-05 - acc: 1.0000 - val_loss: 2.2658e-05 - val_acc: 1.0000\n",
            "Epoch 16/100\n",
            "66/66 [==============================] - ETA: 0s - loss: 2.4781e-05 - acc: 1.0000\n",
            "Epoch 00016: val_loss improved from 0.00002 to 0.00002, saving model to ./model/soundee_classification.model\n",
            "66/66 [==============================] - 149s 2s/step - loss: 2.4781e-05 - acc: 1.0000 - val_loss: 1.8961e-05 - val_acc: 1.0000\n",
            "Epoch 17/100\n",
            "66/66 [==============================] - ETA: 0s - loss: 3.0582e-05 - acc: 1.0000\n",
            "Epoch 00017: val_loss improved from 0.00002 to 0.00002, saving model to ./model/soundee_classification.model\n",
            "66/66 [==============================] - 148s 2s/step - loss: 3.0582e-05 - acc: 1.0000 - val_loss: 1.6640e-05 - val_acc: 1.0000\n",
            "Epoch 18/100\n",
            "66/66 [==============================] - ETA: 0s - loss: 1.9394e-05 - acc: 1.0000\n",
            "Epoch 00018: val_loss improved from 0.00002 to 0.00001, saving model to ./model/soundee_classification.model\n",
            "66/66 [==============================] - 148s 2s/step - loss: 1.9394e-05 - acc: 1.0000 - val_loss: 1.3956e-05 - val_acc: 1.0000\n",
            "Epoch 19/100\n",
            "66/66 [==============================] - ETA: 0s - loss: 1.4026e-05 - acc: 1.0000\n",
            "Epoch 00019: val_loss improved from 0.00001 to 0.00001, saving model to ./model/soundee_classification.model\n",
            "66/66 [==============================] - 149s 2s/step - loss: 1.4026e-05 - acc: 1.0000 - val_loss: 1.2047e-05 - val_acc: 1.0000\n",
            "Epoch 20/100\n",
            "66/66 [==============================] - ETA: 0s - loss: 4.5040e-05 - acc: 1.0000\n",
            "Epoch 00020: val_loss did not improve from 0.00001\n",
            "66/66 [==============================] - 147s 2s/step - loss: 4.5040e-05 - acc: 1.0000 - val_loss: 1.2895e-05 - val_acc: 1.0000\n",
            "Epoch 21/100\n",
            "66/66 [==============================] - ETA: 0s - loss: 1.3426e-04 - acc: 1.0000\n",
            "Epoch 00021: val_loss did not improve from 0.00001\n",
            "66/66 [==============================] - 147s 2s/step - loss: 1.3426e-04 - acc: 1.0000 - val_loss: 2.5090e-05 - val_acc: 1.0000\n",
            "Epoch 22/100\n",
            "66/66 [==============================] - ETA: 0s - loss: 0.0696 - acc: 0.9775\n",
            "Epoch 00022: val_loss did not improve from 0.00001\n",
            "66/66 [==============================] - 147s 2s/step - loss: 0.0696 - acc: 0.9775 - val_loss: 23315.5938 - val_acc: 0.2879\n",
            "Epoch 23/100\n",
            "66/66 [==============================] - ETA: 0s - loss: 0.0255 - acc: 0.9938\n",
            "Epoch 00023: val_loss did not improve from 0.00001\n",
            "66/66 [==============================] - 147s 2s/step - loss: 0.0255 - acc: 0.9938 - val_loss: 31.7012 - val_acc: 0.4732\n",
            "Epoch 24/100\n",
            "66/66 [==============================] - ETA: 0s - loss: 0.0312 - acc: 0.9929\n",
            "Epoch 00024: val_loss did not improve from 0.00001\n",
            "66/66 [==============================] - 147s 2s/step - loss: 0.0312 - acc: 0.9929 - val_loss: 0.7025 - val_acc: 0.9174\n",
            "Epoch 25/100\n",
            "66/66 [==============================] - ETA: 0s - loss: 0.0084 - acc: 0.9979\n",
            "Epoch 00025: val_loss did not improve from 0.00001\n",
            "66/66 [==============================] - 147s 2s/step - loss: 0.0084 - acc: 0.9979 - val_loss: 0.0236 - val_acc: 0.9955\n",
            "Epoch 26/100\n",
            "66/66 [==============================] - ETA: 0s - loss: 5.8894e-04 - acc: 1.0000\n",
            "Epoch 00026: val_loss did not improve from 0.00001\n",
            "66/66 [==============================] - 147s 2s/step - loss: 5.8894e-04 - acc: 1.0000 - val_loss: 0.0014 - val_acc: 1.0000\n",
            "Epoch 27/100\n",
            "66/66 [==============================] - ETA: 0s - loss: 2.1175e-04 - acc: 1.0000\n",
            "Epoch 00027: val_loss did not improve from 0.00001\n",
            "66/66 [==============================] - 147s 2s/step - loss: 2.1175e-04 - acc: 1.0000 - val_loss: 3.3079e-04 - val_acc: 1.0000\n",
            "Epoch 28/100\n",
            "66/66 [==============================] - ETA: 0s - loss: 1.7282e-04 - acc: 1.0000\n",
            "Epoch 00028: val_loss did not improve from 0.00001\n",
            "66/66 [==============================] - 147s 2s/step - loss: 1.7282e-04 - acc: 1.0000 - val_loss: 1.6497e-04 - val_acc: 1.0000\n",
            "Epoch 29/100\n",
            "66/66 [==============================] - ETA: 0s - loss: 1.3941e-04 - acc: 1.0000\n",
            "Epoch 00029: val_loss did not improve from 0.00001\n",
            "66/66 [==============================] - 147s 2s/step - loss: 1.3941e-04 - acc: 1.0000 - val_loss: 1.3982e-04 - val_acc: 1.0000\n",
            "Epoch 00029: early stopping\n"
          ],
          "name": "stdout"
        }
      ]
    },
    {
      "cell_type": "code",
      "metadata": {
        "id": "no5xv9Ew97Rb",
        "colab_type": "code",
        "colab": {
          "base_uri": "https://localhost:8080/",
          "height": 88
        },
        "outputId": "a9887866-c243-4d69-f1fd-1949f0083349"
      },
      "source": [
        "!ls {checkpoint_dir} # 저장된 checkpoint 확인하기"
      ],
      "execution_count": null,
      "outputs": [
        {
          "output_type": "stream",
          "text": [
            "checkpoint\n",
            "soundee_classification.model.data-00000-of-00002\n",
            "soundee_classification.model.data-00001-of-00002\n",
            "soundee_classification.model.index\n"
          ],
          "name": "stdout"
        }
      ]
    },
    {
      "cell_type": "code",
      "metadata": {
        "id": "XBTTi_4GZJgD",
        "colab_type": "code",
        "colab": {}
      },
      "source": [
        "#model.save_weights('saveweights', save_format='tf')"
      ],
      "execution_count": null,
      "outputs": []
    },
    {
      "cell_type": "code",
      "metadata": {
        "id": "7ZdvfDCsZvFD",
        "colab_type": "code",
        "colab": {
          "base_uri": "https://localhost:8080/",
          "height": 545
        },
        "outputId": "7055de7c-74f1-43bb-f4d9-5f8da6eeca96"
      },
      "source": [
        "acc = hist.history['acc']\n",
        "val_acc = hist.history['val_acc']\n",
        "loss = hist.history['loss']\n",
        "val_loss = hist.history['val_loss']\n",
        "\n",
        "epochs = range(len(acc))\n",
        "\n",
        "plt.plot(epochs, acc, 'bo', label='Training acc')\n",
        "plt.plot(epochs, val_acc, 'b', label='Validation acc')\n",
        "plt.title('Training and validation accuracy')\n",
        "plt.legend()\n",
        "\n",
        "plt.figure()\n",
        "\n",
        "plt.plot(epochs, loss, 'bo', label='Training loss')\n",
        "plt.plot(epochs, val_loss, 'b', label='Validation loss')\n",
        "plt.title('Training and validation loss')\n",
        "plt.legend()\n",
        "\n",
        "plt.show()"
      ],
      "execution_count": 41,
      "outputs": [
        {
          "output_type": "display_data",
          "data": {
            "image/png": "[encoded data removed]",
            "text/plain": [
              "<Figure size 432x288 with 1 Axes>"
            ]
          },
          "metadata": {
            "tags": [],
            "needs_background": "light"
          }
        },
        {
          "output_type": "display_data",
          "data": {
            "image/png": "[encoded data removed]",
            "text/plain": [
              "<Figure size 432x288 with 1 Axes>"
            ]
          },
          "metadata": {
            "tags": [],
            "needs_background": "light"
          }
        }
      ]
    },
    {
      "cell_type": "code",
      "metadata": {
        "id": "IfXrBnLk_eO5",
        "colab_type": "code",
        "colab": {
          "base_uri": "https://localhost:8080/",
          "height": 52
        },
        "outputId": "22c673af-40c7-4d26-a871-eb3505c6ae09"
      },
      "source": [
        "loss, acc = model.evaluate(test_ds, batch_size=BATCH_SIZE, steps=TEST_STEPS)\n",
        "print('acc: %.2f%%, loss: %f'% (acc*100, loss))"
      ],
      "execution_count": 42,
      "outputs": [
        {
          "output_type": "stream",
          "text": [
            "14/14 [==============================] - 9s 656ms/step - loss: 7.9926e-05 - acc: 1.0000\n",
            "acc: 100.00%, loss: 0.000080\n"
          ],
          "name": "stdout"
        }
      ]
    },
    {
      "cell_type": "markdown",
      "metadata": {
        "id": "jqH-L7qm8U_R",
        "colab_type": "text"
      },
      "source": [
        "prediction test"
      ]
    },
    {
      "cell_type": "code",
      "metadata": {
        "id": "9aOuWAZ-8TTV",
        "colab_type": "code",
        "colab": {}
      },
      "source": [
        "from PIL import Image\n",
        "#import os, glob, numpy as np\n",
        "from keras.models import load_model"
      ],
      "execution_count": 43,
      "outputs": []
    },
    {
      "cell_type": "code",
      "metadata": {
        "id": "hpsNgzwxBvdi",
        "colab_type": "code",
        "colab": {
          "base_uri": "https://localhost:8080/",
          "height": 52
        },
        "outputId": "f8df0004-806f-4636-d677-22c78d6aeda1"
      },
      "source": [
        "test_dir = tf.keras.utils.get_file(origin='https://docs.google.com/uc?export=download&id=1VMllFJGjUwTScLMSpYJAR7gqjtQGu7fH', \n",
        "                                   fname='test', extract=True)\n",
        "test_dir = pathlib.Path(test_dir)"
      ],
      "execution_count": 44,
      "outputs": [
        {
          "output_type": "stream",
          "text": [
            "Downloading data from https://docs.google.com/uc?export=download&id=1VMllFJGjUwTScLMSpYJAR7gqjtQGu7fH\n",
            "983040/978684 [==============================] - 0s 0us/step\n"
          ],
          "name": "stdout"
        }
      ]
    },
    {
      "cell_type": "code",
      "metadata": {
        "id": "0TrsypJ8vuFC",
        "colab_type": "code",
        "colab": {}
      },
      "source": [
        "#test_dir = pathlib.PosixPath(\"/root/.keras/datasets/DATASET\")"
      ],
      "execution_count": null,
      "outputs": []
    },
    {
      "cell_type": "code",
      "metadata": {
        "id": "aXPBEY6uNIrM",
        "colab_type": "code",
        "colab": {}
      },
      "source": [
        "test_dir = \"/root/.keras/datasets/DATASET\""
      ],
      "execution_count": 45,
      "outputs": []
    },
    {
      "cell_type": "code",
      "metadata": {
        "id": "Fd-XzmmjO6d1",
        "colab_type": "code",
        "colab": {}
      },
      "source": [
        "X = []\n",
        "filenames = []\n",
        "files = glob(test_dir+\"/*.png\")\n",
        "for i, f in enumerate(files):\n",
        "    img = Image.open(f)\n",
        "    img = img.convert(\"RGB\")\n",
        "    img = img.resize((IMG_WIDTH, IMG_HEIGHT))\n",
        "    data = np.asarray(img)\n",
        "    filenames.append(f)\n",
        "    X.append(data)\n",
        "\n",
        "X = np.array(X, dtype=np.float32)"
      ],
      "execution_count": 46,
      "outputs": []
    },
    {
      "cell_type": "code",
      "metadata": {
        "id": "7n-G-pvOxy28",
        "colab_type": "code",
        "colab": {
          "base_uri": "https://localhost:8080/",
          "height": 301
        },
        "outputId": "897066e5-dbff-4966-ddb5-20bf81692248"
      },
      "source": [
        "files[:16]"
      ],
      "execution_count": null,
      "outputs": [
        {
          "output_type": "execute_result",
          "data": {
            "text/plain": [
              "['/root/.keras/datasets/DATASET/MOTOR_2.png',\n",
              " '/root/.keras/datasets/DATASET/MOTOR_5.png',\n",
              " '/root/.keras/datasets/DATASET/WATER_3.png',\n",
              " '/root/.keras/datasets/DATASET/MOTOR_0.png',\n",
              " '/root/.keras/datasets/DATASET/DROP_5.png',\n",
              " '/root/.keras/datasets/DATASET/DROP_1.png',\n",
              " '/root/.keras/datasets/DATASET/MOTOR_1.png',\n",
              " '/root/.keras/datasets/DATASET/DROP_2.png',\n",
              " '/root/.keras/datasets/DATASET/WATER_0.png',\n",
              " '/root/.keras/datasets/DATASET/WATER_4.png',\n",
              " '/root/.keras/datasets/DATASET/DROP_4.png',\n",
              " '/root/.keras/datasets/DATASET/WATER_2.png',\n",
              " '/root/.keras/datasets/DATASET/DROP_0.png',\n",
              " '/root/.keras/datasets/DATASET/WATER_5.png',\n",
              " '/root/.keras/datasets/DATASET/WATER_1.png',\n",
              " '/root/.keras/datasets/DATASET/MOTOR_3.png']"
            ]
          },
          "metadata": {
            "tags": []
          },
          "execution_count": 39
        }
      ]
    },
    {
      "cell_type": "code",
      "metadata": {
        "id": "_GLVcO-vQVOV",
        "colab_type": "code",
        "colab": {}
      },
      "source": [
        "prediction = model.predict(X)\n",
        "np.set_printoptions(formatter={'float': lambda x: \"{0:0.3f}\".format(x)})"
      ],
      "execution_count": 47,
      "outputs": []
    },
    {
      "cell_type": "code",
      "metadata": {
        "id": "c9KR3__95D1U",
        "colab_type": "code",
        "colab": {
          "base_uri": "https://localhost:8080/",
          "height": 35
        },
        "outputId": "9d1fd9f9-dd1c-4741-cd16-bf094d105a79"
      },
      "source": [
        "filenames[12].split('/')"
      ],
      "execution_count": null,
      "outputs": [
        {
          "output_type": "execute_result",
          "data": {
            "text/plain": [
              "['', 'root', '.keras', 'datasets', 'DATASET', 'DROP_3.png']"
            ]
          },
          "metadata": {
            "tags": []
          },
          "execution_count": 36
        }
      ]
    },
    {
      "cell_type": "code",
      "metadata": {
        "id": "czcJ7wWCQ_ZY",
        "colab_type": "code",
        "colab": {
          "base_uri": "https://localhost:8080/",
          "height": 977
        },
        "outputId": "4507dd25-bfe9-48ad-c4eb-0f15d9c64ac8"
      },
      "source": [
        "cnt = 0\n",
        "for i in prediction:\n",
        "    pre_ans = i.argmax()  # 예측 레이블\n",
        "    print(i)\n",
        "    pre_ans_str = ''\n",
        "    if pre_ans == 0: pre_ans_str = \"motor\"\n",
        "    elif pre_ans == 1: pre_ans_str = \"water\"\n",
        "    elif pre_ans == 2: pre_ans_str = \"drop\"\n",
        "    #elif pre_ans == 3: pre_ans_str = \"baby\"\n",
        "    #else: pre_ans_str = \"dog\"\n",
        "\n",
        "    if i[0] >= 0.8 : print(\"해당 \"+filenames[cnt].split('/')[5]+\"이미지는 \"+pre_ans_str+\"로 추정됩니다.\")\n",
        "    if i[1] >= 0.8: print(\"해당 \"+filenames[cnt].split('/')[5]+\"이미지는 \"+pre_ans_str+\"로 추정됩니다.\")\n",
        "    if i[2] >= 0.8: print(\"해당 \"+filenames[cnt].split('/')[5]+\"이미지는 \"+pre_ans_str+\"로 추정됩니다.\")\n",
        "    #if i[3] >= 0.8: print(\"해당 \"+filenames[cnt].split('/')[5]+\"이미지는 \"+pre_ans_str+\"로 추정됩니다.\")\n",
        "    #if i[4] >= 0.8: print(\"해당 \"+filenames[cnt].split('/')[5]+\"이미지는 \"+pre_ans_str+\"로 추정됩니다.\")\n",
        "    if i[0] < 0.8 and i[1] < 0.8 and i[2] < 0.8 : print(\"추정할 수 없습니다.\")\n",
        "    print()\n",
        "    cnt += 1"
      ],
      "execution_count": 48,
      "outputs": [
        {
          "output_type": "stream",
          "text": [
            "[0.000 0.000 1.000]\n",
            "해당 MOTOR_1.png이미지는 drop로 추정됩니다.\n",
            "\n",
            "[0.000 0.000 1.000]\n",
            "해당 WATER_0.png이미지는 drop로 추정됩니다.\n",
            "\n",
            "[0.000 0.000 1.000]\n",
            "해당 MOTOR_0.png이미지는 drop로 추정됩니다.\n",
            "\n",
            "[1.000 0.000 0.000]\n",
            "해당 DROP_4.png이미지는 motor로 추정됩니다.\n",
            "\n",
            "[0.000 0.000 1.000]\n",
            "해당 WATER_4.png이미지는 drop로 추정됩니다.\n",
            "\n",
            "[0.000 0.000 1.000]\n",
            "해당 DROP_3.png이미지는 drop로 추정됩니다.\n",
            "\n",
            "[0.000 0.000 1.000]\n",
            "해당 WATER_1.png이미지는 drop로 추정됩니다.\n",
            "\n",
            "[1.000 0.000 0.000]\n",
            "해당 DROP_2.png이미지는 motor로 추정됩니다.\n",
            "\n",
            "[0.000 0.000 1.000]\n",
            "해당 MOTOR_2.png이미지는 drop로 추정됩니다.\n",
            "\n",
            "[0.000 0.000 1.000]\n",
            "해당 WATER_3.png이미지는 drop로 추정됩니다.\n",
            "\n",
            "[1.000 0.000 0.000]\n",
            "해당 DROP_0.png이미지는 motor로 추정됩니다.\n",
            "\n",
            "[0.000 0.000 1.000]\n",
            "해당 MOTOR_5.png이미지는 drop로 추정됩니다.\n",
            "\n",
            "[0.000 0.000 1.000]\n",
            "해당 MOTOR_4.png이미지는 drop로 추정됩니다.\n",
            "\n",
            "[1.000 0.000 0.000]\n",
            "해당 DROP_5.png이미지는 motor로 추정됩니다.\n",
            "\n",
            "[0.000 0.000 1.000]\n",
            "해당 MOTOR_3.png이미지는 drop로 추정됩니다.\n",
            "\n",
            "[1.000 0.000 0.000]\n",
            "해당 DROP_1.png이미지는 motor로 추정됩니다.\n",
            "\n",
            "[0.000 0.000 1.000]\n",
            "해당 WATER_5.png이미지는 drop로 추정됩니다.\n",
            "\n",
            "[0.000 0.000 1.000]\n",
            "해당 WATER_2.png이미지는 drop로 추정됩니다.\n",
            "\n"
          ],
          "name": "stdout"
        }
      ]
    },
    {
      "cell_type": "code",
      "metadata": {
        "id": "hWuRiJ4-8Tiz",
        "colab_type": "code",
        "colab": {}
      },
      "source": [
        ""
      ],
      "execution_count": null,
      "outputs": []
    },
    {
      "cell_type": "code",
      "metadata": {
        "id": "eRJHAx_l8Tet",
        "colab_type": "code",
        "colab": {}
      },
      "source": [
        ""
      ],
      "execution_count": null,
      "outputs": []
    },
    {
      "cell_type": "code",
      "metadata": {
        "id": "_U3QGlUY8Tc2",
        "colab_type": "code",
        "colab": {}
      },
      "source": [
        ""
      ],
      "execution_count": null,
      "outputs": []
    },
    {
      "cell_type": "code",
      "metadata": {
        "id": "8gUb99RH8TZ1",
        "colab_type": "code",
        "colab": {}
      },
      "source": [
        ""
      ],
      "execution_count": null,
      "outputs": []
    },
    {
      "cell_type": "code",
      "metadata": {
        "id": "Vx2uRe1X8TXn",
        "colab_type": "code",
        "colab": {}
      },
      "source": [
        ""
      ],
      "execution_count": null,
      "outputs": []
    },
    {
      "cell_type": "code",
      "metadata": {
        "id": "0QZWw5nu_Gt3",
        "colab_type": "code",
        "colab": {}
      },
      "source": [
        "output = model.predict(test_ds, steps=TEST_STEPS)\n",
        "np.set_printoptions(formatter={'float': lambda x: \"{0:0.3f}\".format(x)})\n",
        "print(output)"
      ],
      "execution_count": null,
      "outputs": []
    },
    {
      "cell_type": "code",
      "metadata": {
        "id": "p8c3usQn_Gwb",
        "colab_type": "code",
        "colab": {}
      },
      "source": [
        "for i in output:\n",
        "    pre_ans = i.argmax()  # 예측 레이블\n",
        "    print(i)\n",
        "    #print(pre_ans)\n",
        "    pre_ans_str = ''\n",
        "    if pre_ans == 0: pre_ans_str = \"motor\"\n",
        "    elif pre_ans == 1: pre_ans_str = \"water\"\n",
        "    elif pre_ans == 2: pre_ans_str = \"drop\"\n",
        "    elif pre_ans == 3: pre_ans_str = \"baby\"\n",
        "    else: pre_ans_str = \"dog\"\n",
        "\n",
        "    if i[0] >= 0.8 : print(\"해당 이미지는 \"+pre_ans_str+\"로 추정됩니다.\")\n",
        "    #else : print(\"추정하지 못했습니다.\")\n",
        "    if i[1] >= 0.8: print(\"해당 이미지는 \"+pre_ans_str+\"로 추정됩니다.\")\n",
        "    #else : print(\"추정하지 못했습니다.\")\n",
        "    if i[2] >= 0.8: print(\"해당 이미지는 \"+pre_ans_str+\"로 추정됩니다.\")\n",
        "    #else : print(\"추정하지 못했습니다.\")\n",
        "    if i[3] >= 0.8: print(\"해당 이미지는 \"+pre_ans_str+\"로 추정됩니다.\")\n",
        "    #else : print(\"추정하지 못했습니다.\")\n",
        "    if i[4] >= 0.8: print(\"해당 이미지는 \"+pre_ans_str+\"로 추정됩니다.\")\n",
        "    #else : print(\"추정하지 못했습니다.\")"
      ],
      "execution_count": null,
      "outputs": []
    },
    {
      "cell_type": "code",
      "metadata": {
        "id": "l9QsITJrNbNF",
        "colab_type": "code",
        "colab": {}
      },
      "source": [
        ""
      ],
      "execution_count": null,
      "outputs": []
    },
    {
      "cell_type": "code",
      "metadata": {
        "id": "6gCb0bESNbQf",
        "colab_type": "code",
        "colab": {}
      },
      "source": [
        "from PIL import Image\n",
        "#import os, glob, numpy as np\n",
        "from keras.models import load_model"
      ],
      "execution_count": null,
      "outputs": []
    },
    {
      "cell_type": "code",
      "metadata": {
        "id": "5M4wnOWcNiDh",
        "colab_type": "code",
        "colab": {}
      },
      "source": [
        "test_dir = \"./multi_img_data/imgs_others_test\" #test 이미지 넣어둔 디렉토리 경로. git에서 받아와서 설정하면됨"
      ],
      "execution_count": null,
      "outputs": []
    },
    {
      "cell_type": "code",
      "metadata": {
        "id": "Wf62XEqQNiGU",
        "colab_type": "code",
        "colab": {}
      },
      "source": [
        "model = load_model('soundee_classification.model')"
      ],
      "execution_count": null,
      "outputs": []
    },
    {
      "cell_type": "code",
      "metadata": {
        "id": "a6EibquwFtqO",
        "colab_type": "code",
        "colab": {}
      },
      "source": [
        "test_model = AcousticSoundModel()"
      ],
      "execution_count": null,
      "outputs": []
    },
    {
      "cell_type": "code",
      "metadata": {
        "id": "PiJwKgKD_qgr",
        "colab_type": "code",
        "colab": {
          "base_uri": "https://localhost:8080/",
          "height": 35
        },
        "outputId": "0528b63d-eb7b-4006-e631-77df37f11558"
      },
      "source": [
        "test_model.load_weights(checkpoint_path)"
      ],
      "execution_count": null,
      "outputs": [
        {
          "output_type": "execute_result",
          "data": {
            "text/plain": [
              "<tensorflow.python.training.tracking.util.CheckpointLoadStatus at 0x7fa8500d7668>"
            ]
          },
          "metadata": {
            "tags": []
          },
          "execution_count": 51
        }
      ]
    },
    {
      "cell_type": "code",
      "metadata": {
        "id": "w_1xUX93bnrr",
        "colab_type": "code",
        "colab": {}
      },
      "source": [
        "X[1]"
      ],
      "execution_count": null,
      "outputs": []
    },
    {
      "cell_type": "code",
      "metadata": {
        "id": "Vdeo7OMCRMQ0",
        "colab_type": "code",
        "colab": {
          "base_uri": "https://localhost:8080/",
          "height": 177
        },
        "outputId": "3c4e4031-9c0c-4273-927c-42680b065b88"
      },
      "source": [
        "filenames[:10]"
      ],
      "execution_count": null,
      "outputs": [
        {
          "output_type": "execute_result",
          "data": {
            "text/plain": [
              "['/root/.keras/datasets/DATASET/DROP_0.png',\n",
              " '/root/.keras/datasets/DATASET/MOTOR_2.png',\n",
              " '/root/.keras/datasets/DATASET/WATER_0.png',\n",
              " '/root/.keras/datasets/DATASET/WATER_1.png',\n",
              " '/root/.keras/datasets/DATASET/MOTOR_0.png',\n",
              " '/root/.keras/datasets/DATASET/WATER_2.png',\n",
              " '/root/.keras/datasets/DATASET/MOTOR_1.png',\n",
              " '/root/.keras/datasets/DATASET/DROP_2.png',\n",
              " '/root/.keras/datasets/DATASET/DROP_1.png']"
            ]
          },
          "metadata": {
            "tags": []
          },
          "execution_count": 46
        }
      ]
    },
    {
      "cell_type": "code",
      "metadata": {
        "id": "CL8FONP0Q_ce",
        "colab_type": "code",
        "colab": {}
      },
      "source": [
        ""
      ],
      "execution_count": null,
      "outputs": []
    },
    {
      "cell_type": "code",
      "metadata": {
        "id": "c2MNw7mJQ_pL",
        "colab_type": "code",
        "colab": {}
      },
      "source": [
        ""
      ],
      "execution_count": null,
      "outputs": []
    },
    {
      "cell_type": "code",
      "metadata": {
        "id": "gS4IGiU1Q_ss",
        "colab_type": "code",
        "colab": {}
      },
      "source": [
        ""
      ],
      "execution_count": null,
      "outputs": []
    },
    {
      "cell_type": "code",
      "metadata": {
        "id": "GxW1hQncNs1P",
        "colab_type": "code",
        "colab": {}
      },
      "source": [
        "path = test_dir[0]"
      ],
      "execution_count": null,
      "outputs": []
    },
    {
      "cell_type": "code",
      "metadata": {
        "id": "MXbNOdQONShw",
        "colab_type": "code",
        "colab": {}
      },
      "source": [
        "image_pil = Image.open(path)\n",
        "image = np.array(image_pil)"
      ],
      "execution_count": null,
      "outputs": []
    },
    {
      "cell_type": "code",
      "metadata": {
        "id": "4KZv0FQBN40a",
        "colab_type": "code",
        "colab": {
          "base_uri": "https://localhost:8080/",
          "height": 35
        },
        "outputId": "d76e45a2-7a51-452a-ba2b-c897c653cfe8"
      },
      "source": [
        "image.shape"
      ],
      "execution_count": null,
      "outputs": [
        {
          "output_type": "execute_result",
          "data": {
            "text/plain": [
              "(770, 310, 4)"
            ]
          },
          "metadata": {
            "tags": []
          },
          "execution_count": 21
        }
      ]
    },
    {
      "cell_type": "code",
      "metadata": {
        "id": "rt5GZJZ9N-up",
        "colab_type": "code",
        "colab": {
          "base_uri": "https://localhost:8080/",
          "height": 269
        },
        "outputId": "6e6882d4-836f-4dbd-aa56-6a2097dcab57"
      },
      "source": [
        "plt.imshow(image)\n",
        "plt.show()"
      ],
      "execution_count": null,
      "outputs": [
        {
          "output_type": "display_data",
          "data": {
            "image/png": "[encoded data removed]",
            "text/plain": [
              "<Figure size 432x288 with 1 Axes>"
            ]
          },
          "metadata": {
            "tags": [],
            "needs_background": "light"
          }
        }
      ]
    },
    {
      "cell_type": "code",
      "metadata": {
        "id": "RJD9RF1ZzvUf",
        "colab_type": "code",
        "colab": {}
      },
      "source": [
        "test = tf.data.Dataset.list_files(str(test_dir/'*'))\n",
        "test = list_ds.map(process_path, num_parallel_calls=AUTOTUNE)\n",
        "test = prepare_for_training(test)"
      ],
      "execution_count": null,
      "outputs": []
    },
    {
      "cell_type": "code",
      "metadata": {
        "id": "JDe9MGDRz-w2",
        "colab_type": "code",
        "colab": {
          "base_uri": "https://localhost:8080/",
          "height": 141
        },
        "outputId": "d51bc1ef-66ba-4662-c6ca-13f8a198a136"
      },
      "source": [
        "prediction = model.predict(test, steps=TEST_STEPS)\n",
        "np.set_printoptions(formatter={'float': lambda x: \"{0:0.3f}\".format(x)})\n",
        "print(output)"
      ],
      "execution_count": null,
      "outputs": [
        {
          "output_type": "stream",
          "text": [
            "[[1.000 0.000 0.000]\n",
            " [0.000 0.000 0.249]\n",
            " [1.000 0.000 0.000]\n",
            " ...\n",
            " [0.000 0.000 0.894]\n",
            " [0.000 0.000 0.008]\n",
            " [1.000 0.000 0.000]]\n"
          ],
          "name": "stdout"
        }
      ]
    },
    {
      "cell_type": "code",
      "metadata": {
        "id": "KXA2Bp071Z5l",
        "colab_type": "code",
        "colab": {
          "base_uri": "https://localhost:8080/",
          "height": 159
        },
        "outputId": "ade67e84-7564-45df-bb88-d0532f4e7cdd"
      },
      "source": [
        "filenames = tf.data.Dataset.list_files(str(test_dir/'*'))\n",
        "for f in filenames.take(8):\n",
        "  print(f.numpy())"
      ],
      "execution_count": null,
      "outputs": [
        {
          "output_type": "stream",
          "text": [
            "b'/root/.keras/datasets/DATASET/WATER_0.png'\n",
            "b'/root/.keras/datasets/DATASET/MOTOR_1.png'\n",
            "b'/root/.keras/datasets/DATASET/MOTOR_2.png'\n",
            "b'/root/.keras/datasets/DATASET/DROP_0.png'\n",
            "b'/root/.keras/datasets/DATASET/MOTOR_0.png'\n",
            "b'/root/.keras/datasets/DATASET/WATER_1.png'\n",
            "b'/root/.keras/datasets/DATASET/DROP_1.png'\n",
            "b'/root/.keras/datasets/DATASET/DROP_2.png'\n"
          ],
          "name": "stdout"
        }
      ]
    },
    {
      "cell_type": "code",
      "metadata": {
        "id": "KHLk_cz52bzO",
        "colab_type": "code",
        "colab": {}
      },
      "source": [
        "cnt = 0\n",
        "for i in prediction:\n",
        "    pre_ans = i.argmax()  # 예측 레이블\n",
        "    print(i)\n",
        "    print(pre_ans)\n",
        "    pre_ans_str = ''\n",
        "    if pre_ans == 0: pre_ans_str = \"motor\"\n",
        "    elif pre_ans == 1: pre_ans_str = \"water\"\n",
        "    else: pre_ans_str = \"drop\"\n",
        "    if i[0] >= 0.8 : print(\"해당 이미지는 \"+pre_ans_str+\"로 추정됩니다.\")\n",
        "    if i[1] >= 0.8: print(\"해당 이미지는 \"+pre_ans_str+\"로 추정됩니다.\")\n",
        "    if i[2] >= 0.8: print(\"해당 이미지는 \"+pre_ans_str+\"로 추정됩니다.\")\n",
        "    cnt += 1"
      ],
      "execution_count": null,
      "outputs": []
    },
    {
      "cell_type": "code",
      "metadata": {
        "id": "7cGW13ll0fPt",
        "colab_type": "code",
        "colab": {
          "base_uri": "https://localhost:8080/",
          "height": 276
        },
        "outputId": "e83808bf-d6d5-4475-e2e4-4eb1ed65d5bf"
      },
      "source": [
        "cnt = 0\n",
        "for i in prediction:\n",
        "    pre_ans = i.argmax()  # 예측 레이블\n",
        "    print(i)\n",
        "    print(pre_ans)\n",
        "    pre_ans_str = ''\n",
        "    if pre_ans == 0: pre_ans_str = \"motor\"\n",
        "    elif pre_ans == 1: pre_ans_str = \"water\"\n",
        "    else: pre_ans_str = \"drop\"\n",
        "    if i[0] >= 0.8 : print(\"해당 \"+filenames[cnt].split(\"\\\\\")[1]+\"이미지는 \"+pre_ans_str+\"로 추정됩니다.\")\n",
        "    if i[1] >= 0.8: print(\"해당 \"+filenames[cnt].split(\"\\\\\")[1]+\"이미지는 \"+pre_ans_str+\"으로 추정됩니다.\")\n",
        "    if i[2] >= 0.8: print(\"해당 \"+filenames[cnt].split(\"\\\\\")[1]+\"이미지는 \"+pre_ans_str+\"로 추정됩니다.\")\n",
        "    cnt += 1"
      ],
      "execution_count": null,
      "outputs": [
        {
          "output_type": "stream",
          "text": [
            "[1.000 0.000 0.000]\n",
            "0\n"
          ],
          "name": "stdout"
        },
        {
          "output_type": "error",
          "ename": "IndexError",
          "evalue": "ignored",
          "traceback": [
            "\u001b[0;31m---------------------------------------------------------------------------\u001b[0m",
            "\u001b[0;31mIndexError\u001b[0m                                Traceback (most recent call last)",
            "\u001b[0;32m<ipython-input-85-b0f65d35215d>\u001b[0m in \u001b[0;36m<module>\u001b[0;34m()\u001b[0m\n\u001b[1;32m      8\u001b[0m     \u001b[0;32melif\u001b[0m \u001b[0mpre_ans\u001b[0m \u001b[0;34m==\u001b[0m \u001b[0;36m1\u001b[0m\u001b[0;34m:\u001b[0m \u001b[0mpre_ans_str\u001b[0m \u001b[0;34m=\u001b[0m \u001b[0;34m\"water\"\u001b[0m\u001b[0;34m\u001b[0m\u001b[0;34m\u001b[0m\u001b[0m\n\u001b[1;32m      9\u001b[0m     \u001b[0;32melse\u001b[0m\u001b[0;34m:\u001b[0m \u001b[0mpre_ans_str\u001b[0m \u001b[0;34m=\u001b[0m \u001b[0;34m\"drop\"\u001b[0m\u001b[0;34m\u001b[0m\u001b[0;34m\u001b[0m\u001b[0m\n\u001b[0;32m---> 10\u001b[0;31m     \u001b[0;32mif\u001b[0m \u001b[0mi\u001b[0m\u001b[0;34m[\u001b[0m\u001b[0;36m0\u001b[0m\u001b[0;34m]\u001b[0m \u001b[0;34m>=\u001b[0m \u001b[0;36m0.8\u001b[0m \u001b[0;34m:\u001b[0m \u001b[0mprint\u001b[0m\u001b[0;34m(\u001b[0m\u001b[0;34m\"해당 \"\u001b[0m\u001b[0;34m+\u001b[0m\u001b[0mfilenames\u001b[0m\u001b[0;34m[\u001b[0m\u001b[0mcnt\u001b[0m\u001b[0;34m]\u001b[0m\u001b[0;34m.\u001b[0m\u001b[0msplit\u001b[0m\u001b[0;34m(\u001b[0m\u001b[0;34m\"\\\\\"\u001b[0m\u001b[0;34m)\u001b[0m\u001b[0;34m[\u001b[0m\u001b[0;36m1\u001b[0m\u001b[0;34m]\u001b[0m\u001b[0;34m+\u001b[0m\u001b[0;34m\"이미지는 \"\u001b[0m\u001b[0;34m+\u001b[0m\u001b[0mpre_ans_str\u001b[0m\u001b[0;34m+\u001b[0m\u001b[0;34m\"로 추정됩니다.\"\u001b[0m\u001b[0;34m)\u001b[0m\u001b[0;34m\u001b[0m\u001b[0;34m\u001b[0m\u001b[0m\n\u001b[0m\u001b[1;32m     11\u001b[0m     \u001b[0;32mif\u001b[0m \u001b[0mi\u001b[0m\u001b[0;34m[\u001b[0m\u001b[0;36m1\u001b[0m\u001b[0;34m]\u001b[0m \u001b[0;34m>=\u001b[0m \u001b[0;36m0.8\u001b[0m\u001b[0;34m:\u001b[0m \u001b[0mprint\u001b[0m\u001b[0;34m(\u001b[0m\u001b[0;34m\"해당 \"\u001b[0m\u001b[0;34m+\u001b[0m\u001b[0mfilenames\u001b[0m\u001b[0;34m[\u001b[0m\u001b[0mcnt\u001b[0m\u001b[0;34m]\u001b[0m\u001b[0;34m.\u001b[0m\u001b[0msplit\u001b[0m\u001b[0;34m(\u001b[0m\u001b[0;34m\"\\\\\"\u001b[0m\u001b[0;34m)\u001b[0m\u001b[0;34m[\u001b[0m\u001b[0;36m1\u001b[0m\u001b[0;34m]\u001b[0m\u001b[0;34m+\u001b[0m\u001b[0;34m\"이미지는 \"\u001b[0m\u001b[0;34m+\u001b[0m\u001b[0mpre_ans_str\u001b[0m\u001b[0;34m+\u001b[0m\u001b[0;34m\"으로 추정됩니다.\"\u001b[0m\u001b[0;34m)\u001b[0m\u001b[0;34m\u001b[0m\u001b[0;34m\u001b[0m\u001b[0m\n\u001b[1;32m     12\u001b[0m     \u001b[0;32mif\u001b[0m \u001b[0mi\u001b[0m\u001b[0;34m[\u001b[0m\u001b[0;36m2\u001b[0m\u001b[0;34m]\u001b[0m \u001b[0;34m>=\u001b[0m \u001b[0;36m0.8\u001b[0m\u001b[0;34m:\u001b[0m \u001b[0mprint\u001b[0m\u001b[0;34m(\u001b[0m\u001b[0;34m\"해당 \"\u001b[0m\u001b[0;34m+\u001b[0m\u001b[0mfilenames\u001b[0m\u001b[0;34m[\u001b[0m\u001b[0mcnt\u001b[0m\u001b[0;34m]\u001b[0m\u001b[0;34m.\u001b[0m\u001b[0msplit\u001b[0m\u001b[0;34m(\u001b[0m\u001b[0;34m\"\\\\\"\u001b[0m\u001b[0;34m)\u001b[0m\u001b[0;34m[\u001b[0m\u001b[0;36m1\u001b[0m\u001b[0;34m]\u001b[0m\u001b[0;34m+\u001b[0m\u001b[0;34m\"이미지는 \"\u001b[0m\u001b[0;34m+\u001b[0m\u001b[0mpre_ans_str\u001b[0m\u001b[0;34m+\u001b[0m\u001b[0;34m\"로 추정됩니다.\"\u001b[0m\u001b[0;34m)\u001b[0m\u001b[0;34m\u001b[0m\u001b[0;34m\u001b[0m\u001b[0m\n",
            "\u001b[0;31mIndexError\u001b[0m: list index out of range"
          ]
        }
      ]
    },
    {
      "cell_type": "code",
      "metadata": {
        "id": "3FpKytyAxhbY",
        "colab_type": "code",
        "colab": {}
      },
      "source": [
        "image_w = 64\n",
        "image_h = 64\n",
        "pixels = image_h * image_w * 3\n",
        "\n",
        "X = []\n",
        "filenames = []"
      ],
      "execution_count": null,
      "outputs": []
    },
    {
      "cell_type": "code",
      "metadata": {
        "id": "N5lN-WJHxhe5",
        "colab_type": "code",
        "colab": {}
      },
      "source": [
        "files = test_dir.glob('/*.png')"
      ],
      "execution_count": null,
      "outputs": []
    },
    {
      "cell_type": "code",
      "metadata": {
        "id": "viGbDNgaNiK1",
        "colab_type": "code",
        "colab": {
          "base_uri": "https://localhost:8080/",
          "height": 389
        },
        "outputId": "d51697ba-0607-4922-93fb-d591504a297f"
      },
      "source": [
        "\n",
        "#model = load_model('./model/soundee_classification.model')\n",
        "\n",
        "prediction = model.predict(X)\n",
        "np.set_printoptions(formatter={'float': lambda x: \"{0:0.3f}\".format(x)})\n",
        "cnt = 0\n",
        "\n",
        "#이 비교는 그냥 파일들이 있으면 해당 파일과 비교. 카테고리와 함께 비교해서 진행하는 것은 _4 파일.\n",
        "for i in prediction:\n",
        "    pre_ans = i.argmax()  # 예측 레이블\n",
        "    print(i)\n",
        "    print(pre_ans)\n",
        "    pre_ans_str = ''\n",
        "    if pre_ans == 0: pre_ans_str = \"motor\"\n",
        "    elif pre_ans == 1: pre_ans_str = \"drop\"\n",
        "    elif pre_ans == 2: pre_ans_str = \"water\"\n",
        "    elif pre_ans == 3: pre_ans_str = \"babycrying\"\n",
        "    else: pre_ans_str = \"dog\"\n",
        "    if i[0] >= 0.8 : print(\"해당 \"+filenames[cnt].split(\"\\\\\")[1]+\"이미지는 \"+pre_ans_str+\"로 추정됩니다.\")\n",
        "    if i[1] >= 0.8: print(\"해당 \"+filenames[cnt].split(\"\\\\\")[1]+\"이미지는 \"+pre_ans_str+\"으로 추정됩니다.\")\n",
        "    if i[2] >= 0.8: print(\"해당 \"+filenames[cnt].split(\"\\\\\")[1]+\"이미지는 \"+pre_ans_str+\"로 추정됩니다.\")\n",
        "    if i[3] >= 0.8: print(\"해당 \"+filenames[cnt].split(\"\\\\\")[1]+\"이미지는 \"+pre_ans_str+\"로 추정됩니다.\")\n",
        "    if i[4] >= 0.8: print(\"해당 \"+filenames[cnt].split(\"\\\\\")[1]+\"이미지는 \"+pre_ans_str+\"로 추정됩니다.\")\n",
        "    cnt += 1\n",
        "    # print(i.argmax()) #얘가 레이블 [1. 0. 0.] 이런식으로 되어 있는 것을 숫자로 바꿔주는 것.\n",
        "    # 즉 얘랑, 나중에 카테고리 데이터 불러와서 카테고리랑 비교를 해서 같으면 맞는거고, 아니면 틀린거로 취급하면 된다.\n",
        "    # 이걸 한 것은 _4.py에."
      ],
      "execution_count": null,
      "outputs": [
        {
          "output_type": "error",
          "ename": "UnboundLocalError",
          "evalue": "ignored",
          "traceback": [
            "\u001b[0;31m---------------------------------------------------------------------------\u001b[0m",
            "\u001b[0;31mUnboundLocalError\u001b[0m                         Traceback (most recent call last)",
            "\u001b[0;32m<ipython-input-75-5fd1b8966b7e>\u001b[0m in \u001b[0;36m<module>\u001b[0;34m()\u001b[0m\n\u001b[1;32m     10\u001b[0m \u001b[0;31m#model = load_model('./model/soundee_classification.model')\u001b[0m\u001b[0;34m\u001b[0m\u001b[0;34m\u001b[0m\u001b[0;34m\u001b[0m\u001b[0m\n\u001b[1;32m     11\u001b[0m \u001b[0;34m\u001b[0m\u001b[0m\n\u001b[0;32m---> 12\u001b[0;31m \u001b[0mprediction\u001b[0m \u001b[0;34m=\u001b[0m \u001b[0mmodel\u001b[0m\u001b[0;34m.\u001b[0m\u001b[0mpredict\u001b[0m\u001b[0;34m(\u001b[0m\u001b[0mX\u001b[0m\u001b[0;34m)\u001b[0m\u001b[0;34m\u001b[0m\u001b[0;34m\u001b[0m\u001b[0m\n\u001b[0m\u001b[1;32m     13\u001b[0m \u001b[0mnp\u001b[0m\u001b[0;34m.\u001b[0m\u001b[0mset_printoptions\u001b[0m\u001b[0;34m(\u001b[0m\u001b[0mformatter\u001b[0m\u001b[0;34m=\u001b[0m\u001b[0;34m{\u001b[0m\u001b[0;34m'float'\u001b[0m\u001b[0;34m:\u001b[0m \u001b[0;32mlambda\u001b[0m \u001b[0mx\u001b[0m\u001b[0;34m:\u001b[0m \u001b[0;34m\"{0:0.3f}\"\u001b[0m\u001b[0;34m.\u001b[0m\u001b[0mformat\u001b[0m\u001b[0;34m(\u001b[0m\u001b[0mx\u001b[0m\u001b[0;34m)\u001b[0m\u001b[0;34m}\u001b[0m\u001b[0;34m)\u001b[0m\u001b[0;34m\u001b[0m\u001b[0;34m\u001b[0m\u001b[0m\n\u001b[1;32m     14\u001b[0m \u001b[0mcnt\u001b[0m \u001b[0;34m=\u001b[0m \u001b[0;36m0\u001b[0m\u001b[0;34m\u001b[0m\u001b[0;34m\u001b[0m\u001b[0m\n",
            "\u001b[0;32m/usr/local/lib/python3.6/dist-packages/tensorflow/python/keras/engine/training.py\u001b[0m in \u001b[0;36m_method_wrapper\u001b[0;34m(self, *args, **kwargs)\u001b[0m\n\u001b[1;32m     86\u001b[0m       raise ValueError('{} is not supported in multi-worker mode.'.format(\n\u001b[1;32m     87\u001b[0m           method.__name__))\n\u001b[0;32m---> 88\u001b[0;31m     \u001b[0;32mreturn\u001b[0m \u001b[0mmethod\u001b[0m\u001b[0;34m(\u001b[0m\u001b[0mself\u001b[0m\u001b[0;34m,\u001b[0m \u001b[0;34m*\u001b[0m\u001b[0margs\u001b[0m\u001b[0;34m,\u001b[0m \u001b[0;34m**\u001b[0m\u001b[0mkwargs\u001b[0m\u001b[0;34m)\u001b[0m\u001b[0;34m\u001b[0m\u001b[0;34m\u001b[0m\u001b[0m\n\u001b[0m\u001b[1;32m     89\u001b[0m \u001b[0;34m\u001b[0m\u001b[0m\n\u001b[1;32m     90\u001b[0m   return tf_decorator.make_decorator(\n",
            "\u001b[0;32m/usr/local/lib/python3.6/dist-packages/tensorflow/python/keras/engine/training.py\u001b[0m in \u001b[0;36mpredict\u001b[0;34m(self, x, batch_size, verbose, steps, callbacks, max_queue_size, workers, use_multiprocessing)\u001b[0m\n\u001b[1;32m   1283\u001b[0m             \u001b[0mcallbacks\u001b[0m\u001b[0;34m.\u001b[0m\u001b[0mon_predict_batch_end\u001b[0m\u001b[0;34m(\u001b[0m\u001b[0mstep\u001b[0m\u001b[0;34m,\u001b[0m \u001b[0;34m{\u001b[0m\u001b[0;34m'outputs'\u001b[0m\u001b[0;34m:\u001b[0m \u001b[0mbatch_outputs\u001b[0m\u001b[0;34m}\u001b[0m\u001b[0;34m)\u001b[0m\u001b[0;34m\u001b[0m\u001b[0;34m\u001b[0m\u001b[0m\n\u001b[1;32m   1284\u001b[0m       \u001b[0mcallbacks\u001b[0m\u001b[0;34m.\u001b[0m\u001b[0mon_predict_end\u001b[0m\u001b[0;34m(\u001b[0m\u001b[0;34m)\u001b[0m\u001b[0;34m\u001b[0m\u001b[0;34m\u001b[0m\u001b[0m\n\u001b[0;32m-> 1285\u001b[0;31m     \u001b[0mall_outputs\u001b[0m \u001b[0;34m=\u001b[0m \u001b[0mnest\u001b[0m\u001b[0;34m.\u001b[0m\u001b[0mmap_structure_up_to\u001b[0m\u001b[0;34m(\u001b[0m\u001b[0mbatch_outputs\u001b[0m\u001b[0;34m,\u001b[0m \u001b[0mconcat\u001b[0m\u001b[0;34m,\u001b[0m \u001b[0moutputs\u001b[0m\u001b[0;34m)\u001b[0m\u001b[0;34m\u001b[0m\u001b[0;34m\u001b[0m\u001b[0m\n\u001b[0m\u001b[1;32m   1286\u001b[0m     \u001b[0;32mreturn\u001b[0m \u001b[0mtf_utils\u001b[0m\u001b[0;34m.\u001b[0m\u001b[0mto_numpy_or_python_type\u001b[0m\u001b[0;34m(\u001b[0m\u001b[0mall_outputs\u001b[0m\u001b[0;34m)\u001b[0m\u001b[0;34m\u001b[0m\u001b[0;34m\u001b[0m\u001b[0m\n\u001b[1;32m   1287\u001b[0m \u001b[0;34m\u001b[0m\u001b[0m\n",
            "\u001b[0;31mUnboundLocalError\u001b[0m: local variable 'batch_outputs' referenced before assignment"
          ]
        }
      ]
    },
    {
      "cell_type": "code",
      "metadata": {
        "id": "Qxf7UWpcNiOF",
        "colab_type": "code",
        "colab": {}
      },
      "source": [
        ""
      ],
      "execution_count": null,
      "outputs": []
    }
  ]
}