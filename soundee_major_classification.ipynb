{
  "nbformat": 4,
  "nbformat_minor": 0,
  "metadata": {
    "colab": {
      "name": "soundee-major_classification.ipynb",
      "provenance": [],
      "authorship_tag": "ABX9TyNgvAtV9GG3ca0YagECBu+I",
      "include_colab_link": true
    },
    "kernelspec": {
      "name": "python3",
      "display_name": "Python 3"
    },
    "accelerator": "GPU"
  },
  "cells": [
    {
      "cell_type": "markdown",
      "metadata": {
        "id": "view-in-github",
        "colab_type": "text"
      },
      "source": [
        "<a href=\"https://colab.research.google.com/github/brillantescene/Capstone_Design/blob/master/soundee_major_classification.ipynb\" target=\"_parent\"><img src=\"https://colab.research.google.com/assets/colab-badge.svg\" alt=\"Open In Colab\"/></a>"
      ]
    },
    {
      "cell_type": "code",
      "metadata": {
        "id": "rMs6v3E1ax6d",
        "colab_type": "code",
        "colab": {}
      },
      "source": [
        "import tensorflow as tf"
      ],
      "execution_count": 1,
      "outputs": []
    },
    {
      "cell_type": "code",
      "metadata": {
        "id": "oRHnQAUHP3By",
        "colab_type": "code",
        "colab": {}
      },
      "source": [
        "import IPython.display as display\n",
        "from PIL import Image\n",
        "import numpy as np\n",
        "import matplotlib.pyplot as plt\n",
        "import os"
      ],
      "execution_count": 2,
      "outputs": []
    },
    {
      "cell_type": "code",
      "metadata": {
        "id": "F5CAPQ2XP3EU",
        "colab_type": "code",
        "colab": {
          "base_uri": "https://localhost:8080/",
          "height": 35
        },
        "outputId": "b5f75e34-cd1d-4a04-aec0-e2b9bfbb4eca"
      },
      "source": [
        "from tensorflow import keras #import keras\n",
        "from tensorflow.keras import Model\n",
        "from keras import optimizers\n",
        "from tensorflow.keras.utils import to_categorical\n",
        "from tensorflow.keras.layers import Dense, Flatten, Conv2D, Dropout, MaxPool2D"
      ],
      "execution_count": 3,
      "outputs": [
        {
          "output_type": "stream",
          "text": [
            "Using TensorFlow backend.\n"
          ],
          "name": "stderr"
        }
      ]
    },
    {
      "cell_type": "code",
      "metadata": {
        "id": "a9nE5p4gP3Gq",
        "colab_type": "code",
        "colab": {}
      },
      "source": [
        "from keras.callbacks import EarlyStopping, ModelCheckpoint\n",
        "from keras.models import load_model"
      ],
      "execution_count": 4,
      "outputs": []
    },
    {
      "cell_type": "code",
      "metadata": {
        "id": "ecS41D_4P3J5",
        "colab_type": "code",
        "colab": {}
      },
      "source": [
        "import pathlib"
      ],
      "execution_count": 5,
      "outputs": []
    },
    {
      "cell_type": "code",
      "metadata": {
        "id": "54Im2mo7w5Du",
        "colab_type": "code",
        "colab": {}
      },
      "source": [
        "from glob import glob"
      ],
      "execution_count": 6,
      "outputs": []
    },
    {
      "cell_type": "code",
      "metadata": {
        "id": "UD_HphJgSdRI",
        "colab_type": "code",
        "colab": {
          "base_uri": "https://localhost:8080/",
          "height": 52
        },
        "outputId": "5e967599-53ff-46fe-dd4e-0639a72a1be6"
      },
      "source": [
        "data_dir = tf.keras.utils.get_file(origin='https://github.com/EuneeChung/melspectrogram/raw/master/5_melspetrogram_img.tgz', \n",
        "                                   fname='images', extract=True)\n",
        "data_dir = pathlib.Path(data_dir)"
      ],
      "execution_count": 7,
      "outputs": [
        {
          "output_type": "stream",
          "text": [
            "Downloading data from https://github.com/EuneeChung/melspectrogram/raw/master/5_melspetrogram_img.tgz\n",
            "278405120/278402138 [==============================] - 2s 0us/step\n"
          ],
          "name": "stdout"
        }
      ]
    },
    {
      "cell_type": "code",
      "metadata": {
        "id": "aXHk7J3HcIhI",
        "colab_type": "code",
        "colab": {
          "base_uri": "https://localhost:8080/",
          "height": 35
        },
        "outputId": "ba5b735b-aa86-4068-a4a7-a21788d469d8"
      },
      "source": [
        "data_dir"
      ],
      "execution_count": 8,
      "outputs": [
        {
          "output_type": "execute_result",
          "data": {
            "text/plain": [
              "PosixPath('/root/.keras/datasets/images')"
            ]
          },
          "metadata": {
            "tags": []
          },
          "execution_count": 8
        }
      ]
    },
    {
      "cell_type": "code",
      "metadata": {
        "id": "pNGLpY40SdTO",
        "colab_type": "code",
        "colab": {}
      },
      "source": [
        "data_dir = pathlib.PosixPath(\"/root/.keras/datasets/melspetrogram_img\")"
      ],
      "execution_count": 8,
      "outputs": []
    },
    {
      "cell_type": "code",
      "metadata": {
        "id": "Hpo3m_T9SdUv",
        "colab_type": "code",
        "colab": {
          "base_uri": "https://localhost:8080/",
          "height": 35
        },
        "outputId": "60497495-48e4-4dbd-fd6b-802de2f86985"
      },
      "source": [
        "image_count = len(list(data_dir.glob('*/*.png')))\n",
        "image_count"
      ],
      "execution_count": 9,
      "outputs": [
        {
          "output_type": "execute_result",
          "data": {
            "text/plain": [
              "6574"
            ]
          },
          "metadata": {
            "tags": []
          },
          "execution_count": 9
        }
      ]
    },
    {
      "cell_type": "code",
      "metadata": {
        "id": "fp90oMiIf9Jz",
        "colab_type": "code",
        "colab": {
          "base_uri": "https://localhost:8080/",
          "height": 35
        },
        "outputId": "47351135-26de-47d6-ad69-b8e7090279bc"
      },
      "source": [
        "!ls  /root/.keras/datasets/"
      ],
      "execution_count": 11,
      "outputs": [
        {
          "output_type": "stream",
          "text": [
            "images\tmelspetrogram_img\n"
          ],
          "name": "stdout"
        }
      ]
    },
    {
      "cell_type": "code",
      "metadata": {
        "id": "-5J_bbsXSdWV",
        "colab_type": "code",
        "colab": {}
      },
      "source": [
        "CLASS_NAMES = np.array([item.name for item in data_dir.glob('*')])"
      ],
      "execution_count": 10,
      "outputs": []
    },
    {
      "cell_type": "code",
      "metadata": {
        "id": "x-M_9yUf0sqr",
        "colab_type": "code",
        "colab": {
          "base_uri": "https://localhost:8080/",
          "height": 35
        },
        "outputId": "b9cf1e24-2c8f-4521-c5c7-a93d80a932d5"
      },
      "source": [
        "CLASS_NAMES"
      ],
      "execution_count": 19,
      "outputs": [
        {
          "output_type": "execute_result",
          "data": {
            "text/plain": [
              "array(['motor', 'water', 'drop', 'baby', 'dog'], dtype='<U5')"
            ]
          },
          "metadata": {
            "tags": []
          },
          "execution_count": 19
        }
      ]
    },
    {
      "cell_type": "markdown",
      "metadata": {
        "id": "BJvURNE9TNmh",
        "colab_type": "text"
      },
      "source": [
        "tf.data(), train, validation, test split"
      ]
    },
    {
      "cell_type": "code",
      "metadata": {
        "id": "f8hwdNcqSdYN",
        "colab_type": "code",
        "colab": {}
      },
      "source": [
        "list_ds = tf.data.Dataset.list_files(str(data_dir/'*/*'))"
      ],
      "execution_count": 11,
      "outputs": []
    },
    {
      "cell_type": "code",
      "metadata": {
        "id": "M7t-VxfwSdbR",
        "colab_type": "code",
        "colab": {}
      },
      "source": [
        "#for f in list_ds.take(5):\n",
        "#  print(f.numpy())"
      ],
      "execution_count": null,
      "outputs": []
    },
    {
      "cell_type": "code",
      "metadata": {
        "id": "yhRtByxhP3NF",
        "colab_type": "code",
        "colab": {}
      },
      "source": [
        "train_num = int(image_count * 0.7)\n",
        "test_num = int(image_count * 0.2)\n",
        "val_num = int(image_count * 0.1)"
      ],
      "execution_count": 12,
      "outputs": []
    },
    {
      "cell_type": "code",
      "metadata": {
        "id": "NksBdvjIP3Qx",
        "colab_type": "code",
        "colab": {}
      },
      "source": [
        "learning_rate = 0.001\n",
        "training_epochs = 100\n",
        "BATCH_SIZE = 64\n",
        "IMG_HEIGHT = 224 #770\n",
        "IMG_WIDTH = 224 #310\n",
        "STEPS_PER_EPOCH = np.ceil(image_count/BATCH_SIZE)\n",
        "VALIDATION_STEPS = np.ceil(val_num/BATCH_SIZE)\n",
        "TEST_STEPS = np.ceil(test_num/BATCH_SIZE)"
      ],
      "execution_count": 13,
      "outputs": []
    },
    {
      "cell_type": "code",
      "metadata": {
        "id": "cOTHaZ8aUedu",
        "colab_type": "code",
        "colab": {}
      },
      "source": [
        "def get_label(file_path):\n",
        "  parts = tf.strings.split(file_path, os.path.sep)\n",
        "  return parts[-2] == CLASS_NAMES\n",
        "\n",
        "def decode_img(img):\n",
        "  img = tf.image.decode_png(img, channels=3)\n",
        "  img = tf.image.convert_image_dtype(img, tf.float32)\n",
        "  return tf.image.resize(img, [IMG_WIDTH, IMG_HEIGHT])\n",
        "\n",
        "def process_path(file_path):\n",
        "  label = get_label(file_path)\n",
        "  # 파일에서 raw data를 문자열로 로드\n",
        "  img = tf.io.read_file(file_path)\n",
        "  img = decode_img(img)\n",
        "  return img, label"
      ],
      "execution_count": 14,
      "outputs": []
    },
    {
      "cell_type": "code",
      "metadata": {
        "id": "3ltiwStYUegW",
        "colab_type": "code",
        "colab": {}
      },
      "source": [
        "AUTOTUNE = tf.data.experimental.AUTOTUNE\n",
        "labeled_ds = list_ds.map(process_path, num_parallel_calls=AUTOTUNE)"
      ],
      "execution_count": 15,
      "outputs": []
    },
    {
      "cell_type": "code",
      "metadata": {
        "id": "o-Cil1cdUeju",
        "colab_type": "code",
        "colab": {}
      },
      "source": [
        "#for image, label in labeled_ds.take(1):\n",
        "#  print(\"Image shape: \", image.numpy().shape)\n",
        "#  print(\"Label: \", label.numpy())"
      ],
      "execution_count": null,
      "outputs": []
    },
    {
      "cell_type": "code",
      "metadata": {
        "id": "6EvG9_nkUemd",
        "colab_type": "code",
        "colab": {}
      },
      "source": [
        "train_ = labeled_ds.take(train_num)\n",
        "test_ = labeled_ds.take(test_num)\n",
        "val_ = labeled_ds.take(val_num)"
      ],
      "execution_count": 16,
      "outputs": []
    },
    {
      "cell_type": "code",
      "metadata": {
        "id": "XQ0STgoWbSEP",
        "colab_type": "code",
        "colab": {}
      },
      "source": [
        "train_\n",
        "test_\n",
        "val_"
      ],
      "execution_count": null,
      "outputs": []
    },
    {
      "cell_type": "code",
      "metadata": {
        "id": "XpuWodFiUep1",
        "colab_type": "code",
        "colab": {}
      },
      "source": [
        "def prepare_for_training(ds, cache=True, shuffle_buffer_size=1000):\n",
        "  if cache:\n",
        "    if isinstance(cache, str):\n",
        "      ds = ds.cache(cache)\n",
        "    else:\n",
        "      ds = ds.cache()\n",
        "\n",
        "  ds = ds.shuffle(buffer_size=shuffle_buffer_size)\n",
        "\n",
        "  ds = ds.repeat()\n",
        "  ds = ds.batch(BATCH_SIZE)\n",
        "\n",
        "  ds = ds.prefetch(buffer_size=AUTOTUNE)\n",
        "\n",
        "  return ds"
      ],
      "execution_count": 17,
      "outputs": []
    },
    {
      "cell_type": "code",
      "metadata": {
        "id": "3uYBpmEeVAEb",
        "colab_type": "code",
        "colab": {}
      },
      "source": [
        "train_ds = prepare_for_training(train_)\n",
        "test_ds = prepare_for_training(test_)\n",
        "val_ds = prepare_for_training(val_)"
      ],
      "execution_count": 18,
      "outputs": []
    },
    {
      "cell_type": "code",
      "metadata": {
        "id": "cw1WO8C8bXhS",
        "colab_type": "code",
        "colab": {
          "base_uri": "https://localhost:8080/",
          "height": 35
        },
        "outputId": "4543eb78-0f20-4edf-f503-601621bdeda3"
      },
      "source": [
        "train_ds\n",
        "test_ds\n",
        "val_ds"
      ],
      "execution_count": 29,
      "outputs": [
        {
          "output_type": "execute_result",
          "data": {
            "text/plain": [
              "<PrefetchDataset shapes: ((None, 310, 770, 3), (None, 5)), types: (tf.float32, tf.bool)>"
            ]
          },
          "metadata": {
            "tags": []
          },
          "execution_count": 29
        }
      ]
    },
    {
      "cell_type": "markdown",
      "metadata": {
        "id": "6LJiO5b0XCwp",
        "colab_type": "text"
      },
      "source": [
        "model"
      ]
    },
    {
      "cell_type": "code",
      "metadata": {
        "id": "VJNw2ZB7XBDF",
        "colab_type": "code",
        "colab": {}
      },
      "source": [
        "class AcousticSoundModel(tf.keras.Model):\n",
        "    def __init__(self):\n",
        "        super(AcousticSoundModel, self).__init__()\n",
        "        self.conv1 = Conv2D(filters=64, kernel_size=[3, 3], padding='SAME', activation=tf.nn.relu)\n",
        "        self.drop1 = Dropout(rate=0.2)\n",
        "        self.pool1 = MaxPool2D(padding='SAME') ###### pooling 2x2. stride는 표기 x, 확인 ######\n",
        "        \n",
        "        self.conv2 = Conv2D(filters=64, kernel_size=[3, 3], padding='SAME', activation=tf.nn.relu)\n",
        "        self.drop2 = Dropout(rate=0.2) #20% dropout\n",
        "        self.pool2 = MaxPool2D(padding='SAME')\n",
        "        \n",
        "        self.conv3 = Conv2D(filters=64, kernel_size=[3, 3], padding='SAME', activation=tf.nn.relu)\n",
        "        self.drop3 = Dropout(rate=0.2) #20% dropout\n",
        "        self.pool3 = MaxPool2D(padding='SAME')\n",
        "        \n",
        "        self.pool3_flat = keras.layers.Flatten()\n",
        "        self.dense4 = Dense(units=128, activation=tf.nn.relu)\n",
        "        self.dense5 = Dense(units=5, activation=tf.nn.sigmoid)\n",
        "        \n",
        "    def call(self, inputs, training=False):\n",
        "        net = self.conv1(inputs)\n",
        "        net = self.drop1(net)\n",
        "        net = self.pool1(net)\n",
        "        \n",
        "        net = self.conv2(net)\n",
        "        net = self.drop2(net)\n",
        "        net = self.pool2(net)\n",
        "        \n",
        "        net = self.conv3(net)\n",
        "        net = self.drop3(net)\n",
        "        net = self.pool3(net)\n",
        "        \n",
        "        net = self.pool3_flat(net)\n",
        "        net = self.dense4(net)\n",
        "        net = self.dense5(net)\n",
        "        return net"
      ],
      "execution_count": 19,
      "outputs": []
    },
    {
      "cell_type": "code",
      "metadata": {
        "id": "WKgrCzcDXBGc",
        "colab_type": "code",
        "colab": {}
      },
      "source": [
        "model = AcousticSoundModel()"
      ],
      "execution_count": 20,
      "outputs": []
    },
    {
      "cell_type": "code",
      "metadata": {
        "id": "pIrEr_y7VAKy",
        "colab_type": "code",
        "colab": {}
      },
      "source": [
        "model.compile(loss='categorical_crossentropy',\n",
        "              optimizer=keras.optimizers.Adam(lr=learning_rate),\n",
        "              metrics=['acc'])"
      ],
      "execution_count": 21,
      "outputs": []
    },
    {
      "cell_type": "code",
      "metadata": {
        "id": "tALWLYRoO112",
        "colab_type": "code",
        "colab": {}
      },
      "source": [
        "model_dir = './model' #경로 설정은 이따가 제대로\n",
        "    \n",
        "if not os.path.exists(model_dir):\n",
        "    os.mkdir(model_dir)"
      ],
      "execution_count": 22,
      "outputs": []
    },
    {
      "cell_type": "code",
      "metadata": {
        "id": "a2-nGwfG8-a0",
        "colab_type": "code",
        "colab": {}
      },
      "source": [
        "checkpoint_path = model_dir + '/soundee_classification.model'\n",
        "checkpoint_dir = os.path.dirname(checkpoint_path)# Create a callback that saves the model's weights\n",
        "cp = tf.keras.callbacks.ModelCheckpoint(checkpoint_path, \n",
        "                                        monitor='val_loss', mode='min', save_best_only=True, \n",
        "                                        verbose=1)"
      ],
      "execution_count": 23,
      "outputs": []
    },
    {
      "cell_type": "code",
      "metadata": {
        "id": "FZkHViDNtj-s",
        "colab_type": "code",
        "colab": {}
      },
      "source": [
        "es = tf.keras.callbacks.EarlyStopping(monitor='val_loss', mode='min', verbose=1, patience=10)"
      ],
      "execution_count": 24,
      "outputs": []
    },
    {
      "cell_type": "code",
      "metadata": {
        "id": "bUH2o7GzVAUX",
        "colab_type": "code",
        "colab": {}
      },
      "source": [
        "callback = [es, cp]"
      ],
      "execution_count": 25,
      "outputs": []
    },
    {
      "cell_type": "code",
      "metadata": {
        "id": "3YSfzlb6VAZa",
        "colab_type": "code",
        "colab": {
          "base_uri": "https://localhost:8080/",
          "height": 1000
        },
        "outputId": "fdad9211-ba1a-4a8d-f3d2-bf2a15201526"
      },
      "source": [
        "hist = model.fit(\n",
        "      train_ds,\n",
        "      steps_per_epoch=STEPS_PER_EPOCH,\n",
        "      epochs=training_epochs,\n",
        "      batch_size = BATCH_SIZE,\n",
        "      validation_data=val_ds,\n",
        "      validation_steps=VALIDATION_STEPS,\n",
        "      callbacks=callback)"
      ],
      "execution_count": 26,
      "outputs": [
        {
          "output_type": "stream",
          "text": [
            "Epoch 1/100\n",
            "103/103 [==============================] - ETA: 0s - loss: 0.3315 - acc: 0.8921\n",
            "Epoch 00001: val_loss improved from inf to 0.07027, saving model to ./model/soundee_classification.model\n",
            "103/103 [==============================] - 49s 480ms/step - loss: 0.3315 - acc: 0.8921 - val_loss: 0.0703 - val_acc: 0.9872\n",
            "Epoch 2/100\n",
            "103/103 [==============================] - ETA: 0s - loss: 0.0355 - acc: 0.9894\n",
            "Epoch 00002: val_loss improved from 0.07027 to 0.02081, saving model to ./model/soundee_classification.model\n",
            "103/103 [==============================] - 39s 381ms/step - loss: 0.0355 - acc: 0.9894 - val_loss: 0.0208 - val_acc: 0.9957\n",
            "Epoch 3/100\n",
            "103/103 [==============================] - ETA: 0s - loss: 0.0286 - acc: 0.9936\n",
            "Epoch 00003: val_loss did not improve from 0.02081\n",
            "103/103 [==============================] - 39s 380ms/step - loss: 0.0286 - acc: 0.9936 - val_loss: 0.0219 - val_acc: 0.9929\n",
            "Epoch 4/100\n",
            "103/103 [==============================] - ETA: 0s - loss: 0.0304 - acc: 0.9892\n",
            "Epoch 00004: val_loss did not improve from 0.02081\n",
            "103/103 [==============================] - 39s 377ms/step - loss: 0.0304 - acc: 0.9892 - val_loss: 0.0358 - val_acc: 0.9872\n",
            "Epoch 5/100\n",
            "103/103 [==============================] - ETA: 0s - loss: 0.0189 - acc: 0.9909\n",
            "Epoch 00005: val_loss improved from 0.02081 to 0.01858, saving model to ./model/soundee_classification.model\n",
            "103/103 [==============================] - 39s 377ms/step - loss: 0.0189 - acc: 0.9909 - val_loss: 0.0186 - val_acc: 0.9929\n",
            "Epoch 6/100\n",
            "103/103 [==============================] - ETA: 0s - loss: 0.0133 - acc: 0.9900\n",
            "Epoch 00006: val_loss did not improve from 0.01858\n",
            "103/103 [==============================] - 39s 378ms/step - loss: 0.0133 - acc: 0.9900 - val_loss: 0.0201 - val_acc: 0.9929\n",
            "Epoch 7/100\n",
            "103/103 [==============================] - ETA: 0s - loss: 0.0097 - acc: 0.9944\n",
            "Epoch 00007: val_loss did not improve from 0.01858\n",
            "103/103 [==============================] - 39s 378ms/step - loss: 0.0097 - acc: 0.9944 - val_loss: 0.0220 - val_acc: 0.9943\n",
            "Epoch 8/100\n",
            "103/103 [==============================] - ETA: 0s - loss: 0.0316 - acc: 0.9871\n",
            "Epoch 00008: val_loss did not improve from 0.01858\n",
            "103/103 [==============================] - 39s 379ms/step - loss: 0.0316 - acc: 0.9871 - val_loss: 0.0640 - val_acc: 0.9702\n",
            "Epoch 9/100\n",
            "103/103 [==============================] - ETA: 0s - loss: 0.0335 - acc: 0.9854\n",
            "Epoch 00009: val_loss did not improve from 0.01858\n",
            "103/103 [==============================] - 39s 376ms/step - loss: 0.0335 - acc: 0.9854 - val_loss: 0.0423 - val_acc: 0.9915\n",
            "Epoch 10/100\n",
            "103/103 [==============================] - ETA: 0s - loss: 0.0183 - acc: 0.9912\n",
            "Epoch 00010: val_loss did not improve from 0.01858\n",
            "103/103 [==============================] - 39s 376ms/step - loss: 0.0183 - acc: 0.9912 - val_loss: 0.0192 - val_acc: 0.9915\n",
            "Epoch 11/100\n",
            "103/103 [==============================] - ETA: 0s - loss: 0.0125 - acc: 0.9930\n",
            "Epoch 00011: val_loss improved from 0.01858 to 0.01190, saving model to ./model/soundee_classification.model\n",
            "103/103 [==============================] - 39s 377ms/step - loss: 0.0125 - acc: 0.9930 - val_loss: 0.0119 - val_acc: 0.9972\n",
            "Epoch 12/100\n",
            "103/103 [==============================] - ETA: 0s - loss: 0.0186 - acc: 0.9915\n",
            "Epoch 00012: val_loss did not improve from 0.01190\n",
            "103/103 [==============================] - 39s 377ms/step - loss: 0.0186 - acc: 0.9915 - val_loss: 0.0209 - val_acc: 0.9915\n",
            "Epoch 13/100\n",
            "103/103 [==============================] - ETA: 0s - loss: 0.0103 - acc: 0.9907\n",
            "Epoch 00013: val_loss did not improve from 0.01190\n",
            "103/103 [==============================] - 39s 376ms/step - loss: 0.0103 - acc: 0.9907 - val_loss: 0.0138 - val_acc: 0.9943\n",
            "Epoch 14/100\n",
            "103/103 [==============================] - ETA: 0s - loss: 0.0490 - acc: 0.9850\n",
            "Epoch 00014: val_loss did not improve from 0.01190\n",
            "103/103 [==============================] - 39s 374ms/step - loss: 0.0490 - acc: 0.9850 - val_loss: 0.0385 - val_acc: 0.9830\n",
            "Epoch 15/100\n",
            "103/103 [==============================] - ETA: 0s - loss: 0.0268 - acc: 0.9885\n",
            "Epoch 00015: val_loss did not improve from 0.01190\n",
            "103/103 [==============================] - 39s 374ms/step - loss: 0.0268 - acc: 0.9885 - val_loss: 0.0303 - val_acc: 0.9901\n",
            "Epoch 16/100\n",
            "103/103 [==============================] - ETA: 0s - loss: 0.0220 - acc: 0.9877\n",
            "Epoch 00016: val_loss did not improve from 0.01190\n",
            "103/103 [==============================] - 39s 375ms/step - loss: 0.0220 - acc: 0.9877 - val_loss: 0.0188 - val_acc: 0.9943\n",
            "Epoch 17/100\n",
            "103/103 [==============================] - ETA: 0s - loss: 0.0117 - acc: 0.9914\n",
            "Epoch 00017: val_loss did not improve from 0.01190\n",
            "103/103 [==============================] - 39s 376ms/step - loss: 0.0117 - acc: 0.9914 - val_loss: 0.0193 - val_acc: 0.9943\n",
            "Epoch 18/100\n",
            "103/103 [==============================] - ETA: 0s - loss: 0.0092 - acc: 0.9909\n",
            "Epoch 00018: val_loss did not improve from 0.01190\n",
            "103/103 [==============================] - 39s 376ms/step - loss: 0.0092 - acc: 0.9909 - val_loss: 0.0188 - val_acc: 0.9943\n",
            "Epoch 19/100\n",
            "103/103 [==============================] - ETA: 0s - loss: 0.0088 - acc: 0.9918\n",
            "Epoch 00019: val_loss did not improve from 0.01190\n",
            "103/103 [==============================] - 39s 375ms/step - loss: 0.0088 - acc: 0.9918 - val_loss: 0.0196 - val_acc: 0.9929\n",
            "Epoch 20/100\n",
            "103/103 [==============================] - ETA: 0s - loss: 0.0123 - acc: 0.9904\n",
            "Epoch 00020: val_loss did not improve from 0.01190\n",
            "103/103 [==============================] - 39s 376ms/step - loss: 0.0123 - acc: 0.9904 - val_loss: 0.0187 - val_acc: 0.9943\n",
            "Epoch 21/100\n",
            "103/103 [==============================] - ETA: 0s - loss: 0.0092 - acc: 0.9910\n",
            "Epoch 00021: val_loss did not improve from 0.01190\n",
            "103/103 [==============================] - 39s 376ms/step - loss: 0.0092 - acc: 0.9910 - val_loss: 0.0186 - val_acc: 0.9943\n",
            "Epoch 00021: early stopping\n"
          ],
          "name": "stdout"
        }
      ]
    },
    {
      "cell_type": "code",
      "metadata": {
        "id": "no5xv9Ew97Rb",
        "colab_type": "code",
        "colab": {
          "base_uri": "https://localhost:8080/",
          "height": 88
        },
        "outputId": "a9887866-c243-4d69-f1fd-1949f0083349"
      },
      "source": [
        "!ls {checkpoint_dir} # 저장된 checkpoint 확인하기"
      ],
      "execution_count": 27,
      "outputs": [
        {
          "output_type": "stream",
          "text": [
            "checkpoint\n",
            "soundee_classification.model.data-00000-of-00002\n",
            "soundee_classification.model.data-00001-of-00002\n",
            "soundee_classification.model.index\n"
          ],
          "name": "stdout"
        }
      ]
    },
    {
      "cell_type": "code",
      "metadata": {
        "id": "XBTTi_4GZJgD",
        "colab_type": "code",
        "colab": {}
      },
      "source": [
        "#model.save_weights('saveweights', save_format='tf')"
      ],
      "execution_count": null,
      "outputs": []
    },
    {
      "cell_type": "code",
      "metadata": {
        "id": "7ZdvfDCsZvFD",
        "colab_type": "code",
        "colab": {
          "base_uri": "https://localhost:8080/",
          "height": 545
        },
        "outputId": "d281c508-901a-4c74-fde7-f59c7f919582"
      },
      "source": [
        "acc = hist.history['acc']\n",
        "val_acc = hist.history['val_acc']\n",
        "loss = hist.history['loss']\n",
        "val_loss = hist.history['val_loss']\n",
        "\n",
        "epochs = range(len(acc))\n",
        "\n",
        "plt.plot(epochs, acc, 'bo', label='Training acc')\n",
        "plt.plot(epochs, val_acc, 'b', label='Validation acc')\n",
        "plt.title('Training and validation accuracy')\n",
        "plt.legend()\n",
        "\n",
        "plt.figure()\n",
        "\n",
        "plt.plot(epochs, loss, 'bo', label='Training loss')\n",
        "plt.plot(epochs, val_loss, 'b', label='Validation loss')\n",
        "plt.title('Training and validation loss')\n",
        "plt.legend()\n",
        "\n",
        "plt.show()"
      ],
      "execution_count": 28,
      "outputs": [
        {
          "output_type": "display_data",
          "data": {
            "image/png": "[encoded data removed]",
            "text/plain": [
              "<Figure size 432x288 with 1 Axes>"
            ]
          },
          "metadata": {
            "tags": [],
            "needs_background": "light"
          }
        },
        {
          "output_type": "display_data",
          "data": {
            "image/png": "[encoded data removed]",
            "text/plain": [
              "<Figure size 432x288 with 1 Axes>"
            ]
          },
          "metadata": {
            "tags": [],
            "needs_background": "light"
          }
        }
      ]
    },
    {
      "cell_type": "code",
      "metadata": {
        "id": "IfXrBnLk_eO5",
        "colab_type": "code",
        "colab": {
          "base_uri": "https://localhost:8080/",
          "height": 52
        },
        "outputId": "e9d3fbb4-bda2-47da-9a38-af3363ed31a9"
      },
      "source": [
        "loss, acc = model.evaluate(test_ds, batch_size=BATCH_SIZE, steps=TEST_STEPS)\n",
        "print('acc: %.2f%%, loss: %f'% (acc*100, loss))"
      ],
      "execution_count": 29,
      "outputs": [
        {
          "output_type": "stream",
          "text": [
            "21/21 [==============================] - 3s 159ms/step - loss: 0.0201 - acc: 0.9911\n",
            "acc: 99.11%, loss: 0.020076\n"
          ],
          "name": "stdout"
        }
      ]
    },
    {
      "cell_type": "markdown",
      "metadata": {
        "id": "jqH-L7qm8U_R",
        "colab_type": "text"
      },
      "source": [
        "prediction test"
      ]
    },
    {
      "cell_type": "code",
      "metadata": {
        "id": "9aOuWAZ-8TTV",
        "colab_type": "code",
        "colab": {}
      },
      "source": [
        "from PIL import Image\n",
        "#import os, glob, numpy as np\n",
        "from keras.models import load_model"
      ],
      "execution_count": 30,
      "outputs": []
    },
    {
      "cell_type": "code",
      "metadata": {
        "id": "hpsNgzwxBvdi",
        "colab_type": "code",
        "colab": {
          "base_uri": "https://localhost:8080/",
          "height": 52
        },
        "outputId": "68f5847a-5116-4ed7-9b6d-b802088fb5cd"
      },
      "source": [
        "test_dir = tf.keras.utils.get_file(origin='https://docs.google.com/uc?export=download&id=1VMllFJGjUwTScLMSpYJAR7gqjtQGu7fH', \n",
        "                                   fname='test', extract=True)\n",
        "test_dir = pathlib.Path(test_dir)"
      ],
      "execution_count": 31,
      "outputs": [
        {
          "output_type": "stream",
          "text": [
            "Downloading data from https://docs.google.com/uc?export=download&id=1VMllFJGjUwTScLMSpYJAR7gqjtQGu7fH\n",
            "983040/978684 [==============================] - 0s 0us/step\n"
          ],
          "name": "stdout"
        }
      ]
    },
    {
      "cell_type": "code",
      "metadata": {
        "id": "0TrsypJ8vuFC",
        "colab_type": "code",
        "colab": {}
      },
      "source": [
        "#test_dir = pathlib.PosixPath(\"/root/.keras/datasets/DATASET\")"
      ],
      "execution_count": null,
      "outputs": []
    },
    {
      "cell_type": "code",
      "metadata": {
        "id": "aXPBEY6uNIrM",
        "colab_type": "code",
        "colab": {}
      },
      "source": [
        "test_dir = \"/root/.keras/datasets/DATASET\""
      ],
      "execution_count": 32,
      "outputs": []
    },
    {
      "cell_type": "code",
      "metadata": {
        "id": "Fd-XzmmjO6d1",
        "colab_type": "code",
        "colab": {}
      },
      "source": [
        "X = []\n",
        "filenames = []\n",
        "files = glob(test_dir+\"/*.png\")\n",
        "for i, f in enumerate(files):\n",
        "    img = Image.open(f)\n",
        "    img = img.convert(\"RGB\")\n",
        "    img = img.resize((IMG_WIDTH, IMG_HEIGHT))\n",
        "    data = np.asarray(img)\n",
        "    filenames.append(f)\n",
        "    X.append(data)\n",
        "\n",
        "X = np.array(X, dtype=np.float32)"
      ],
      "execution_count": 33,
      "outputs": []
    },
    {
      "cell_type": "code",
      "metadata": {
        "id": "7n-G-pvOxy28",
        "colab_type": "code",
        "colab": {
          "base_uri": "https://localhost:8080/",
          "height": 301
        },
        "outputId": "1759f767-5347-4cb8-a6ef-9297cf637eea"
      },
      "source": [
        "files[:16]"
      ],
      "execution_count": 34,
      "outputs": [
        {
          "output_type": "execute_result",
          "data": {
            "text/plain": [
              "['/root/.keras/datasets/DATASET/DROP_0.png',\n",
              " '/root/.keras/datasets/DATASET/WATER_5.png',\n",
              " '/root/.keras/datasets/DATASET/WATER_4.png',\n",
              " '/root/.keras/datasets/DATASET/MOTOR_2.png',\n",
              " '/root/.keras/datasets/DATASET/WATER_0.png',\n",
              " '/root/.keras/datasets/DATASET/WATER_1.png',\n",
              " '/root/.keras/datasets/DATASET/DROP_5.png',\n",
              " '/root/.keras/datasets/DATASET/MOTOR_4.png',\n",
              " '/root/.keras/datasets/DATASET/MOTOR_0.png',\n",
              " '/root/.keras/datasets/DATASET/WATER_2.png',\n",
              " '/root/.keras/datasets/DATASET/DROP_4.png',\n",
              " '/root/.keras/datasets/DATASET/MOTOR_1.png',\n",
              " '/root/.keras/datasets/DATASET/DROP_3.png',\n",
              " '/root/.keras/datasets/DATASET/WATER_3.png',\n",
              " '/root/.keras/datasets/DATASET/MOTOR_5.png',\n",
              " '/root/.keras/datasets/DATASET/DROP_2.png']"
            ]
          },
          "metadata": {
            "tags": []
          },
          "execution_count": 34
        }
      ]
    },
    {
      "cell_type": "code",
      "metadata": {
        "id": "_GLVcO-vQVOV",
        "colab_type": "code",
        "colab": {}
      },
      "source": [
        "prediction = model.predict(X)\n",
        "np.set_printoptions(formatter={'float': lambda x: \"{0:0.3f}\".format(x)})"
      ],
      "execution_count": 35,
      "outputs": []
    },
    {
      "cell_type": "code",
      "metadata": {
        "id": "c9KR3__95D1U",
        "colab_type": "code",
        "colab": {
          "base_uri": "https://localhost:8080/",
          "height": 35
        },
        "outputId": "9d1fd9f9-dd1c-4741-cd16-bf094d105a79"
      },
      "source": [
        "filenames[12].split('/')"
      ],
      "execution_count": 36,
      "outputs": [
        {
          "output_type": "execute_result",
          "data": {
            "text/plain": [
              "['', 'root', '.keras', 'datasets', 'DATASET', 'DROP_3.png']"
            ]
          },
          "metadata": {
            "tags": []
          },
          "execution_count": 36
        }
      ]
    },
    {
      "cell_type": "code",
      "metadata": {
        "id": "czcJ7wWCQ_ZY",
        "colab_type": "code",
        "colab": {
          "base_uri": "https://localhost:8080/",
          "height": 995
        },
        "outputId": "db4b3425-914e-449b-d245-83effd65a5c9"
      },
      "source": [
        "cnt = 0\n",
        "for i in prediction:\n",
        "    pre_ans = i.argmax()  # 예측 레이블\n",
        "    print(i)\n",
        "    pre_ans_str = ''\n",
        "    if pre_ans == 0: pre_ans_str = \"motor\"\n",
        "    elif pre_ans == 1: pre_ans_str = \"water\"\n",
        "    elif pre_ans == 2: pre_ans_str = \"drop\"\n",
        "    elif pre_ans == 3: pre_ans_str = \"baby\"\n",
        "    else: pre_ans_str = \"dog\"\n",
        "\n",
        "    if i[0] >= 0.8 : print(\"해당 \"+filenames[cnt].split('/')[5]+\"이미지는 \"+pre_ans_str+\"로 추정됩니다.\")\n",
        "    if i[1] >= 0.8: print(\"해당 \"+filenames[cnt].split('/')[5]+\"이미지는 \"+pre_ans_str+\"로 추정됩니다.\")\n",
        "    if i[2] >= 0.8: print(\"해당 \"+filenames[cnt].split('/')[5]+\"이미지는 \"+pre_ans_str+\"로 추정됩니다.\")\n",
        "    if i[3] >= 0.8: print(\"해당 \"+filenames[cnt].split('/')[5]+\"이미지는 \"+pre_ans_str+\"로 추정됩니다.\")\n",
        "    if i[4] >= 0.8: print(\"해당 \"+filenames[cnt].split('/')[5]+\"이미지는 \"+pre_ans_str+\"로 추정됩니다.\")\n",
        "    if i[0] < 0.8 and i[1] < 0.8 and i[2] < 0.8 and i[3] < 0.8 and i[4] < 0.8 : print(\"추정할 수 없습니다.\")\n",
        "    print()\n",
        "    cnt += 1"
      ],
      "execution_count": 45,
      "outputs": [
        {
          "output_type": "stream",
          "text": [
            "[0.000 0.000 1.000 0.000 0.000]\n",
            "해당 DROP_0.png이미지는 drop로 추정됩니다.\n",
            "\n",
            "[0.000 1.000 0.000 0.000 0.000]\n",
            "해당 WATER_5.png이미지는 water로 추정됩니다.\n",
            "\n",
            "[0.000 1.000 0.000 0.000 0.000]\n",
            "해당 WATER_4.png이미지는 water로 추정됩니다.\n",
            "\n",
            "[0.000 0.000 0.000 0.000 0.000]\n",
            "추정할 수 없습니다.\n",
            "\n",
            "[0.000 0.000 0.000 0.000 0.000]\n",
            "추정할 수 없습니다.\n",
            "\n",
            "[0.000 0.000 0.000 0.000 0.000]\n",
            "추정할 수 없습니다.\n",
            "\n",
            "[1.000 0.000 1.000 0.000 0.000]\n",
            "해당 DROP_5.png이미지는 motor로 추정됩니다.\n",
            "해당 DROP_5.png이미지는 motor로 추정됩니다.\n",
            "\n",
            "[1.000 0.000 0.000 0.000 0.000]\n",
            "해당 MOTOR_4.png이미지는 motor로 추정됩니다.\n",
            "\n",
            "[0.000 0.000 0.000 1.000 0.000]\n",
            "해당 MOTOR_0.png이미지는 baby로 추정됩니다.\n",
            "\n",
            "[0.000 0.000 0.000 0.000 0.000]\n",
            "추정할 수 없습니다.\n",
            "\n",
            "[0.000 0.000 1.000 0.000 0.000]\n",
            "해당 DROP_4.png이미지는 drop로 추정됩니다.\n",
            "\n",
            "[0.000 0.000 0.000 0.000 0.000]\n",
            "추정할 수 없습니다.\n",
            "\n",
            "[0.000 0.000 1.000 0.000 0.000]\n",
            "해당 DROP_3.png이미지는 drop로 추정됩니다.\n",
            "\n",
            "[0.000 1.000 0.000 0.000 0.000]\n",
            "해당 WATER_3.png이미지는 water로 추정됩니다.\n",
            "\n",
            "[1.000 0.000 0.000 0.000 0.000]\n",
            "해당 MOTOR_5.png이미지는 motor로 추정됩니다.\n",
            "\n",
            "[0.000 0.000 1.000 0.000 0.000]\n",
            "해당 DROP_2.png이미지는 drop로 추정됩니다.\n",
            "\n",
            "[0.000 0.000 1.000 0.000 0.000]\n",
            "해당 DROP_1.png이미지는 drop로 추정됩니다.\n",
            "\n",
            "[1.000 0.000 0.000 0.000 0.000]\n",
            "해당 MOTOR_3.png이미지는 motor로 추정됩니다.\n",
            "\n"
          ],
          "name": "stdout"
        }
      ]
    },
    {
      "cell_type": "code",
      "metadata": {
        "id": "hWuRiJ4-8Tiz",
        "colab_type": "code",
        "colab": {}
      },
      "source": [
        ""
      ],
      "execution_count": null,
      "outputs": []
    },
    {
      "cell_type": "code",
      "metadata": {
        "id": "eRJHAx_l8Tet",
        "colab_type": "code",
        "colab": {}
      },
      "source": [
        ""
      ],
      "execution_count": null,
      "outputs": []
    },
    {
      "cell_type": "code",
      "metadata": {
        "id": "_U3QGlUY8Tc2",
        "colab_type": "code",
        "colab": {}
      },
      "source": [
        ""
      ],
      "execution_count": null,
      "outputs": []
    },
    {
      "cell_type": "code",
      "metadata": {
        "id": "8gUb99RH8TZ1",
        "colab_type": "code",
        "colab": {}
      },
      "source": [
        ""
      ],
      "execution_count": null,
      "outputs": []
    },
    {
      "cell_type": "code",
      "metadata": {
        "id": "Vx2uRe1X8TXn",
        "colab_type": "code",
        "colab": {}
      },
      "source": [
        ""
      ],
      "execution_count": null,
      "outputs": []
    },
    {
      "cell_type": "code",
      "metadata": {
        "id": "0QZWw5nu_Gt3",
        "colab_type": "code",
        "colab": {}
      },
      "source": [
        "output = model.predict(test_ds, steps=TEST_STEPS)\n",
        "np.set_printoptions(formatter={'float': lambda x: \"{0:0.3f}\".format(x)})\n",
        "print(output)"
      ],
      "execution_count": null,
      "outputs": []
    },
    {
      "cell_type": "code",
      "metadata": {
        "id": "p8c3usQn_Gwb",
        "colab_type": "code",
        "colab": {}
      },
      "source": [
        "for i in output:\n",
        "    pre_ans = i.argmax()  # 예측 레이블\n",
        "    print(i)\n",
        "    #print(pre_ans)\n",
        "    pre_ans_str = ''\n",
        "    if pre_ans == 0: pre_ans_str = \"motor\"\n",
        "    elif pre_ans == 1: pre_ans_str = \"water\"\n",
        "    elif pre_ans == 2: pre_ans_str = \"drop\"\n",
        "    elif pre_ans == 3: pre_ans_str = \"baby\"\n",
        "    else: pre_ans_str = \"dog\"\n",
        "\n",
        "    if i[0] >= 0.8 : print(\"해당 이미지는 \"+pre_ans_str+\"로 추정됩니다.\")\n",
        "    #else : print(\"추정하지 못했습니다.\")\n",
        "    if i[1] >= 0.8: print(\"해당 이미지는 \"+pre_ans_str+\"로 추정됩니다.\")\n",
        "    #else : print(\"추정하지 못했습니다.\")\n",
        "    if i[2] >= 0.8: print(\"해당 이미지는 \"+pre_ans_str+\"로 추정됩니다.\")\n",
        "    #else : print(\"추정하지 못했습니다.\")\n",
        "    if i[3] >= 0.8: print(\"해당 이미지는 \"+pre_ans_str+\"로 추정됩니다.\")\n",
        "    #else : print(\"추정하지 못했습니다.\")\n",
        "    if i[4] >= 0.8: print(\"해당 이미지는 \"+pre_ans_str+\"로 추정됩니다.\")\n",
        "    #else : print(\"추정하지 못했습니다.\")"
      ],
      "execution_count": null,
      "outputs": []
    },
    {
      "cell_type": "code",
      "metadata": {
        "id": "l9QsITJrNbNF",
        "colab_type": "code",
        "colab": {}
      },
      "source": [
        ""
      ],
      "execution_count": null,
      "outputs": []
    },
    {
      "cell_type": "code",
      "metadata": {
        "id": "6gCb0bESNbQf",
        "colab_type": "code",
        "colab": {}
      },
      "source": [
        "from PIL import Image\n",
        "#import os, glob, numpy as np\n",
        "from keras.models import load_model"
      ],
      "execution_count": 39,
      "outputs": []
    },
    {
      "cell_type": "code",
      "metadata": {
        "id": "5M4wnOWcNiDh",
        "colab_type": "code",
        "colab": {}
      },
      "source": [
        "test_dir = \"./multi_img_data/imgs_others_test\" #test 이미지 넣어둔 디렉토리 경로. git에서 받아와서 설정하면됨"
      ],
      "execution_count": 40,
      "outputs": []
    },
    {
      "cell_type": "code",
      "metadata": {
        "id": "Wf62XEqQNiGU",
        "colab_type": "code",
        "colab": {}
      },
      "source": [
        "model = load_model('soundee_classification.model')"
      ],
      "execution_count": null,
      "outputs": []
    },
    {
      "cell_type": "code",
      "metadata": {
        "id": "a6EibquwFtqO",
        "colab_type": "code",
        "colab": {}
      },
      "source": [
        "test_model = AcousticSoundModel()"
      ],
      "execution_count": 50,
      "outputs": []
    },
    {
      "cell_type": "code",
      "metadata": {
        "id": "PiJwKgKD_qgr",
        "colab_type": "code",
        "colab": {
          "base_uri": "https://localhost:8080/",
          "height": 35
        },
        "outputId": "0528b63d-eb7b-4006-e631-77df37f11558"
      },
      "source": [
        "test_model.load_weights(checkpoint_path)"
      ],
      "execution_count": 51,
      "outputs": [
        {
          "output_type": "execute_result",
          "data": {
            "text/plain": [
              "<tensorflow.python.training.tracking.util.CheckpointLoadStatus at 0x7fa8500d7668>"
            ]
          },
          "metadata": {
            "tags": []
          },
          "execution_count": 51
        }
      ]
    },
    {
      "cell_type": "code",
      "metadata": {
        "id": "w_1xUX93bnrr",
        "colab_type": "code",
        "colab": {}
      },
      "source": [
        "X[1]"
      ],
      "execution_count": null,
      "outputs": []
    },
    {
      "cell_type": "code",
      "metadata": {
        "id": "Vdeo7OMCRMQ0",
        "colab_type": "code",
        "colab": {
          "base_uri": "https://localhost:8080/",
          "height": 177
        },
        "outputId": "3c4e4031-9c0c-4273-927c-42680b065b88"
      },
      "source": [
        "filenames[:10]"
      ],
      "execution_count": 46,
      "outputs": [
        {
          "output_type": "execute_result",
          "data": {
            "text/plain": [
              "['/root/.keras/datasets/DATASET/DROP_0.png',\n",
              " '/root/.keras/datasets/DATASET/MOTOR_2.png',\n",
              " '/root/.keras/datasets/DATASET/WATER_0.png',\n",
              " '/root/.keras/datasets/DATASET/WATER_1.png',\n",
              " '/root/.keras/datasets/DATASET/MOTOR_0.png',\n",
              " '/root/.keras/datasets/DATASET/WATER_2.png',\n",
              " '/root/.keras/datasets/DATASET/MOTOR_1.png',\n",
              " '/root/.keras/datasets/DATASET/DROP_2.png',\n",
              " '/root/.keras/datasets/DATASET/DROP_1.png']"
            ]
          },
          "metadata": {
            "tags": []
          },
          "execution_count": 46
        }
      ]
    },
    {
      "cell_type": "code",
      "metadata": {
        "id": "CL8FONP0Q_ce",
        "colab_type": "code",
        "colab": {}
      },
      "source": [
        ""
      ],
      "execution_count": null,
      "outputs": []
    },
    {
      "cell_type": "code",
      "metadata": {
        "id": "c2MNw7mJQ_pL",
        "colab_type": "code",
        "colab": {}
      },
      "source": [
        ""
      ],
      "execution_count": null,
      "outputs": []
    },
    {
      "cell_type": "code",
      "metadata": {
        "id": "gS4IGiU1Q_ss",
        "colab_type": "code",
        "colab": {}
      },
      "source": [
        ""
      ],
      "execution_count": null,
      "outputs": []
    },
    {
      "cell_type": "code",
      "metadata": {
        "id": "GxW1hQncNs1P",
        "colab_type": "code",
        "colab": {}
      },
      "source": [
        "path = test_dir[0]"
      ],
      "execution_count": 19,
      "outputs": []
    },
    {
      "cell_type": "code",
      "metadata": {
        "id": "MXbNOdQONShw",
        "colab_type": "code",
        "colab": {}
      },
      "source": [
        "image_pil = Image.open(path)\n",
        "image = np.array(image_pil)"
      ],
      "execution_count": 20,
      "outputs": []
    },
    {
      "cell_type": "code",
      "metadata": {
        "id": "4KZv0FQBN40a",
        "colab_type": "code",
        "colab": {
          "base_uri": "https://localhost:8080/",
          "height": 35
        },
        "outputId": "d76e45a2-7a51-452a-ba2b-c897c653cfe8"
      },
      "source": [
        "image.shape"
      ],
      "execution_count": 21,
      "outputs": [
        {
          "output_type": "execute_result",
          "data": {
            "text/plain": [
              "(770, 310, 4)"
            ]
          },
          "metadata": {
            "tags": []
          },
          "execution_count": 21
        }
      ]
    },
    {
      "cell_type": "code",
      "metadata": {
        "id": "rt5GZJZ9N-up",
        "colab_type": "code",
        "colab": {
          "base_uri": "https://localhost:8080/",
          "height": 269
        },
        "outputId": "6e6882d4-836f-4dbd-aa56-6a2097dcab57"
      },
      "source": [
        "plt.imshow(image)\n",
        "plt.show()"
      ],
      "execution_count": 24,
      "outputs": [
        {
          "output_type": "display_data",
          "data": {
            "image/png": "[encoded data removed]",
            "text/plain": [
              "<Figure size 432x288 with 1 Axes>"
            ]
          },
          "metadata": {
            "tags": [],
            "needs_background": "light"
          }
        }
      ]
    },
    {
      "cell_type": "code",
      "metadata": {
        "id": "RJD9RF1ZzvUf",
        "colab_type": "code",
        "colab": {}
      },
      "source": [
        "test = tf.data.Dataset.list_files(str(test_dir/'*'))\n",
        "test = list_ds.map(process_path, num_parallel_calls=AUTOTUNE)\n",
        "test = prepare_for_training(test)"
      ],
      "execution_count": 78,
      "outputs": []
    },
    {
      "cell_type": "code",
      "metadata": {
        "id": "JDe9MGDRz-w2",
        "colab_type": "code",
        "colab": {
          "base_uri": "https://localhost:8080/",
          "height": 141
        },
        "outputId": "d51bc1ef-66ba-4662-c6ca-13f8a198a136"
      },
      "source": [
        "prediction = model.predict(test, steps=TEST_STEPS)\n",
        "np.set_printoptions(formatter={'float': lambda x: \"{0:0.3f}\".format(x)})\n",
        "print(output)"
      ],
      "execution_count": 81,
      "outputs": [
        {
          "output_type": "stream",
          "text": [
            "[[1.000 0.000 0.000]\n",
            " [0.000 0.000 0.249]\n",
            " [1.000 0.000 0.000]\n",
            " ...\n",
            " [0.000 0.000 0.894]\n",
            " [0.000 0.000 0.008]\n",
            " [1.000 0.000 0.000]]\n"
          ],
          "name": "stdout"
        }
      ]
    },
    {
      "cell_type": "code",
      "metadata": {
        "id": "KXA2Bp071Z5l",
        "colab_type": "code",
        "colab": {
          "base_uri": "https://localhost:8080/",
          "height": 159
        },
        "outputId": "ade67e84-7564-45df-bb88-d0532f4e7cdd"
      },
      "source": [
        "filenames = tf.data.Dataset.list_files(str(test_dir/'*'))\n",
        "for f in filenames.take(8):\n",
        "  print(f.numpy())"
      ],
      "execution_count": 93,
      "outputs": [
        {
          "output_type": "stream",
          "text": [
            "b'/root/.keras/datasets/DATASET/WATER_0.png'\n",
            "b'/root/.keras/datasets/DATASET/MOTOR_1.png'\n",
            "b'/root/.keras/datasets/DATASET/MOTOR_2.png'\n",
            "b'/root/.keras/datasets/DATASET/DROP_0.png'\n",
            "b'/root/.keras/datasets/DATASET/MOTOR_0.png'\n",
            "b'/root/.keras/datasets/DATASET/WATER_1.png'\n",
            "b'/root/.keras/datasets/DATASET/DROP_1.png'\n",
            "b'/root/.keras/datasets/DATASET/DROP_2.png'\n"
          ],
          "name": "stdout"
        }
      ]
    },
    {
      "cell_type": "code",
      "metadata": {
        "id": "KHLk_cz52bzO",
        "colab_type": "code",
        "colab": {}
      },
      "source": [
        "cnt = 0\n",
        "for i in prediction:\n",
        "    pre_ans = i.argmax()  # 예측 레이블\n",
        "    print(i)\n",
        "    print(pre_ans)\n",
        "    pre_ans_str = ''\n",
        "    if pre_ans == 0: pre_ans_str = \"motor\"\n",
        "    elif pre_ans == 1: pre_ans_str = \"water\"\n",
        "    else: pre_ans_str = \"drop\"\n",
        "    if i[0] >= 0.8 : print(\"해당 이미지는 \"+pre_ans_str+\"로 추정됩니다.\")\n",
        "    if i[1] >= 0.8: print(\"해당 이미지는 \"+pre_ans_str+\"로 추정됩니다.\")\n",
        "    if i[2] >= 0.8: print(\"해당 이미지는 \"+pre_ans_str+\"로 추정됩니다.\")\n",
        "    cnt += 1"
      ],
      "execution_count": null,
      "outputs": []
    },
    {
      "cell_type": "code",
      "metadata": {
        "id": "7cGW13ll0fPt",
        "colab_type": "code",
        "colab": {
          "base_uri": "https://localhost:8080/",
          "height": 276
        },
        "outputId": "e83808bf-d6d5-4475-e2e4-4eb1ed65d5bf"
      },
      "source": [
        "cnt = 0\n",
        "for i in prediction:\n",
        "    pre_ans = i.argmax()  # 예측 레이블\n",
        "    print(i)\n",
        "    print(pre_ans)\n",
        "    pre_ans_str = ''\n",
        "    if pre_ans == 0: pre_ans_str = \"motor\"\n",
        "    elif pre_ans == 1: pre_ans_str = \"water\"\n",
        "    else: pre_ans_str = \"drop\"\n",
        "    if i[0] >= 0.8 : print(\"해당 \"+filenames[cnt].split(\"\\\\\")[1]+\"이미지는 \"+pre_ans_str+\"로 추정됩니다.\")\n",
        "    if i[1] >= 0.8: print(\"해당 \"+filenames[cnt].split(\"\\\\\")[1]+\"이미지는 \"+pre_ans_str+\"으로 추정됩니다.\")\n",
        "    if i[2] >= 0.8: print(\"해당 \"+filenames[cnt].split(\"\\\\\")[1]+\"이미지는 \"+pre_ans_str+\"로 추정됩니다.\")\n",
        "    cnt += 1"
      ],
      "execution_count": 85,
      "outputs": [
        {
          "output_type": "stream",
          "text": [
            "[1.000 0.000 0.000]\n",
            "0\n"
          ],
          "name": "stdout"
        },
        {
          "output_type": "error",
          "ename": "IndexError",
          "evalue": "ignored",
          "traceback": [
            "\u001b[0;31m---------------------------------------------------------------------------\u001b[0m",
            "\u001b[0;31mIndexError\u001b[0m                                Traceback (most recent call last)",
            "\u001b[0;32m<ipython-input-85-b0f65d35215d>\u001b[0m in \u001b[0;36m<module>\u001b[0;34m()\u001b[0m\n\u001b[1;32m      8\u001b[0m     \u001b[0;32melif\u001b[0m \u001b[0mpre_ans\u001b[0m \u001b[0;34m==\u001b[0m \u001b[0;36m1\u001b[0m\u001b[0;34m:\u001b[0m \u001b[0mpre_ans_str\u001b[0m \u001b[0;34m=\u001b[0m \u001b[0;34m\"water\"\u001b[0m\u001b[0;34m\u001b[0m\u001b[0;34m\u001b[0m\u001b[0m\n\u001b[1;32m      9\u001b[0m     \u001b[0;32melse\u001b[0m\u001b[0;34m:\u001b[0m \u001b[0mpre_ans_str\u001b[0m \u001b[0;34m=\u001b[0m \u001b[0;34m\"drop\"\u001b[0m\u001b[0;34m\u001b[0m\u001b[0;34m\u001b[0m\u001b[0m\n\u001b[0;32m---> 10\u001b[0;31m     \u001b[0;32mif\u001b[0m \u001b[0mi\u001b[0m\u001b[0;34m[\u001b[0m\u001b[0;36m0\u001b[0m\u001b[0;34m]\u001b[0m \u001b[0;34m>=\u001b[0m \u001b[0;36m0.8\u001b[0m \u001b[0;34m:\u001b[0m \u001b[0mprint\u001b[0m\u001b[0;34m(\u001b[0m\u001b[0;34m\"해당 \"\u001b[0m\u001b[0;34m+\u001b[0m\u001b[0mfilenames\u001b[0m\u001b[0;34m[\u001b[0m\u001b[0mcnt\u001b[0m\u001b[0;34m]\u001b[0m\u001b[0;34m.\u001b[0m\u001b[0msplit\u001b[0m\u001b[0;34m(\u001b[0m\u001b[0;34m\"\\\\\"\u001b[0m\u001b[0;34m)\u001b[0m\u001b[0;34m[\u001b[0m\u001b[0;36m1\u001b[0m\u001b[0;34m]\u001b[0m\u001b[0;34m+\u001b[0m\u001b[0;34m\"이미지는 \"\u001b[0m\u001b[0;34m+\u001b[0m\u001b[0mpre_ans_str\u001b[0m\u001b[0;34m+\u001b[0m\u001b[0;34m\"로 추정됩니다.\"\u001b[0m\u001b[0;34m)\u001b[0m\u001b[0;34m\u001b[0m\u001b[0;34m\u001b[0m\u001b[0m\n\u001b[0m\u001b[1;32m     11\u001b[0m     \u001b[0;32mif\u001b[0m \u001b[0mi\u001b[0m\u001b[0;34m[\u001b[0m\u001b[0;36m1\u001b[0m\u001b[0;34m]\u001b[0m \u001b[0;34m>=\u001b[0m \u001b[0;36m0.8\u001b[0m\u001b[0;34m:\u001b[0m \u001b[0mprint\u001b[0m\u001b[0;34m(\u001b[0m\u001b[0;34m\"해당 \"\u001b[0m\u001b[0;34m+\u001b[0m\u001b[0mfilenames\u001b[0m\u001b[0;34m[\u001b[0m\u001b[0mcnt\u001b[0m\u001b[0;34m]\u001b[0m\u001b[0;34m.\u001b[0m\u001b[0msplit\u001b[0m\u001b[0;34m(\u001b[0m\u001b[0;34m\"\\\\\"\u001b[0m\u001b[0;34m)\u001b[0m\u001b[0;34m[\u001b[0m\u001b[0;36m1\u001b[0m\u001b[0;34m]\u001b[0m\u001b[0;34m+\u001b[0m\u001b[0;34m\"이미지는 \"\u001b[0m\u001b[0;34m+\u001b[0m\u001b[0mpre_ans_str\u001b[0m\u001b[0;34m+\u001b[0m\u001b[0;34m\"으로 추정됩니다.\"\u001b[0m\u001b[0;34m)\u001b[0m\u001b[0;34m\u001b[0m\u001b[0;34m\u001b[0m\u001b[0m\n\u001b[1;32m     12\u001b[0m     \u001b[0;32mif\u001b[0m \u001b[0mi\u001b[0m\u001b[0;34m[\u001b[0m\u001b[0;36m2\u001b[0m\u001b[0;34m]\u001b[0m \u001b[0;34m>=\u001b[0m \u001b[0;36m0.8\u001b[0m\u001b[0;34m:\u001b[0m \u001b[0mprint\u001b[0m\u001b[0;34m(\u001b[0m\u001b[0;34m\"해당 \"\u001b[0m\u001b[0;34m+\u001b[0m\u001b[0mfilenames\u001b[0m\u001b[0;34m[\u001b[0m\u001b[0mcnt\u001b[0m\u001b[0;34m]\u001b[0m\u001b[0;34m.\u001b[0m\u001b[0msplit\u001b[0m\u001b[0;34m(\u001b[0m\u001b[0;34m\"\\\\\"\u001b[0m\u001b[0;34m)\u001b[0m\u001b[0;34m[\u001b[0m\u001b[0;36m1\u001b[0m\u001b[0;34m]\u001b[0m\u001b[0;34m+\u001b[0m\u001b[0;34m\"이미지는 \"\u001b[0m\u001b[0;34m+\u001b[0m\u001b[0mpre_ans_str\u001b[0m\u001b[0;34m+\u001b[0m\u001b[0;34m\"로 추정됩니다.\"\u001b[0m\u001b[0;34m)\u001b[0m\u001b[0;34m\u001b[0m\u001b[0;34m\u001b[0m\u001b[0m\n",
            "\u001b[0;31mIndexError\u001b[0m: list index out of range"
          ]
        }
      ]
    },
    {
      "cell_type": "code",
      "metadata": {
        "id": "3FpKytyAxhbY",
        "colab_type": "code",
        "colab": {}
      },
      "source": [
        "image_w = 64\n",
        "image_h = 64\n",
        "pixels = image_h * image_w * 3\n",
        "\n",
        "X = []\n",
        "filenames = []"
      ],
      "execution_count": 68,
      "outputs": []
    },
    {
      "cell_type": "code",
      "metadata": {
        "id": "N5lN-WJHxhe5",
        "colab_type": "code",
        "colab": {}
      },
      "source": [
        "files = test_dir.glob('/*.png')"
      ],
      "execution_count": 69,
      "outputs": []
    },
    {
      "cell_type": "code",
      "metadata": {
        "id": "viGbDNgaNiK1",
        "colab_type": "code",
        "colab": {
          "base_uri": "https://localhost:8080/",
          "height": 389
        },
        "outputId": "d51697ba-0607-4922-93fb-d591504a297f"
      },
      "source": [
        "\n",
        "#model = load_model('./model/soundee_classification.model')\n",
        "\n",
        "prediction = model.predict(X)\n",
        "np.set_printoptions(formatter={'float': lambda x: \"{0:0.3f}\".format(x)})\n",
        "cnt = 0\n",
        "\n",
        "#이 비교는 그냥 파일들이 있으면 해당 파일과 비교. 카테고리와 함께 비교해서 진행하는 것은 _4 파일.\n",
        "for i in prediction:\n",
        "    pre_ans = i.argmax()  # 예측 레이블\n",
        "    print(i)\n",
        "    print(pre_ans)\n",
        "    pre_ans_str = ''\n",
        "    if pre_ans == 0: pre_ans_str = \"motor\"\n",
        "    elif pre_ans == 1: pre_ans_str = \"drop\"\n",
        "    elif pre_ans == 2: pre_ans_str = \"water\"\n",
        "    elif pre_ans == 3: pre_ans_str = \"babycrying\"\n",
        "    else: pre_ans_str = \"dog\"\n",
        "    if i[0] >= 0.8 : print(\"해당 \"+filenames[cnt].split(\"\\\\\")[1]+\"이미지는 \"+pre_ans_str+\"로 추정됩니다.\")\n",
        "    if i[1] >= 0.8: print(\"해당 \"+filenames[cnt].split(\"\\\\\")[1]+\"이미지는 \"+pre_ans_str+\"으로 추정됩니다.\")\n",
        "    if i[2] >= 0.8: print(\"해당 \"+filenames[cnt].split(\"\\\\\")[1]+\"이미지는 \"+pre_ans_str+\"로 추정됩니다.\")\n",
        "    if i[3] >= 0.8: print(\"해당 \"+filenames[cnt].split(\"\\\\\")[1]+\"이미지는 \"+pre_ans_str+\"로 추정됩니다.\")\n",
        "    if i[4] >= 0.8: print(\"해당 \"+filenames[cnt].split(\"\\\\\")[1]+\"이미지는 \"+pre_ans_str+\"로 추정됩니다.\")\n",
        "    cnt += 1\n",
        "    # print(i.argmax()) #얘가 레이블 [1. 0. 0.] 이런식으로 되어 있는 것을 숫자로 바꿔주는 것.\n",
        "    # 즉 얘랑, 나중에 카테고리 데이터 불러와서 카테고리랑 비교를 해서 같으면 맞는거고, 아니면 틀린거로 취급하면 된다.\n",
        "    # 이걸 한 것은 _4.py에."
      ],
      "execution_count": 75,
      "outputs": [
        {
          "output_type": "error",
          "ename": "UnboundLocalError",
          "evalue": "ignored",
          "traceback": [
            "\u001b[0;31m---------------------------------------------------------------------------\u001b[0m",
            "\u001b[0;31mUnboundLocalError\u001b[0m                         Traceback (most recent call last)",
            "\u001b[0;32m<ipython-input-75-5fd1b8966b7e>\u001b[0m in \u001b[0;36m<module>\u001b[0;34m()\u001b[0m\n\u001b[1;32m     10\u001b[0m \u001b[0;31m#model = load_model('./model/soundee_classification.model')\u001b[0m\u001b[0;34m\u001b[0m\u001b[0;34m\u001b[0m\u001b[0;34m\u001b[0m\u001b[0m\n\u001b[1;32m     11\u001b[0m \u001b[0;34m\u001b[0m\u001b[0m\n\u001b[0;32m---> 12\u001b[0;31m \u001b[0mprediction\u001b[0m \u001b[0;34m=\u001b[0m \u001b[0mmodel\u001b[0m\u001b[0;34m.\u001b[0m\u001b[0mpredict\u001b[0m\u001b[0;34m(\u001b[0m\u001b[0mX\u001b[0m\u001b[0;34m)\u001b[0m\u001b[0;34m\u001b[0m\u001b[0;34m\u001b[0m\u001b[0m\n\u001b[0m\u001b[1;32m     13\u001b[0m \u001b[0mnp\u001b[0m\u001b[0;34m.\u001b[0m\u001b[0mset_printoptions\u001b[0m\u001b[0;34m(\u001b[0m\u001b[0mformatter\u001b[0m\u001b[0;34m=\u001b[0m\u001b[0;34m{\u001b[0m\u001b[0;34m'float'\u001b[0m\u001b[0;34m:\u001b[0m \u001b[0;32mlambda\u001b[0m \u001b[0mx\u001b[0m\u001b[0;34m:\u001b[0m \u001b[0;34m\"{0:0.3f}\"\u001b[0m\u001b[0;34m.\u001b[0m\u001b[0mformat\u001b[0m\u001b[0;34m(\u001b[0m\u001b[0mx\u001b[0m\u001b[0;34m)\u001b[0m\u001b[0;34m}\u001b[0m\u001b[0;34m)\u001b[0m\u001b[0;34m\u001b[0m\u001b[0;34m\u001b[0m\u001b[0m\n\u001b[1;32m     14\u001b[0m \u001b[0mcnt\u001b[0m \u001b[0;34m=\u001b[0m \u001b[0;36m0\u001b[0m\u001b[0;34m\u001b[0m\u001b[0;34m\u001b[0m\u001b[0m\n",
            "\u001b[0;32m/usr/local/lib/python3.6/dist-packages/tensorflow/python/keras/engine/training.py\u001b[0m in \u001b[0;36m_method_wrapper\u001b[0;34m(self, *args, **kwargs)\u001b[0m\n\u001b[1;32m     86\u001b[0m       raise ValueError('{} is not supported in multi-worker mode.'.format(\n\u001b[1;32m     87\u001b[0m           method.__name__))\n\u001b[0;32m---> 88\u001b[0;31m     \u001b[0;32mreturn\u001b[0m \u001b[0mmethod\u001b[0m\u001b[0;34m(\u001b[0m\u001b[0mself\u001b[0m\u001b[0;34m,\u001b[0m \u001b[0;34m*\u001b[0m\u001b[0margs\u001b[0m\u001b[0;34m,\u001b[0m \u001b[0;34m**\u001b[0m\u001b[0mkwargs\u001b[0m\u001b[0;34m)\u001b[0m\u001b[0;34m\u001b[0m\u001b[0;34m\u001b[0m\u001b[0m\n\u001b[0m\u001b[1;32m     89\u001b[0m \u001b[0;34m\u001b[0m\u001b[0m\n\u001b[1;32m     90\u001b[0m   return tf_decorator.make_decorator(\n",
            "\u001b[0;32m/usr/local/lib/python3.6/dist-packages/tensorflow/python/keras/engine/training.py\u001b[0m in \u001b[0;36mpredict\u001b[0;34m(self, x, batch_size, verbose, steps, callbacks, max_queue_size, workers, use_multiprocessing)\u001b[0m\n\u001b[1;32m   1283\u001b[0m             \u001b[0mcallbacks\u001b[0m\u001b[0;34m.\u001b[0m\u001b[0mon_predict_batch_end\u001b[0m\u001b[0;34m(\u001b[0m\u001b[0mstep\u001b[0m\u001b[0;34m,\u001b[0m \u001b[0;34m{\u001b[0m\u001b[0;34m'outputs'\u001b[0m\u001b[0;34m:\u001b[0m \u001b[0mbatch_outputs\u001b[0m\u001b[0;34m}\u001b[0m\u001b[0;34m)\u001b[0m\u001b[0;34m\u001b[0m\u001b[0;34m\u001b[0m\u001b[0m\n\u001b[1;32m   1284\u001b[0m       \u001b[0mcallbacks\u001b[0m\u001b[0;34m.\u001b[0m\u001b[0mon_predict_end\u001b[0m\u001b[0;34m(\u001b[0m\u001b[0;34m)\u001b[0m\u001b[0;34m\u001b[0m\u001b[0;34m\u001b[0m\u001b[0m\n\u001b[0;32m-> 1285\u001b[0;31m     \u001b[0mall_outputs\u001b[0m \u001b[0;34m=\u001b[0m \u001b[0mnest\u001b[0m\u001b[0;34m.\u001b[0m\u001b[0mmap_structure_up_to\u001b[0m\u001b[0;34m(\u001b[0m\u001b[0mbatch_outputs\u001b[0m\u001b[0;34m,\u001b[0m \u001b[0mconcat\u001b[0m\u001b[0;34m,\u001b[0m \u001b[0moutputs\u001b[0m\u001b[0;34m)\u001b[0m\u001b[0;34m\u001b[0m\u001b[0;34m\u001b[0m\u001b[0m\n\u001b[0m\u001b[1;32m   1286\u001b[0m     \u001b[0;32mreturn\u001b[0m \u001b[0mtf_utils\u001b[0m\u001b[0;34m.\u001b[0m\u001b[0mto_numpy_or_python_type\u001b[0m\u001b[0;34m(\u001b[0m\u001b[0mall_outputs\u001b[0m\u001b[0;34m)\u001b[0m\u001b[0;34m\u001b[0m\u001b[0;34m\u001b[0m\u001b[0m\n\u001b[1;32m   1287\u001b[0m \u001b[0;34m\u001b[0m\u001b[0m\n",
            "\u001b[0;31mUnboundLocalError\u001b[0m: local variable 'batch_outputs' referenced before assignment"
          ]
        }
      ]
    },
    {
      "cell_type": "code",
      "metadata": {
        "id": "Qxf7UWpcNiOF",
        "colab_type": "code",
        "colab": {}
      },
      "source": [
        ""
      ],
      "execution_count": null,
      "outputs": []
    }
  ]
}